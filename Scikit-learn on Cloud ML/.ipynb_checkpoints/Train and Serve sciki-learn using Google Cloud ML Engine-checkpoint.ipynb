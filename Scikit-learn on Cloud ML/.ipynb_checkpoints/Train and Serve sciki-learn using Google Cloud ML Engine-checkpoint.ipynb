{
 "cells": [
  {
   "cell_type": "code",
   "execution_count": 32,
   "metadata": {},
   "outputs": [],
   "source": [
    "import pandas as pd\n",
    "from sklearn import model_selection\n",
    "from sklearn import tree\n",
    "from sklearn.metrics import accuracy_score\n",
    "from sklearn.externals import joblib"
   ]
  },
  {
   "cell_type": "code",
   "execution_count": 41,
   "metadata": {
    "collapsed": true
   },
   "outputs": [],
   "source": [
    "DATA_FILE = 'data/iris.data.csv'\n",
    "MODEL_FILE = 'iris_estimator.pkl'"
   ]
  },
  {
   "cell_type": "code",
   "execution_count": 42,
   "metadata": {},
   "outputs": [],
   "source": [
    "INPUT_FEATURES = ['sepal_length', 'sepal_width', 'petal_length', 'petal_width']\n",
    "TARGET_FEATURE = 'species'\n",
    "\n",
    "iris_data = pd.read_csv(DATA_FILE, header=0)\n",
    "X= iris_data[INPUT_FEATURES]\n",
    "y= iris_data[TARGET_FEATURE]"
   ]
  },
  {
   "cell_type": "code",
   "execution_count": 43,
   "metadata": {},
   "outputs": [
    {
     "name": "stdout",
     "output_type": "stream",
     "text": [
      "0.96\n"
     ]
    }
   ],
   "source": [
    "estimator = tree.DecisionTreeClassifier(max_leaf_nodes=3)\n",
    "estimator.fit(X=X, y=y)\n",
    "y_predicted = estimator.predict(X=X)\n",
    "accuracy = accuracy_score(y, y_predicted)\n",
    "print(accuracy)"
   ]
  },
  {
   "cell_type": "code",
   "execution_count": 45,
   "metadata": {},
   "outputs": [
    {
     "name": "stdout",
     "output_type": "stream",
     "text": [
      "['setosa' 'setosa' 'setosa' 'setosa' 'setosa']\n"
     ]
    }
   ],
   "source": [
    "joblib.dump(estimator, MODEL_FILE) \n",
    "loaded_estimator = joblib.load(MODEL_FILE) \n",
    "predictions = loaded_estimator.predict(X.iloc[:5,:])\n",
    "print(predictions)"
   ]
  },
  {
   "cell_type": "code",
   "execution_count": null,
   "metadata": {
    "collapsed": true
   },
   "outputs": [],
   "source": [
    "%%bash\n",
    "\n",
    "echo \"Submitting a Cloud ML Engine job...\"\n",
    "\n",
    "REGION=europe-west1\n",
    "TIER=BASIC\n",
    "BUCKET=ksalama-gcs-cloudml\n",
    "\n",
    "MODEL_NAME=\"iris_estimator\"\n",
    "\n",
    "PACKAGE_PATH=trainer\n",
    "TRAIN_FILE=gs://${BUCKET}/data/iris/iris.data.csv\n",
    "MODEL_DIR=gs://${BUCKET}/ml-models/iris_estimators\n",
    "\n",
    "CURRENT_DATE=`date +%Y%m%d_%H%M%S`\n",
    "JOB_NAME=train_${MODEL_NAME}_${CURRENT_DATE}\n",
    "\n",
    "gcloud ml-engine jobs submit training ${JOB_NAME} \\\n",
    "        --job-dir=${MODEL_DIR}/job_dir \\\n",
    "        --runtime-version=1.2 \\\n",
    "        --region=${REGION} \\\n",
    "        --scale-tier=${TIER} \\\n",
    "        --module-name=trainer.task \\\n",
    "        --package-path=${PACKAGE_PATH} \\\n",
    "        -- \\\n",
    "        --train-file=${TRAIN_FILE} \\\n",
    "        --model-dir=${MODEL_DIR}"
   ]
  },
  {
   "cell_type": "code",
   "execution_count": 46,
   "metadata": {},
   "outputs": [
    {
     "name": "stdout",
     "output_type": "stream",
     "text": [
      "gs://ksalama-gcs-cloudml/ml-models/iris_estimators/\n",
      "gs://ksalama-gcs-cloudml/ml-models/iris_estimators/iris_estimator.pkl\n",
      "gs://ksalama-gcs-cloudml/ml-models/iris_estimators/job_dir/\n"
     ]
    }
   ],
   "source": [
    "%%bash\n",
    "\n",
    "BUCKET=ksalama-gcs-cloudml\n",
    "\n",
    "gsutil ls gs://${BUCKET}/ml-models/iris_estimators"
   ]
  },
  {
   "cell_type": "code",
   "execution_count": 51,
   "metadata": {},
   "outputs": [
    {
     "name": "stderr",
     "output_type": "stream",
     "text": [
      "Created ml engine model [projects/ksalama-gcp-playground/models/iris_estimator].\n"
     ]
    }
   ],
   "source": [
    "%%bash \n",
    "\n",
    "MODEL_NAME=\"iris_estimator\"\n",
    "REGION=europe-west1\n",
    "\n",
    "gcloud ml-engine models create ${MODEL_NAME} --regions=${REGION}"
   ]
  },
  {
   "cell_type": "code",
   "execution_count": null,
   "metadata": {
    "collapsed": true
   },
   "outputs": [],
   "source": []
  }
 ],
 "metadata": {
  "kernelspec": {
   "display_name": "Python 3",
   "language": "python",
   "name": "python3"
  },
  "language_info": {
   "codemirror_mode": {
    "name": "ipython",
    "version": 3
   },
   "file_extension": ".py",
   "mimetype": "text/x-python",
   "name": "python",
   "nbconvert_exporter": "python",
   "pygments_lexer": "ipython3",
   "version": "3.6.1"
  }
 },
 "nbformat": 4,
 "nbformat_minor": 2
}
