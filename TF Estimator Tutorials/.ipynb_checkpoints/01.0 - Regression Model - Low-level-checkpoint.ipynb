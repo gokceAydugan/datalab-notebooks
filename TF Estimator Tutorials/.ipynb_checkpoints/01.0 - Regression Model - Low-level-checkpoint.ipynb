{
 "cells": [
  {
   "cell_type": "code",
   "execution_count": 1,
   "metadata": {
    "collapsed": true
   },
   "outputs": [
    {
     "name": "stdout",
     "output_type": "stream",
     "text": [
      "1.2.0\n"
     ]
    }
   ],
   "source": [
    "import tensorflow as tf\n",
    "import numpy as np \n",
    "import pandas as pd\n",
    "\n",
    "import shutil\n",
    "\n",
    "print(tf.__version__)"
   ]
  },
  {
   "cell_type": "code",
   "execution_count": 2,
   "metadata": {},
   "outputs": [
    {
     "name": "stdout",
     "output_type": "stream",
     "text": [
      "              x         y\n",
      "17262 -0.576482  0.145147\n",
      "4554   0.351912  0.067554\n",
      "19003 -0.510842  0.099759\n",
      "15196  0.925597 -0.345037\n",
      "9502  -0.334587 -0.358746\n"
     ]
    }
   ],
   "source": [
    "header = ['x','y','alpha','beta','target']\n",
    "train_df = pd.read_csv(\"data/train-data.csv\", names=header, header=None)\n",
    "valid_df = pd.read_csv(\"data/valid-data.csv\",  names=header, header=None)\n",
    "test_df = pd.read_csv(\"data/test-data.csv\",  names=header, header=None)\n",
    "\n",
    "numeric_columns = ['x','y']\n",
    "categorical_columns = ['alpha','beta']\n",
    "input_columns = numeric_columns+categorical_columns\n",
    "target_column = ['target']\n",
    "\n",
    "n = len(train_df)\n",
    "train_df.head()\n",
    "\n",
    "X_learn = train_df[input_columns]\n",
    "X_learn_num = train_df[numeric_columns]\n",
    "X_learn_cat = train_df[categorical_columns]\n",
    "y_learn = train_df[target_column]\n",
    "\n",
    "print(X_learn_num.head())"
   ]
  },
  {
   "cell_type": "code",
   "execution_count": 3,
   "metadata": {
    "collapsed": true
   },
   "outputs": [],
   "source": [
    "def get_batch(batch_size, batch_index, inputs,target):\n",
    "    start_index = batch_size * (batch_index-1) \n",
    "    end_index = batch_size*batch_index\n",
    "    X_batch_numeric = inputs.iloc[start_index:end_index,:][numeric_columns]\n",
    "    X_batch_categorical = inputs.iloc[start_index:end_index,:][categorical_columns]\n",
    "    y_batch = target[start_index:end_index]\n",
    "    return X_batch_numeric, X_batch_categorical, y_batch\n",
    "\n",
    "# inputs = train_df[input_columns]\n",
    "# target = train_df[target_column]\n",
    "# a,b,c = get_batch(3,1, inputs, target )\n",
    "# print(c.head())"
   ]
  },
  {
   "cell_type": "code",
   "execution_count": 4,
   "metadata": {
    "collapsed": true
   },
   "outputs": [],
   "source": [
    "from datetime import datetime \n",
    "model_dir = \"trained_models/ann_reg1\"\n",
    "now = datetime.utcnow().strftime(\"%Y%m%d%H%M%S\") \n",
    "root_logdir = model_dir+\"/logs\"\n",
    "logdir = \"{}/ run-{}/\".format( root_logdir, now)"
   ]
  },
  {
   "cell_type": "code",
   "execution_count": 5,
   "metadata": {
    "collapsed": true
   },
   "outputs": [],
   "source": []
  },
  {
   "cell_type": "code",
   "execution_count": null,
   "metadata": {
    "collapsed": true
   },
   "outputs": [],
   "source": []
  }
 ],
 "metadata": {
  "kernelspec": {
   "display_name": "Python 3",
   "language": "python",
   "name": "python3"
  },
  "language_info": {
   "codemirror_mode": {
    "name": "ipython",
    "version": 3
   },
   "file_extension": ".py",
   "mimetype": "text/x-python",
   "name": "python",
   "nbconvert_exporter": "python",
   "pygments_lexer": "ipython3",
   "version": "3.6.1"
  }
 },
 "nbformat": 4,
 "nbformat_minor": 2
}
