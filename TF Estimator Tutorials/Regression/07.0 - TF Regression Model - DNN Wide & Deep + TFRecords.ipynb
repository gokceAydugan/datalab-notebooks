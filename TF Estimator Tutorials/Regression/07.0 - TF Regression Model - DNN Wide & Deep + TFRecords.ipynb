{
 "cells": [
  {
   "cell_type": "code",
   "execution_count": 1,
   "metadata": {},
   "outputs": [
    {
     "name": "stderr",
     "output_type": "stream",
     "text": [
      "/Users/khalidsalama/anaconda/lib/python3.6/importlib/_bootstrap.py:205: RuntimeWarning: compiletime version 3.5 of module 'tensorflow.python.framework.fast_tensor_util' does not match runtime version 3.6\n",
      "  return f(*args, **kwds)\n"
     ]
    },
    {
     "name": "stdout",
     "output_type": "stream",
     "text": [
      "1.4.0\n"
     ]
    }
   ],
   "source": [
    "import tensorflow as tf\n",
    "from tensorflow import data\n",
    "import shutil\n",
    "import math\n",
    "from datetime import datetime\n",
    "from tensorflow.python.feature_column import feature_column\n",
    "\n",
    "from tensorflow.contrib.learn import learn_runner\n",
    "from tensorflow.contrib.learn import make_export_strategy\n",
    "\n",
    "print(tf.__version__)"
   ]
  },
  {
   "cell_type": "markdown",
   "metadata": {},
   "source": [
    "## Steps to use the TF Estimator APIs\n",
    "1. Define dataset **metadata**\n",
    "2. Define **data input function** to read the data from the source (.tfrecords) + **apply pre-processing**\n",
    "3. Create TF **feature columns** based on metadata + **extended feature columns**\n",
    "4. Instantiate an **estimator** (LinearCombinedDNN) with the required **feature columns (wide/deep) & parameters**\n",
    "5. Define a **serving function**\n",
    "6. Run **Experiment** by supplying training and validation data, as well as required parameters\n",
    "7. **Evaluate** the model using test data\n",
    "8. Perform **predictions**"
   ]
  },
  {
   "cell_type": "code",
   "execution_count": 2,
   "metadata": {
    "collapsed": true
   },
   "outputs": [],
   "source": [
    "train_data_files = ['data/train-data.tfrecords']\n",
    "valid_data_files = ['data/valid-data.tfrecords']\n",
    "test_data_files = ['data/test-data.tfrecords']\n",
    "\n",
    "model_name = 'reg-model-05'\n",
    "\n",
    "resume = False\n",
    "train = True\n",
    "preprocess = True"
   ]
  },
  {
   "cell_type": "markdown",
   "metadata": {},
   "source": [
    "## 1. Define Dataset Metadata"
   ]
  },
  {
   "cell_type": "code",
   "execution_count": 3,
   "metadata": {},
   "outputs": [
    {
     "name": "stdout",
     "output_type": "stream",
     "text": [
      "Header: ['key', 'x', 'y', 'alpha', 'beta', 'target']\n",
      "Numeric Features: ['x', 'y']\n",
      "Categorical Features: ['alpha', 'beta']\n",
      "Target: target\n",
      "Unused Features: ['key']\n"
     ]
    }
   ],
   "source": [
    "HEADER = ['key','x','y','alpha','beta','target']\n",
    "HEADER_DEFAULTS = [[0], [0.0], [0.0], ['NA'], ['NA'], [0.0]]\n",
    "\n",
    "NUMERIC_FEATURE_NAMES = ['x', 'y']  \n",
    "\n",
    "CATEGORICAL_FEATURE_NAMES_WITH_VOCABULARY = {'alpha':['ax01', 'ax02'], 'beta':['bx01', 'bx02']}\n",
    "CATEGORICAL_FEATURE_NAMES = list(CATEGORICAL_FEATURE_NAMES_WITH_VOCABULARY.keys())\n",
    "\n",
    "FEATURE_NAMES = NUMERIC_FEATURE_NAMES + CATEGORICAL_FEATURE_NAMES\n",
    "\n",
    "TARGET_NAME = 'target'\n",
    "\n",
    "UNUSED_FEATURE_NAMES = list(set(HEADER) - set(FEATURE_NAMES) - {TARGET_NAME})\n",
    "\n",
    "print(\"Header: {}\".format(HEADER))\n",
    "print(\"Numeric Features: {}\".format(NUMERIC_FEATURE_NAMES))\n",
    "print(\"Categorical Features: {}\".format(CATEGORICAL_FEATURE_NAMES))\n",
    "print(\"Target: {}\".format(TARGET_NAME))\n",
    "print(\"Unused Features: {}\".format(UNUSED_FEATURE_NAMES))"
   ]
  },
  {
   "cell_type": "markdown",
   "metadata": {},
   "source": [
    "## 2. Define Data Input Function"
   ]
  },
  {
   "cell_type": "markdown",
   "metadata": {},
   "source": [
    "### a. parsing and preprocessing logic"
   ]
  },
  {
   "cell_type": "code",
   "execution_count": 4,
   "metadata": {
    "collapsed": true
   },
   "outputs": [],
   "source": [
    "def parse_tf_example(example_proto):\n",
    "\n",
    "    feature_spec = {}\n",
    "\n",
    "    for feature_name in NUMERIC_FEATURE_NAMES:\n",
    "        feature_spec[feature_name] = tf.FixedLenFeature(shape=(1), dtype=tf.float32)\n",
    "    \n",
    "    for feature_name in CATEGORICAL_FEATURE_NAMES:\n",
    "        feature_spec[feature_name] = tf.FixedLenFeature(shape=(1), dtype=tf.string)\n",
    "    \n",
    "    feature_spec[TARGET_NAME] = tf.FixedLenFeature(shape=(1), dtype=tf.float32)\n",
    "\n",
    "    parsed_features = tf.parse_example(serialized=example_proto, features=feature_spec)\n",
    "    \n",
    "    target = parsed_features.pop(TARGET_NAME)\n",
    "    \n",
    "    return parsed_features, target\n",
    "\n",
    "\n",
    "def process_features(features):\n",
    "    \n",
    "    if preprocess:\n",
    "        features[\"x_2\"] = tf.square(features['x'])\n",
    "        features[\"y_2\"] = tf.square(features['y'])\n",
    "        features[\"xy\"] = tf.multiply(features['x'], features['y']) # features['x'] * features['y']\n",
    "        features['dist_xy'] =  tf.sqrt(tf.squared_difference(features['x'],features['y']))\n",
    "    \n",
    "    return features"
   ]
  },
  {
   "cell_type": "markdown",
   "metadata": {},
   "source": [
    "### b. data pipeline input function"
   ]
  },
  {
   "cell_type": "code",
   "execution_count": 5,
   "metadata": {
    "collapsed": true
   },
   "outputs": [],
   "source": [
    "def tfrecods_input_fn(file_names, mode=tf.estimator.ModeKeys.EVAL, \n",
    "                 num_epochs=None, \n",
    "                 batch_size=200):\n",
    "    \n",
    "    shuffle = True if mode == tf.estimator.ModeKeys.TRAIN else False\n",
    "    \n",
    "    print(\"\")\n",
    "    print(\"* data input_fn:\")\n",
    "    print(\"================\")\n",
    "    print(\"Input file(s): {}\".format(file_names))\n",
    "    print(\"Batch size: {}\".format(batch_size))\n",
    "    print(\"Epoch Count: {}\".format(num_epochs))\n",
    "    print(\"Mode: {}\".format(mode))\n",
    "    print(\"Shuffle: {}\".format(shuffle))\n",
    "    print(\"================\")\n",
    "    print(\"\")\n",
    "\n",
    "    dataset = data.TFRecordDataset(filenames=file_names)\n",
    "\n",
    "    if shuffle:\n",
    "        dataset = dataset.shuffle(buffer_size=2 * batch_size + 1)\n",
    "    \n",
    "    dataset = dataset.batch(batch_size)\n",
    "    dataset = dataset.map(lambda tf_example: parse_tf_example(tf_example))\n",
    "    dataset = dataset.map(lambda features, target: (process_features(features), target))\n",
    "    dataset = dataset.repeat(num_epochs)\n",
    "    iterator = dataset.make_one_shot_iterator()\n",
    "    \n",
    "    features, target = iterator.get_next()\n",
    "    return features, target"
   ]
  },
  {
   "cell_type": "code",
   "execution_count": 6,
   "metadata": {},
   "outputs": [
    {
     "name": "stdout",
     "output_type": "stream",
     "text": [
      "\n",
      "* data input_fn:\n",
      "================\n",
      "Input file(s): ['data/train-data.tfrecords']\n",
      "Batch size: 200\n",
      "Epoch Count: None\n",
      "Mode: eval\n",
      "Shuffle: False\n",
      "================\n",
      "\n",
      "Feature read from TFRecords: ['alpha', 'beta', 'x', 'y', 'x_2', 'y_2', 'xy', 'dist_xy']\n",
      "Target read from TFRecords: Tensor(\"IteratorGetNext:8\", shape=(?, 1), dtype=float32)\n"
     ]
    }
   ],
   "source": [
    "features, target = tfrecods_input_fn(file_names=train_data_files)\n",
    "print(\"Feature read from TFRecords: {}\".format(list(features.keys())))\n",
    "print(\"Target read from TFRecords: {}\".format(target))"
   ]
  },
  {
   "cell_type": "markdown",
   "metadata": {},
   "source": [
    "## 3. Define Feature Columns"
   ]
  },
  {
   "cell_type": "code",
   "execution_count": 7,
   "metadata": {},
   "outputs": [
    {
     "name": "stdout",
     "output_type": "stream",
     "text": [
      "Feature Columns: {'x': _NumericColumn(key='x', shape=(1,), default_value=None, dtype=tf.float32, normalizer_fn=None), 'y': _NumericColumn(key='y', shape=(1,), default_value=None, dtype=tf.float32, normalizer_fn=None), 'x_2': _NumericColumn(key='x_2', shape=(1,), default_value=None, dtype=tf.float32, normalizer_fn=None), 'y_2': _NumericColumn(key='y_2', shape=(1,), default_value=None, dtype=tf.float32, normalizer_fn=None), 'xy': _NumericColumn(key='xy', shape=(1,), default_value=None, dtype=tf.float32, normalizer_fn=None), 'dist_xy': _NumericColumn(key='dist_xy', shape=(1,), default_value=None, dtype=tf.float32, normalizer_fn=None), 'alpha': _VocabularyListCategoricalColumn(key='alpha', vocabulary_list=('ax01', 'ax02'), dtype=tf.string, default_value=-1, num_oov_buckets=0), 'beta': _VocabularyListCategoricalColumn(key='beta', vocabulary_list=('bx01', 'bx02'), dtype=tf.string, default_value=-1, num_oov_buckets=0), 'alpha_X_beta': _CrossedColumn(keys=(_VocabularyListCategoricalColumn(key='alpha', vocabulary_list=('ax01', 'ax02'), dtype=tf.string, default_value=-1, num_oov_buckets=0), _VocabularyListCategoricalColumn(key='beta', vocabulary_list=('bx01', 'bx02'), dtype=tf.string, default_value=-1, num_oov_buckets=0)), hash_bucket_size=4, hash_key=None)}\n"
     ]
    }
   ],
   "source": [
    "def get_feature_columns():\n",
    "    \n",
    "    CONSTRUCTED_NUMERIC_FEATURES_NAMES = ['x_2', 'y_2', 'xy', 'dist_xy']\n",
    "    all_numeric_feature_names = NUMERIC_FEATURE_NAMES.copy() \n",
    "    \n",
    "    if preprocess:\n",
    "        all_numeric_feature_names += CONSTRUCTED_NUMERIC_FEATURES_NAMES\n",
    "\n",
    "    numeric_columns = {feature_name: tf.feature_column.numeric_column(feature_name)\n",
    "                       for feature_name in all_numeric_feature_names}\n",
    "\n",
    "    categorical_column_with_vocabulary = \\\n",
    "        {item[0]: tf.feature_column.categorical_column_with_vocabulary_list(item[0], item[1])\n",
    "         for item in CATEGORICAL_FEATURE_NAMES_WITH_VOCABULARY.items()}\n",
    "        \n",
    "    feature_columns = {}\n",
    "\n",
    "    if numeric_columns is not None:\n",
    "        feature_columns.update(numeric_columns)\n",
    "\n",
    "    if categorical_column_with_vocabulary is not None:\n",
    "        feature_columns.update(categorical_column_with_vocabulary)\n",
    "\n",
    "    # apply feature extentions\n",
    "    \n",
    "    feature_columns['alpha_X_beta'] = tf.feature_column.crossed_column(\n",
    "        [feature_columns['alpha'], feature_columns['beta']], 4)\n",
    "    \n",
    "    return feature_columns\n",
    "\n",
    "feature_columns = get_feature_columns()\n",
    "print(\"Feature Columns: {}\".format(feature_columns))"
   ]
  },
  {
   "cell_type": "markdown",
   "metadata": {},
   "source": [
    "## 4. Instantiate an Estimator"
   ]
  },
  {
   "cell_type": "code",
   "execution_count": 8,
   "metadata": {
    "collapsed": true
   },
   "outputs": [],
   "source": [
    "def create_estimator(run_config, hparams):\n",
    "    \n",
    "    feature_columns = list(get_feature_columns().values())\n",
    "    \n",
    "    dense_columns = list(\n",
    "        filter(lambda column: isinstance(column, feature_column._NumericColumn),\n",
    "               feature_columns\n",
    "        )\n",
    "    )\n",
    "\n",
    "    categorical_columns = list(\n",
    "        filter(lambda column: isinstance(column, feature_column._VocabularyListCategoricalColumn) |\n",
    "                              isinstance(column, feature_column._BucketizedColumn),\n",
    "                   feature_columns)\n",
    "    )\n",
    "\n",
    "    indicator_columns = list(\n",
    "            map(lambda column: tf.feature_column.indicator_column(column),\n",
    "                categorical_columns)\n",
    "    )\n",
    "    \n",
    "    estimator = tf.estimator.DNNLinearCombinedRegressor(\n",
    "        \n",
    "        dnn_feature_columns= dense_columns + indicator_columns,\n",
    "        linear_feature_columns = categorical_columns,\n",
    "        \n",
    "        dnn_hidden_units= hparams.hidden_units,\n",
    "        \n",
    "        dnn_optimizer= tf.train.AdamOptimizer(),\n",
    "        \n",
    "        dnn_activation_fn= tf.nn.elu,\n",
    "        dnn_dropout= hparams.dropout_prob,\n",
    "        \n",
    "        config= run_config\n",
    "    )\n",
    "    \n",
    "    print(\"\")\n",
    "    print(\"Estimator Type: {}\".format(type(estimator)))\n",
    "    print(\"\")\n",
    "    \n",
    "    return estimator"
   ]
  },
  {
   "cell_type": "markdown",
   "metadata": {},
   "source": [
    "## 5. Define Serving Funcion"
   ]
  },
  {
   "cell_type": "code",
   "execution_count": 9,
   "metadata": {
    "collapsed": true
   },
   "outputs": [],
   "source": [
    "def csv_serving_input_fn():\n",
    "    \n",
    "    SERVING_HEADER = ['x','y','alpha','beta']\n",
    "    SERVING_HEADER_DEFAULTS = [[0.0], [0.0], ['NA'], ['NA']]\n",
    "\n",
    "    rows_string_tensor = tf.placeholder(dtype=tf.string,\n",
    "                                         shape=[None],\n",
    "                                         name='rows_string_tensor')\n",
    "    \n",
    "    receiver_tensor = {'rows': rows_string_tensor}\n",
    "\n",
    "    row_columns = tf.expand_dims(rows_string_tensor, -1)\n",
    "    columns = tf.decode_csv(row_columns, record_defaults=SERVING_HEADER_DEFAULTS)\n",
    "    features = dict(zip(SERVING_HEADER, columns))\n",
    "\n",
    "    return tf.estimator.export.ServingInputReceiver(\n",
    "        process_features(features), receiver_tensor)"
   ]
  },
  {
   "cell_type": "markdown",
   "metadata": {},
   "source": [
    "## 6. Run Experiment"
   ]
  },
  {
   "cell_type": "markdown",
   "metadata": {},
   "source": [
    "### a. Define Experiment Function"
   ]
  },
  {
   "cell_type": "code",
   "execution_count": 10,
   "metadata": {
    "collapsed": true
   },
   "outputs": [],
   "source": [
    "def generate_experiment_fn(**experiment_args):\n",
    "\n",
    "    def _experiment_fn(run_config, hparams):\n",
    "\n",
    "        train_input_fn = lambda: tfrecods_input_fn(\n",
    "            train_data_files,\n",
    "            mode = tf.contrib.learn.ModeKeys.TRAIN,\n",
    "            num_epochs=hparams.num_epochs,\n",
    "            batch_size=hparams.batch_size\n",
    "        )\n",
    "\n",
    "        eval_input_fn = lambda: tfrecods_input_fn(\n",
    "            valid_data_files,\n",
    "            mode=tf.contrib.learn.ModeKeys.EVAL,\n",
    "            num_epochs=1,\n",
    "            batch_size=hparams.batch_size\n",
    "        )\n",
    "\n",
    "        estimator = create_estimator(run_config, hparams)\n",
    "\n",
    "        return tf.contrib.learn.Experiment(\n",
    "            estimator,\n",
    "            train_input_fn=train_input_fn,\n",
    "            eval_input_fn=eval_input_fn,\n",
    "            eval_steps=None,\n",
    "            #min_eval_frequency=1,\n",
    "            #eval_hooks=[validation_monitor],\n",
    "            **experiment_args\n",
    "        )\n",
    "\n",
    "    return _experiment_fn"
   ]
  },
  {
   "cell_type": "markdown",
   "metadata": {},
   "source": [
    "### b. Set HParam and RunConfig"
   ]
  },
  {
   "cell_type": "code",
   "execution_count": 11,
   "metadata": {},
   "outputs": [
    {
     "name": "stdout",
     "output_type": "stream",
     "text": [
      "trained_models/reg-model-05\n"
     ]
    }
   ],
   "source": [
    "hparams  = tf.contrib.training.HParams(\n",
    "    num_epochs = 100,\n",
    "    batch_size = 500,\n",
    "    hidden_units=[16, 12, 8], \n",
    "    dropout_prob = 0.0)\n",
    "\n",
    "model_dir = 'trained_models/{}'.format(model_name)\n",
    "\n",
    "run_config = tf.contrib.learn.RunConfig(\n",
    "            model_dir=model_dir\n",
    ")\n",
    "\n",
    "print(run_config.model_dir)"
   ]
  },
  {
   "cell_type": "markdown",
   "metadata": {},
   "source": [
    "### c. Run Experiment via learn_runner"
   ]
  },
  {
   "cell_type": "code",
   "execution_count": 12,
   "metadata": {},
   "outputs": [
    {
     "name": "stdout",
     "output_type": "stream",
     "text": [
      "Removing previous artifacts...\n",
      "Experiment started at 22:41:11\n",
      ".......................................\n",
      "WARNING:tensorflow:RunConfig.uid (from tensorflow.contrib.learn.python.learn.estimators.run_config) is experimental and may change or be removed at any time, and without warning.\n",
      "INFO:tensorflow:Using config: {'_task_type': None, '_task_id': 0, '_cluster_spec': <tensorflow.python.training.server_lib.ClusterSpec object at 0x11b64ea20>, '_master': '', '_num_ps_replicas': 0, '_num_worker_replicas': 0, '_environment': 'local', '_is_chief': True, '_evaluation_master': '', '_tf_config': gpu_options {\n",
      "  per_process_gpu_memory_fraction: 1\n",
      "}\n",
      ", '_tf_random_seed': None, '_save_summary_steps': 100, '_save_checkpoints_secs': 600, '_log_step_count_steps': 100, '_session_config': None, '_save_checkpoints_steps': None, '_keep_checkpoint_max': 5, '_keep_checkpoint_every_n_hours': 10000, '_model_dir': 'trained_models/reg-model-05'}\n",
      "\n",
      "Estimator Type: <class 'tensorflow.python.estimator.canned.dnn_linear_combined.DNNLinearCombinedRegressor'>\n",
      "\n",
      "WARNING:tensorflow:RunConfig.uid (from tensorflow.contrib.learn.python.learn.estimators.run_config) is experimental and may change or be removed at any time, and without warning.\n",
      "WARNING:tensorflow:From /Users/khalidsalama/anaconda/lib/python3.6/site-packages/tensorflow/contrib/learn/python/learn/monitors.py:267: BaseMonitor.__init__ (from tensorflow.contrib.learn.python.learn.monitors) is deprecated and will be removed after 2016-12-05.\n",
      "Instructions for updating:\n",
      "Monitors are deprecated. Please use tf.train.SessionRunHook.\n",
      "\n",
      "* data input_fn:\n",
      "================\n",
      "Input file(s): ['data/train-data.tfrecords']\n",
      "Batch size: 500\n",
      "Epoch Count: 100\n",
      "Mode: train\n",
      "Shuffle: True\n",
      "================\n",
      "\n",
      "INFO:tensorflow:Create CheckpointSaverHook.\n",
      "INFO:tensorflow:Saving checkpoints for 1 into trained_models/reg-model-05/model.ckpt.\n",
      "\n",
      "* data input_fn:\n",
      "================\n",
      "Input file(s): ['data/valid-data.tfrecords']\n",
      "Batch size: 500\n",
      "Epoch Count: 1\n",
      "Mode: eval\n",
      "Shuffle: False\n",
      "================\n",
      "\n",
      "INFO:tensorflow:Starting evaluation at 2017-11-03-22:41:18\n",
      "INFO:tensorflow:Restoring parameters from trained_models/reg-model-05/model.ckpt-1\n",
      "INFO:tensorflow:Finished evaluation at 2017-11-03-22:41:18\n",
      "INFO:tensorflow:Saving dict for global step 1: average_loss = 326.934, global_step = 1, loss = 163467.0\n",
      "INFO:tensorflow:Validation (step 1): average_loss = 326.934, loss = 163467.0, global_step = 1\n",
      "INFO:tensorflow:loss = 154852.0, step = 1\n",
      "INFO:tensorflow:global_step/sec: 39.0703\n",
      "INFO:tensorflow:loss = 128700.0, step = 101 (0.572 sec)\n",
      "INFO:tensorflow:global_step/sec: 238.162\n",
      "INFO:tensorflow:loss = 125805.0, step = 201 (0.423 sec)\n",
      "INFO:tensorflow:global_step/sec: 232.85\n",
      "INFO:tensorflow:loss = 122122.0, step = 301 (0.429 sec)\n",
      "INFO:tensorflow:global_step/sec: 196.795\n",
      "INFO:tensorflow:loss = 80912.3, step = 401 (0.510 sec)\n",
      "INFO:tensorflow:global_step/sec: 268.963\n",
      "INFO:tensorflow:loss = 87439.1, step = 501 (0.367 sec)\n",
      "INFO:tensorflow:global_step/sec: 233.501\n",
      "INFO:tensorflow:loss = 65530.9, step = 601 (0.431 sec)\n",
      "INFO:tensorflow:global_step/sec: 259.441\n",
      "INFO:tensorflow:loss = 64107.0, step = 701 (0.384 sec)\n",
      "INFO:tensorflow:global_step/sec: 288.405\n",
      "INFO:tensorflow:loss = 64598.7, step = 801 (0.345 sec)\n",
      "INFO:tensorflow:global_step/sec: 293.889\n",
      "INFO:tensorflow:loss = 61921.5, step = 901 (0.340 sec)\n",
      "INFO:tensorflow:global_step/sec: 294.191\n",
      "INFO:tensorflow:loss = 66445.7, step = 1001 (0.340 sec)\n",
      "INFO:tensorflow:global_step/sec: 291.252\n",
      "INFO:tensorflow:loss = 68571.5, step = 1101 (0.343 sec)\n",
      "INFO:tensorflow:global_step/sec: 264.471\n",
      "INFO:tensorflow:loss = 66345.2, step = 1201 (0.380 sec)\n",
      "INFO:tensorflow:global_step/sec: 236.424\n",
      "INFO:tensorflow:loss = 63365.2, step = 1301 (0.423 sec)\n",
      "INFO:tensorflow:global_step/sec: 179.337\n",
      "INFO:tensorflow:loss = 63294.4, step = 1401 (0.559 sec)\n",
      "INFO:tensorflow:global_step/sec: 211.687\n",
      "INFO:tensorflow:loss = 67882.0, step = 1501 (0.472 sec)\n",
      "INFO:tensorflow:global_step/sec: 208.193\n",
      "INFO:tensorflow:loss = 63021.4, step = 1601 (0.478 sec)\n",
      "INFO:tensorflow:global_step/sec: 210.03\n",
      "INFO:tensorflow:loss = 67446.8, step = 1701 (0.485 sec)\n",
      "INFO:tensorflow:global_step/sec: 184.113\n",
      "INFO:tensorflow:loss = 62041.4, step = 1801 (0.536 sec)\n",
      "INFO:tensorflow:global_step/sec: 217.452\n",
      "INFO:tensorflow:loss = 65216.4, step = 1901 (0.461 sec)\n",
      "INFO:tensorflow:global_step/sec: 209.439\n",
      "INFO:tensorflow:loss = 63874.0, step = 2001 (0.477 sec)\n",
      "INFO:tensorflow:global_step/sec: 210.359\n",
      "INFO:tensorflow:loss = 67516.0, step = 2101 (0.475 sec)\n",
      "INFO:tensorflow:global_step/sec: 207.997\n",
      "INFO:tensorflow:loss = 63456.2, step = 2201 (0.483 sec)\n",
      "INFO:tensorflow:global_step/sec: 197.978\n",
      "INFO:tensorflow:loss = 60817.9, step = 2301 (0.506 sec)\n",
      "INFO:tensorflow:Saving checkpoints for 2400 into trained_models/reg-model-05/model.ckpt.\n",
      "INFO:tensorflow:Loss for final step: 52753.2.\n",
      "\n",
      "* data input_fn:\n",
      "================\n",
      "Input file(s): ['data/valid-data.tfrecords']\n",
      "Batch size: 500\n",
      "Epoch Count: 1\n",
      "Mode: eval\n",
      "Shuffle: False\n",
      "================\n",
      "\n",
      "INFO:tensorflow:Starting evaluation at 2017-11-03-22:41:31\n",
      "INFO:tensorflow:Restoring parameters from trained_models/reg-model-05/model.ckpt-2400\n",
      "INFO:tensorflow:Finished evaluation at 2017-11-03-22:41:32\n",
      "INFO:tensorflow:Saving dict for global step 2400: average_loss = 124.34, global_step = 2400, loss = 62170.0\n",
      "INFO:tensorflow:Restoring parameters from trained_models/reg-model-05/model.ckpt-2400\n",
      "INFO:tensorflow:Assets added to graph.\n",
      "INFO:tensorflow:No assets to write.\n",
      "INFO:tensorflow:SavedModel written to: b\"trained_models/reg-model-05/export/Servo/temp-b'1509748893'/saved_model.pb\"\n",
      ".......................................\n",
      "Experiment finished at 22:41:34\n",
      "\n",
      "Experiment elapsed time: 22.709884 seconds\n"
     ]
    }
   ],
   "source": [
    "if not resume:\n",
    "    print(\"Removing previous artifacts...\")\n",
    "    shutil.rmtree(model_dir, ignore_errors=True)\n",
    "else:\n",
    "    print(\"Resuming training...\") \n",
    "\n",
    "if train:\n",
    "    tf.logging.set_verbosity(tf.logging.INFO)\n",
    "    \n",
    "    time_start = datetime.utcnow() \n",
    "    print(\"Experiment started at {}\".format(time_start.strftime(\"%H:%M:%S\")))\n",
    "    print(\".......................................\") \n",
    "    \n",
    "    \n",
    "    learn_runner.run(\n",
    "        experiment_fn=generate_experiment_fn(\n",
    "\n",
    "            export_strategies=[make_export_strategy(\n",
    "                csv_serving_input_fn,\n",
    "                exports_to_keep=1\n",
    "            )]\n",
    "        ),\n",
    "        run_config=run_config,\n",
    "        schedule=\"train_and_evaluate\",\n",
    "        hparams=hparams\n",
    "    )\n",
    "    \n",
    "    time_end = datetime.utcnow() \n",
    "    print(\".......................................\")\n",
    "    print(\"Experiment finished at {}\".format(time_end.strftime(\"%H:%M:%S\")))\n",
    "    print(\"\")\n",
    "    time_elapsed = time_end - time_start\n",
    "    print(\"Experiment elapsed time: {} seconds\".format(time_elapsed.total_seconds()))\n",
    "    "
   ]
  },
  {
   "cell_type": "markdown",
   "metadata": {},
   "source": [
    "## 7. Evaluate the Model"
   ]
  },
  {
   "cell_type": "code",
   "execution_count": 15,
   "metadata": {},
   "outputs": [
    {
     "name": "stdout",
     "output_type": "stream",
     "text": [
      "INFO:tensorflow:Using config: {'_task_type': None, '_task_id': 0, '_cluster_spec': <tensorflow.python.training.server_lib.ClusterSpec object at 0x11b64ea20>, '_master': '', '_num_ps_replicas': 0, '_num_worker_replicas': 0, '_environment': 'local', '_is_chief': True, '_evaluation_master': '', '_tf_config': gpu_options {\n",
      "  per_process_gpu_memory_fraction: 1\n",
      "}\n",
      ", '_tf_random_seed': None, '_save_summary_steps': 100, '_save_checkpoints_secs': 600, '_log_step_count_steps': 100, '_session_config': None, '_save_checkpoints_steps': None, '_keep_checkpoint_max': 5, '_keep_checkpoint_every_n_hours': 10000, '_model_dir': 'trained_models/reg-model-05'}\n",
      "\n",
      "Estimator Type: <class 'tensorflow.python.estimator.canned.dnn_linear_combined.DNNLinearCombinedRegressor'>\n",
      "\n",
      "\n",
      "* data input_fn:\n",
      "================\n",
      "Input file(s): ['data/train-data.tfrecords']\n",
      "Batch size: 12000\n",
      "Epoch Count: None\n",
      "Mode: eval\n",
      "Shuffle: False\n",
      "================\n",
      "\n",
      "INFO:tensorflow:Starting evaluation at 2017-11-03-22:42:02\n",
      "INFO:tensorflow:Restoring parameters from trained_models/reg-model-05/model.ckpt-2400\n",
      "INFO:tensorflow:Evaluation [1/1]\n",
      "INFO:tensorflow:Finished evaluation at 2017-11-03-22:42:03\n",
      "INFO:tensorflow:Saving dict for global step 2400: average_loss = 114.36, global_step = 2400, loss = 1.37232e+06\n",
      "\n",
      "############################################################################################\n",
      "# Train RMSE: 10.69391 - {'average_loss': 114.35964, 'loss': 1372315.8, 'global_step': 2400}\n",
      "############################################################################################\n",
      "\n",
      "* data input_fn:\n",
      "================\n",
      "Input file(s): ['data/valid-data.tfrecords']\n",
      "Batch size: 3000\n",
      "Epoch Count: None\n",
      "Mode: eval\n",
      "Shuffle: False\n",
      "================\n",
      "\n",
      "INFO:tensorflow:Starting evaluation at 2017-11-03-22:42:04\n",
      "INFO:tensorflow:Restoring parameters from trained_models/reg-model-05/model.ckpt-2400\n",
      "INFO:tensorflow:Evaluation [1/1]\n",
      "INFO:tensorflow:Finished evaluation at 2017-11-03-22:42:04\n",
      "INFO:tensorflow:Saving dict for global step 2400: average_loss = 124.34, global_step = 2400, loss = 373020.0\n",
      "\n",
      "############################################################################################\n",
      "# Valid RMSE: 11.15079 - {'average_loss': 124.34007, 'loss': 373020.19, 'global_step': 2400}\n",
      "############################################################################################\n",
      "\n",
      "* data input_fn:\n",
      "================\n",
      "Input file(s): ['data/test-data.tfrecords']\n",
      "Batch size: 5000\n",
      "Epoch Count: None\n",
      "Mode: eval\n",
      "Shuffle: False\n",
      "================\n",
      "\n",
      "INFO:tensorflow:Starting evaluation at 2017-11-03-22:42:05\n",
      "INFO:tensorflow:Restoring parameters from trained_models/reg-model-05/model.ckpt-2400\n",
      "INFO:tensorflow:Evaluation [1/1]\n",
      "INFO:tensorflow:Finished evaluation at 2017-11-03-22:42:05\n",
      "INFO:tensorflow:Saving dict for global step 2400: average_loss = 126.306, global_step = 2400, loss = 631532.0\n",
      "\n",
      "############################################################################################\n",
      "# Test RMSE: 11.23861 - {'average_loss': 126.30643, 'loss': 631532.12, 'global_step': 2400}\n",
      "############################################################################################\n"
     ]
    }
   ],
   "source": [
    "train_size = 12000\n",
    "valid_size = 3000\n",
    "test_size = 5000\n",
    "\n",
    "train_input_fn = lambda: tfrecods_input_fn(file_names= train_data_files, \n",
    "                                      mode= tf.estimator.ModeKeys.EVAL,\n",
    "                                      batch_size= train_size)\n",
    "\n",
    "valid_input_fn = lambda: tfrecods_input_fn(file_names= valid_data_files, \n",
    "                                      mode= tf.estimator.ModeKeys.EVAL,\n",
    "                                      batch_size= valid_size)\n",
    "\n",
    "test_input_fn = lambda: tfrecods_input_fn(file_names= test_data_files, \n",
    "                                      mode= tf.estimator.ModeKeys.EVAL,\n",
    "                                      batch_size= test_size)\n",
    "\n",
    "estimator = create_estimator(run_config, hparams)\n",
    "\n",
    "train_results = estimator.evaluate(input_fn=train_input_fn, steps=1)\n",
    "train_rmse = round(math.sqrt(train_results[\"average_loss\"]),5)\n",
    "print()\n",
    "print(\"############################################################################################\")\n",
    "print(\"# Train RMSE: {} - {}\".format(train_rmse, train_results))\n",
    "print(\"############################################################################################\")\n",
    "\n",
    "valid_results = estimator.evaluate(input_fn=valid_input_fn, steps=1)\n",
    "valid_rmse = round(math.sqrt(valid_results[\"average_loss\"]),5)\n",
    "print()\n",
    "print(\"############################################################################################\")\n",
    "print(\"# Valid RMSE: {} - {}\".format(valid_rmse,valid_results))\n",
    "print(\"############################################################################################\")\n",
    "\n",
    "test_results = estimator.evaluate(input_fn=test_input_fn, steps=1)\n",
    "test_rmse = round(math.sqrt(test_results[\"average_loss\"]),5)\n",
    "print()\n",
    "print(\"############################################################################################\")\n",
    "print(\"# Test RMSE: {} - {}\".format(test_rmse, test_results))\n",
    "print(\"############################################################################################\")"
   ]
  },
  {
   "cell_type": "markdown",
   "metadata": {
    "collapsed": true
   },
   "source": [
    "## 8. Prediction"
   ]
  },
  {
   "cell_type": "code",
   "execution_count": null,
   "metadata": {},
   "outputs": [],
   "source": [
    "import itertools\n",
    "\n",
    "predict_input_fn = lambda: tfrecods_input_fn(file_names= test_data_files, \n",
    "                                      mode= tf.estimator.ModeKeys.PREDICT,\n",
    "                                      batch_size= 5)\n",
    "\n",
    "predictions = estimator.predict(input_fn=predict_input_fn)\n",
    "print(\"\")\n",
    "print(list(itertools.islice(predictions, 5)))"
   ]
  }
 ],
 "metadata": {
  "kernelspec": {
   "display_name": "Python 3",
   "language": "python",
   "name": "python3"
  },
  "language_info": {
   "codemirror_mode": {
    "name": "ipython",
    "version": 3
   },
   "file_extension": ".py",
   "mimetype": "text/x-python",
   "name": "python",
   "nbconvert_exporter": "python",
   "pygments_lexer": "ipython3",
   "version": "3.6.1"
  }
 },
 "nbformat": 4,
 "nbformat_minor": 2
}
