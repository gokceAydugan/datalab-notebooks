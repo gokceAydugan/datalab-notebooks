{
 "cells": [
  {
   "cell_type": "code",
   "execution_count": 23,
   "metadata": {},
   "outputs": [
    {
     "name": "stdout",
     "output_type": "stream",
     "text": [
      "1.4.0\n"
     ]
    }
   ],
   "source": [
    "import tensorflow as tf\n",
    "import shutil\n",
    "import math\n",
    "from datetime import datetime\n",
    "import multiprocessing\n",
    "from tensorflow.python.feature_column import feature_column\n",
    "\n",
    "from tensorflow.contrib.learn import learn_runner\n",
    "from tensorflow.contrib.learn import make_export_strategy\n",
    "\n",
    "print(tf.__version__)"
   ]
  },
  {
   "cell_type": "markdown",
   "metadata": {},
   "source": [
    "## Steps to use the TF Estimator APIs\n",
    "1. Define dataset **metadata**\n",
    "2. Define **data input function** to read the data from the source + **apply pre-processing**\n",
    "3. Create TF **feature columns** based on metadata + **extended feature columns**\n",
    "4. Instantiate an **estimator** with the required **feature columns & parameters**\n",
    "5. Define a **serving function** \n",
    "6. Define a **Validation Monitor** for early stopping\n",
    "7. Run **Experiment** by supplying training and validation data, as well as required parameters\n",
    "8. **Evaluate** the model using test data\n",
    "9. Perform **predictions**"
   ]
  },
  {
   "cell_type": "code",
   "execution_count": 2,
   "metadata": {
    "collapsed": true
   },
   "outputs": [],
   "source": [
    "train_data_files = 'data/train-*.csv'\n",
    "valid_data_files = 'data/valid-*.csv'\n",
    "test_data_files = 'data/test-*.csv'\n",
    "\n",
    "model_name = 'reg-model-02'\n",
    "\n",
    "resume = False\n",
    "train = True\n",
    "multi_threading = False"
   ]
  },
  {
   "cell_type": "markdown",
   "metadata": {},
   "source": [
    "## 1. Define Dataset Metadata"
   ]
  },
  {
   "cell_type": "code",
   "execution_count": 3,
   "metadata": {},
   "outputs": [
    {
     "name": "stdout",
     "output_type": "stream",
     "text": [
      "Header: ['key', 'x', 'y', 'alpha', 'beta', 'target']\n",
      "Numeric Features: ['x', 'y']\n",
      "Categorical Features: ['alpha', 'beta']\n",
      "Target: target\n",
      "Unused Features: ['key']\n"
     ]
    }
   ],
   "source": [
    "HEADER = ['key','x','y','alpha','beta','target']\n",
    "HEADER_DEFAULTS = [[0], [0.0], [0.0], ['NA'], ['NA'], [0.0]]\n",
    "\n",
    "NUMERIC_FEATURE_NAMES = ['x', 'y']  \n",
    "\n",
    "CATEGORICAL_FEATURE_NAMES_WITH_VOCABULARY = {'alpha':['ax01', 'ax02'], 'beta':['bx01', 'bx02']}\n",
    "CATEGORICAL_FEATURE_NAMES = list(CATEGORICAL_FEATURE_NAMES_WITH_VOCABULARY.keys())\n",
    "\n",
    "FEATURE_NAMES = NUMERIC_FEATURE_NAMES + CATEGORICAL_FEATURE_NAMES\n",
    "\n",
    "TARGET_NAME = 'target'\n",
    "\n",
    "UNUSED_FEATURE_NAMES = list(set(HEADER) - set(FEATURE_NAMES) - {TARGET_NAME})\n",
    "\n",
    "print(\"Header: {}\".format(HEADER))\n",
    "print(\"Numeric Features: {}\".format(NUMERIC_FEATURE_NAMES))\n",
    "print(\"Categorical Features: {}\".format(CATEGORICAL_FEATURE_NAMES))\n",
    "print(\"Target: {}\".format(TARGET_NAME))\n",
    "print(\"Unused Features: {}\".format(UNUSED_FEATURE_NAMES))"
   ]
  },
  {
   "cell_type": "markdown",
   "metadata": {},
   "source": [
    "## 2. Define Data Input Function"
   ]
  },
  {
   "cell_type": "code",
   "execution_count": 4,
   "metadata": {
    "collapsed": true
   },
   "outputs": [],
   "source": [
    "def process_features(features):\n",
    "    \n",
    "    features[\"x_2\"] = tf.square(features['x'])\n",
    "    features[\"y_2\"] = tf.square(features['y'])\n",
    "    features[\"xy\"] = tf.multiply(features['x'], features['y']) # features['x'] * features['y']\n",
    "    features['dist_xy'] =  tf.sqrt(tf.squared_difference(features['x'],features['y']))\n",
    "    \n",
    "    return features"
   ]
  },
  {
   "cell_type": "code",
   "execution_count": 5,
   "metadata": {
    "collapsed": true
   },
   "outputs": [],
   "source": [
    "def csv_input_fn(file_names, mode=tf.estimator.ModeKeys.EVAL, \n",
    "                 skip_header_lines=0, \n",
    "                 num_epochs=None, \n",
    "                 batch_size=200):\n",
    "    \n",
    "    shuffle = True if mode == tf.estimator.ModeKeys.TRAIN else False\n",
    "    \n",
    "    input_file_names = tf.train.match_filenames_once(file_names)\n",
    "\n",
    "    filename_queue = tf.train.string_input_producer(\n",
    "        input_file_names, num_epochs=num_epochs, shuffle=shuffle)\n",
    "\n",
    "    reader = tf.TextLineReader(skip_header_lines=skip_header_lines)\n",
    "\n",
    "    _, rows = reader.read_up_to(filename_queue, num_records=batch_size)\n",
    "    \n",
    "    row_columns = tf.expand_dims(rows, -1)\n",
    "    columns = tf.decode_csv(row_columns, record_defaults=HEADER_DEFAULTS)\n",
    "    features = dict(zip(HEADER, columns))\n",
    "    \n",
    "    # Remove unused columns\n",
    "    for column in UNUSED_FEATURE_NAMES:\n",
    "        features.pop(column)\n",
    "    \n",
    "    num_threads=1\n",
    "    \n",
    "    if multi_threading:\n",
    "        num_threads=multiprocessing.cpu_count()\n",
    "        \n",
    "    if shuffle:\n",
    "        features = tf.train.shuffle_batch(\n",
    "            features,\n",
    "            batch_size,\n",
    "            min_after_dequeue=2 * batch_size + 1,\n",
    "            capacity=batch_size * 10,\n",
    "            num_threads=multiprocessing.cpu_count(),\n",
    "            enqueue_many=True,\n",
    "            allow_smaller_final_batch=True\n",
    "        )\n",
    "    else:\n",
    "        features = tf.train.batch(\n",
    "            features,\n",
    "            batch_size,\n",
    "            capacity=batch_size * 10,\n",
    "            num_threads=multiprocessing.cpu_count(),\n",
    "            enqueue_many=True,\n",
    "            allow_smaller_final_batch=True\n",
    "        )\n",
    "\n",
    "    target = features.pop(TARGET_NAME)\n",
    "    \n",
    "    \n",
    "    print(\"\")\n",
    "    print(\"* data input_fn:\")\n",
    "    print(\"================\")\n",
    "    print(\"Input file(s): {}\".format(file_names))\n",
    "    print(\"Batch size: {}\".format(batch_size))\n",
    "    print(\"Epoch Count: {}\".format(num_epochs))\n",
    "    print(\"Mode: {}\".format(mode))\n",
    "    print(\"Thread Count: {}\".format(num_threads))\n",
    "    print(\"Shuffle: {}\".format(shuffle))\n",
    "    print(\"================\")\n",
    "    print(\"\")\n",
    "    \n",
    "    return process_features(features), target"
   ]
  },
  {
   "cell_type": "code",
   "execution_count": 6,
   "metadata": {},
   "outputs": [
    {
     "name": "stdout",
     "output_type": "stream",
     "text": [
      "\n",
      "* data input_fn:\n",
      "================\n",
      "Input file(s): data/train-*.csv\n",
      "Batch size: 200\n",
      "Epoch Count: None\n",
      "Mode: eval\n",
      "Thread Count: 1\n",
      "Shuffle: False\n",
      "================\n",
      "\n",
      "Feature read from CSV: ['alpha', 'beta', 'x', 'y', 'x_2', 'y_2', 'xy', 'dist_xy']\n",
      "Target read from CSV: Tensor(\"batch:2\", shape=(?, 1), dtype=float32)\n"
     ]
    }
   ],
   "source": [
    "features, target = csv_input_fn(file_names=train_data_files)\n",
    "print(\"Feature read from CSV: {}\".format(list(features.keys())))\n",
    "print(\"Target read from CSV: {}\".format(target))"
   ]
  },
  {
   "cell_type": "markdown",
   "metadata": {},
   "source": [
    "## 3. Define Feature Columns"
   ]
  },
  {
   "cell_type": "code",
   "execution_count": 7,
   "metadata": {},
   "outputs": [
    {
     "name": "stdout",
     "output_type": "stream",
     "text": [
      "Feature Columns: {'x': _NumericColumn(key='x', shape=(1,), default_value=None, dtype=tf.float32, normalizer_fn=None), 'y': _NumericColumn(key='y', shape=(1,), default_value=None, dtype=tf.float32, normalizer_fn=None), 'x_2': _NumericColumn(key='x_2', shape=(1,), default_value=None, dtype=tf.float32, normalizer_fn=None), 'y_2': _NumericColumn(key='y_2', shape=(1,), default_value=None, dtype=tf.float32, normalizer_fn=None), 'xy': _NumericColumn(key='xy', shape=(1,), default_value=None, dtype=tf.float32, normalizer_fn=None), 'dist_xy': _NumericColumn(key='dist_xy', shape=(1,), default_value=None, dtype=tf.float32, normalizer_fn=None), 'alpha': _VocabularyListCategoricalColumn(key='alpha', vocabulary_list=('ax01', 'ax02'), dtype=tf.string, default_value=-1, num_oov_buckets=0), 'beta': _VocabularyListCategoricalColumn(key='beta', vocabulary_list=('bx01', 'bx02'), dtype=tf.string, default_value=-1, num_oov_buckets=0), 'alpha_X_beta': _CrossedColumn(keys=(_VocabularyListCategoricalColumn(key='alpha', vocabulary_list=('ax01', 'ax02'), dtype=tf.string, default_value=-1, num_oov_buckets=0), _VocabularyListCategoricalColumn(key='beta', vocabulary_list=('bx01', 'bx02'), dtype=tf.string, default_value=-1, num_oov_buckets=0)), hash_bucket_size=4, hash_key=None)}\n"
     ]
    }
   ],
   "source": [
    "def get_feature_columns():\n",
    "    \n",
    "    CONSTRUCTED_NUMERIC_FEATURES_NAMES = ['x_2', 'y_2', 'xy', 'dist_xy']\n",
    "    all_numeric_feature_names = NUMERIC_FEATURE_NAMES + CONSTRUCTED_NUMERIC_FEATURES_NAMES\n",
    "\n",
    "    numeric_columns = {feature_name: tf.feature_column.numeric_column(feature_name)\n",
    "                       for feature_name in all_numeric_feature_names}\n",
    "\n",
    "    categorical_column_with_vocabulary = \\\n",
    "        {item[0]: tf.feature_column.categorical_column_with_vocabulary_list(item[0], item[1])\n",
    "         for item in CATEGORICAL_FEATURE_NAMES_WITH_VOCABULARY.items()}\n",
    "        \n",
    "    feature_columns = {}\n",
    "\n",
    "    if numeric_columns is not None:\n",
    "        feature_columns.update(numeric_columns)\n",
    "\n",
    "    if categorical_column_with_vocabulary is not None:\n",
    "        feature_columns.update(categorical_column_with_vocabulary) \n",
    "    \n",
    "    # apply feature extentions\n",
    "    \n",
    "    feature_columns['alpha_X_beta'] = tf.feature_column.crossed_column(\n",
    "        [feature_columns['alpha'], feature_columns['beta']], 4)\n",
    "    \n",
    "    return feature_columns\n",
    "\n",
    "feature_columns = get_feature_columns()\n",
    "print(\"Feature Columns: {}\".format(feature_columns))"
   ]
  },
  {
   "cell_type": "markdown",
   "metadata": {},
   "source": [
    "## 4. Instantiate an Estimator"
   ]
  },
  {
   "cell_type": "code",
   "execution_count": 8,
   "metadata": {
    "collapsed": true
   },
   "outputs": [],
   "source": [
    "def create_estimator(run_config, hparams):\n",
    "    \n",
    "    feature_columns = list(get_feature_columns().values())\n",
    "    \n",
    "    dense_columns = list(\n",
    "        filter(lambda column: isinstance(column, feature_column._NumericColumn),\n",
    "               feature_columns\n",
    "        )\n",
    "    )\n",
    "\n",
    "    categorical_columns = list(\n",
    "        filter(lambda column: isinstance(column, feature_column._VocabularyListCategoricalColumn) |\n",
    "                              isinstance(column, feature_column._BucketizedColumn),\n",
    "                   feature_columns)\n",
    "    )\n",
    "    \n",
    "    \n",
    "    # convert categorical columns to indicators\n",
    "    \n",
    "    indicator_columns = list(\n",
    "            map(lambda column: tf.feature_column.indicator_column(column),\n",
    "                categorical_columns)\n",
    "    )\n",
    "    \n",
    "    \n",
    "    estimator = tf.estimator.DNNRegressor(\n",
    "        \n",
    "        feature_columns= dense_columns + indicator_columns ,\n",
    "        hidden_units= hparams.hidden_units,\n",
    "        \n",
    "        optimizer= tf.train.AdamOptimizer(),\n",
    "        activation_fn= tf.nn.elu,\n",
    "        dropout= hparams.dropout_prob,\n",
    "        \n",
    "        config= run_config\n",
    "    )\n",
    "    \n",
    "    print(\"\")\n",
    "    print(\"Estimator Type: {}\".format(type(estimator)))\n",
    "    print(\"\")\n",
    "    \n",
    "    return estimator"
   ]
  },
  {
   "cell_type": "markdown",
   "metadata": {},
   "source": [
    "## 5. Define Serving Funcion"
   ]
  },
  {
   "cell_type": "code",
   "execution_count": 9,
   "metadata": {
    "collapsed": true
   },
   "outputs": [],
   "source": [
    "def csv_serving_input_fn():\n",
    "    \n",
    "    SERVING_HEADER = ['x','y','alpha','beta']\n",
    "    SERVING_HEADER_DEFAULTS = [[0.0], [0.0], ['NA'], ['NA']]\n",
    "\n",
    "    rows_string_tensor = tf.placeholder(dtype=tf.string,\n",
    "                                         shape=[None],\n",
    "                                         name='csv_rows')\n",
    "    \n",
    "    receiver_tensor = {'csv_rows': rows_string_tensor}\n",
    "\n",
    "    row_columns = tf.expand_dims(rows_string_tensor, -1)\n",
    "    columns = tf.decode_csv(row_columns, record_defaults=SERVING_HEADER_DEFAULTS)\n",
    "    features = dict(zip(SERVING_HEADER, columns))\n",
    "\n",
    "    return tf.estimator.export.ServingInputReceiver(\n",
    "        process_features(features), receiver_tensor)"
   ]
  },
  {
   "cell_type": "markdown",
   "metadata": {},
   "source": [
    "## 6. Define Validation Monitor"
   ]
  },
  {
   "cell_type": "code",
   "execution_count": 10,
   "metadata": {},
   "outputs": [
    {
     "name": "stdout",
     "output_type": "stream",
     "text": [
      "Create EarlyStoppingHook\n"
     ]
    }
   ],
   "source": [
    "class EarlyStoppingHook(tf.train.SessionRunHook):\n",
    "    \n",
    "    def __init__(self, early_stopping_rounds=1):\n",
    "        self._best_loss = None\n",
    "        self._early_stopping_rounds = early_stopping_rounds\n",
    "        self._counter = 0\n",
    "        print(\"Create EarlyStoppingHook\")\n",
    "\n",
    "    def before_run(self, run_context):\n",
    "        \n",
    "        print(\"\")\n",
    "        print(\"** Validation Monitor **\")\n",
    "\n",
    "        graph = run_context.session.graph\n",
    "#         tensor_name = \"dnn/head/weighted_loss/Sum:0\" #works!!\n",
    "#         loss_tensor = graph.get_tensor_by_name(tensor_name)\n",
    "        loss_tensor = graph.get_collection(tf.GraphKeys.LOSSES)[1]\n",
    "        return tf.train.SessionRunArgs(loss_tensor)\n",
    "\n",
    "    def after_run(self, run_context, run_values):\n",
    "        \n",
    "        last_loss = run_values.results\n",
    "        \n",
    "        print(\"EarlyStoppingHook: Current loss: {}\".format(str(last_loss)))\n",
    "        print(\"EarlyStoppingHook: Best loss: {}\".format(str(self._best_loss)))\n",
    "        \n",
    "        if self._best_loss is None:\n",
    "            self._best_loss = last_loss\n",
    "            \n",
    "        elif last_loss > self._best_loss:\n",
    "            \n",
    "            self._counter += 1\n",
    "            print(\"EarlyStoppingHook: Counter: {}\".format(self._counter))\n",
    "            \n",
    "            if self._counter == self._early_stopping_rounds:\n",
    "                run_context.request_stop()\n",
    "                \n",
    "        else:\n",
    "            self._best_loss = last_loss\n",
    "            self._counter = 0\n",
    "        \n",
    "        print(\"************************\")\n",
    "        print(\"\")\n",
    "\n",
    "validation_monitor = EarlyStoppingHook()"
   ]
  },
  {
   "cell_type": "markdown",
   "metadata": {},
   "source": [
    "## 7. Run Experiment"
   ]
  },
  {
   "cell_type": "markdown",
   "metadata": {},
   "source": [
    "### a. Define Experiment Function"
   ]
  },
  {
   "cell_type": "code",
   "execution_count": 11,
   "metadata": {
    "collapsed": true
   },
   "outputs": [],
   "source": [
    "def generate_experiment_fn(**experiment_args):\n",
    "\n",
    "    def _experiment_fn(run_config, hparams):\n",
    "\n",
    "        train_input_fn = lambda: csv_input_fn(\n",
    "            train_data_files,\n",
    "            mode = tf.contrib.learn.ModeKeys.TRAIN,\n",
    "            num_epochs=hparams.num_epochs,\n",
    "            batch_size=hparams.batch_size\n",
    "        )\n",
    "\n",
    "        eval_input_fn = lambda: csv_input_fn(\n",
    "            valid_data_files,\n",
    "            mode=tf.contrib.learn.ModeKeys.EVAL,\n",
    "            num_epochs=1,\n",
    "            batch_size=hparams.batch_size\n",
    "            #batch_size=300\n",
    "        )\n",
    "\n",
    "        estimator = create_estimator(run_config, hparams)\n",
    "\n",
    "        return tf.contrib.learn.Experiment(\n",
    "            estimator,\n",
    "            train_input_fn=train_input_fn,\n",
    "            eval_input_fn=eval_input_fn,\n",
    "            eval_steps=None,\n",
    "            #min_eval_frequency=1,\n",
    "            eval_hooks=[validation_monitor],\n",
    "            **experiment_args\n",
    "        )\n",
    "\n",
    "    return _experiment_fn"
   ]
  },
  {
   "cell_type": "markdown",
   "metadata": {},
   "source": [
    "### b. Set HParam and RunConfig"
   ]
  },
  {
   "cell_type": "code",
   "execution_count": 12,
   "metadata": {},
   "outputs": [
    {
     "name": "stdout",
     "output_type": "stream",
     "text": [
      "Model directory: trained_models/reg-model-02\n",
      "Hyper-parameters: [('batch_size', 500), ('dropout_prob', 0.0), ('hidden_units', [8, 4]), ('num_epochs', 1)]\n",
      "\n"
     ]
    }
   ],
   "source": [
    "hparams  = tf.contrib.training.HParams(\n",
    "    num_epochs = 1, \n",
    "    batch_size = 500,\n",
    "    hidden_units=[8, 4], \n",
    "    dropout_prob = 0.0)\n",
    "\n",
    "model_dir = 'trained_models/{}'.format(model_name)\n",
    "\n",
    "run_config = tf.contrib.learn.RunConfig(\n",
    "    save_checkpoints_steps=240,\n",
    "    tf_random_seed=19850610,\n",
    "    model_dir=model_dir\n",
    ")\n",
    "\n",
    "print(\"Model directory: {}\".format(run_config.model_dir))\n",
    "print(\"Hyper-parameters: {}\".format(hparams))\n",
    "print(\"\")"
   ]
  },
  {
   "cell_type": "markdown",
   "metadata": {},
   "source": [
    "### c. Run Experiment via learn_runner"
   ]
  },
  {
   "cell_type": "code",
   "execution_count": 13,
   "metadata": {
    "scrolled": false
   },
   "outputs": [
    {
     "name": "stdout",
     "output_type": "stream",
     "text": [
      "Removing previous artifacts...\n",
      "Experiment started at 15:37:47\n",
      ".......................................\n",
      "WARNING:tensorflow:RunConfig.uid (from tensorflow.contrib.learn.python.learn.estimators.run_config) is experimental and may change or be removed at any time, and without warning.\n",
      "INFO:tensorflow:Using config: {'_task_type': None, '_task_id': 0, '_cluster_spec': <tensorflow.python.training.server_lib.ClusterSpec object at 0x118a2f9e8>, '_master': '', '_num_ps_replicas': 0, '_num_worker_replicas': 0, '_environment': 'local', '_is_chief': True, '_evaluation_master': '', '_tf_config': gpu_options {\n",
      "  per_process_gpu_memory_fraction: 1\n",
      "}\n",
      ", '_tf_random_seed': 19850610, '_save_summary_steps': 100, '_save_checkpoints_secs': None, '_log_step_count_steps': 100, '_session_config': None, '_save_checkpoints_steps': 240, '_keep_checkpoint_max': 5, '_keep_checkpoint_every_n_hours': 10000, '_model_dir': 'trained_models/reg-model-02'}\n",
      "\n",
      "Estimator Type: <class 'tensorflow.python.estimator.canned.dnn.DNNRegressor'>\n",
      "\n",
      "WARNING:tensorflow:RunConfig.uid (from tensorflow.contrib.learn.python.learn.estimators.run_config) is experimental and may change or be removed at any time, and without warning.\n",
      "WARNING:tensorflow:From /Users/khalidsalama/anaconda/lib/python3.6/site-packages/tensorflow/contrib/learn/python/learn/monitors.py:267: BaseMonitor.__init__ (from tensorflow.contrib.learn.python.learn.monitors) is deprecated and will be removed after 2016-12-05.\n",
      "Instructions for updating:\n",
      "Monitors are deprecated. Please use tf.train.SessionRunHook.\n",
      "\n",
      "* data input_fn:\n",
      "================\n",
      "Input file(s): data/train-*.csv\n",
      "Batch size: 500\n",
      "Epoch Count: 1\n",
      "Mode: train\n",
      "Thread Count: 1\n",
      "Shuffle: True\n",
      "================\n",
      "\n",
      "INFO:tensorflow:Create CheckpointSaverHook.\n",
      "INFO:tensorflow:Saving checkpoints for 1 into trained_models/reg-model-02/model.ckpt.\n",
      "\n",
      "* data input_fn:\n",
      "================\n",
      "Input file(s): data/valid-*.csv\n",
      "Batch size: 500\n",
      "Epoch Count: 1\n",
      "Mode: eval\n",
      "Thread Count: 1\n",
      "Shuffle: False\n",
      "================\n",
      "\n",
      "INFO:tensorflow:Starting evaluation at 2017-11-03-15:37:51\n",
      "INFO:tensorflow:Restoring parameters from trained_models/reg-model-02/model.ckpt-1\n",
      "\n",
      "** Validation Monitor **\n",
      "EarlyStoppingHook: Current loss: 179675.0\n",
      "EarlyStoppingHook: Best loss: None\n",
      "************************\n",
      "\n",
      "\n",
      "** Validation Monitor **\n",
      "EarlyStoppingHook: Current loss: 159389.0\n",
      "EarlyStoppingHook: Best loss: 179675.0\n",
      "************************\n",
      "\n",
      "\n",
      "** Validation Monitor **\n",
      "EarlyStoppingHook: Current loss: 165778.0\n",
      "EarlyStoppingHook: Best loss: 159389.0\n",
      "EarlyStoppingHook: Counter: 1\n",
      "************************\n",
      "\n",
      "INFO:tensorflow:Finished evaluation at 2017-11-03-15:37:51\n",
      "INFO:tensorflow:Saving dict for global step 1: average_loss = 336.561, global_step = 1, loss = 168281.0\n",
      "INFO:tensorflow:Validation (step 1): average_loss = 336.561, loss = 168281.0, global_step = 1\n",
      "INFO:tensorflow:loss = 156330.0, step = 1\n",
      "INFO:tensorflow:Saving checkpoints for 24 into trained_models/reg-model-02/model.ckpt.\n",
      "INFO:tensorflow:Loss for final step: 146872.0.\n",
      "\n",
      "* data input_fn:\n",
      "================\n",
      "Input file(s): data/valid-*.csv\n",
      "Batch size: 500\n",
      "Epoch Count: 1\n",
      "Mode: eval\n",
      "Thread Count: 1\n",
      "Shuffle: False\n",
      "================\n",
      "\n",
      "INFO:tensorflow:Starting evaluation at 2017-11-03-15:37:53\n",
      "INFO:tensorflow:Restoring parameters from trained_models/reg-model-02/model.ckpt-24\n",
      "\n",
      "** Validation Monitor **\n",
      "EarlyStoppingHook: Current loss: 179062.0\n",
      "EarlyStoppingHook: Best loss: 159389.0\n",
      "EarlyStoppingHook: Counter: 2\n",
      "************************\n",
      "\n",
      "\n",
      "** Validation Monitor **\n",
      "EarlyStoppingHook: Current loss: 158782.0\n",
      "EarlyStoppingHook: Best loss: 159389.0\n",
      "************************\n",
      "\n",
      "\n",
      "** Validation Monitor **\n",
      "EarlyStoppingHook: Current loss: 164858.0\n",
      "EarlyStoppingHook: Best loss: 158782.0\n",
      "EarlyStoppingHook: Counter: 1\n",
      "************************\n",
      "\n",
      "INFO:tensorflow:Finished evaluation at 2017-11-03-15:37:53\n",
      "INFO:tensorflow:Saving dict for global step 24: average_loss = 335.134, global_step = 24, loss = 167567.0\n",
      "INFO:tensorflow:Restoring parameters from trained_models/reg-model-02/model.ckpt-24\n",
      "INFO:tensorflow:Assets added to graph.\n",
      "INFO:tensorflow:No assets to write.\n",
      "INFO:tensorflow:SavedModel written to: b\"trained_models/reg-model-02/export/Servo/temp-b'1509723474'/saved_model.pb\"\n",
      ".......................................\n",
      "Experiment finished at 15:37:54\n",
      "\n",
      "Experiment elapsed time: 7.628652 seconds\n"
     ]
    }
   ],
   "source": [
    "if not resume:\n",
    "    print(\"Removing previous artifacts...\")\n",
    "    shutil.rmtree(model_dir, ignore_errors=True)\n",
    "else:\n",
    "    print(\"Resuming training...\") \n",
    "\n",
    "if train:\n",
    "    tf.logging.set_verbosity(tf.logging.INFO)\n",
    "    \n",
    "    time_start = datetime.utcnow() \n",
    "    print(\"Experiment started at {}\".format(time_start.strftime(\"%H:%M:%S\")))\n",
    "    print(\".......................................\") \n",
    "    \n",
    "    learn_runner.run(\n",
    "        experiment_fn=generate_experiment_fn(\n",
    "\n",
    "            export_strategies=[make_export_strategy(\n",
    "                csv_serving_input_fn,\n",
    "                exports_to_keep=1\n",
    "            )]\n",
    "        ),\n",
    "        run_config=run_config,\n",
    "        schedule=\"train_and_evaluate\",\n",
    "        hparams=hparams\n",
    "    )\n",
    "    \n",
    "    time_end = datetime.utcnow() \n",
    "    print(\".......................................\")\n",
    "    print(\"Experiment finished at {}\".format(time_end.strftime(\"%H:%M:%S\")))\n",
    "    print(\"\")\n",
    "    time_elapsed = time_end - time_start\n",
    "    print(\"Experiment elapsed time: {} seconds\".format(time_elapsed.total_seconds()))"
   ]
  },
  {
   "cell_type": "markdown",
   "metadata": {},
   "source": [
    "## 7. Evaluate the Model"
   ]
  },
  {
   "cell_type": "code",
   "execution_count": 22,
   "metadata": {},
   "outputs": [
    {
     "name": "stdout",
     "output_type": "stream",
     "text": [
      "INFO:tensorflow:Using config: {'_task_type': None, '_task_id': 0, '_cluster_spec': <tensorflow.python.training.server_lib.ClusterSpec object at 0x118a2f9e8>, '_master': '', '_num_ps_replicas': 0, '_num_worker_replicas': 0, '_environment': 'local', '_is_chief': True, '_evaluation_master': '', '_tf_config': gpu_options {\n",
      "  per_process_gpu_memory_fraction: 1\n",
      "}\n",
      ", '_tf_random_seed': 19850610, '_save_summary_steps': 100, '_save_checkpoints_secs': None, '_log_step_count_steps': 100, '_session_config': None, '_save_checkpoints_steps': 240, '_keep_checkpoint_max': 5, '_keep_checkpoint_every_n_hours': 10000, '_model_dir': 'trained_models/reg-model-02'}\n",
      "\n",
      "Estimator Type: <class 'tensorflow.python.estimator.canned.dnn.DNNRegressor'>\n",
      "\n",
      "\n",
      "* data input_fn:\n",
      "================\n",
      "Input file(s): data/train-*.csv\n",
      "Batch size: 12000\n",
      "Epoch Count: None\n",
      "Mode: eval\n",
      "Thread Count: 1\n",
      "Shuffle: False\n",
      "================\n",
      "\n",
      "INFO:tensorflow:Starting evaluation at 2017-11-03-16:00:44\n",
      "INFO:tensorflow:Restoring parameters from trained_models/reg-model-02/model.ckpt-24\n",
      "INFO:tensorflow:Evaluation [1/1]\n",
      "INFO:tensorflow:Finished evaluation at 2017-11-03-16:00:45\n",
      "INFO:tensorflow:Saving dict for global step 24: average_loss = 305.162, global_step = 24, loss = 3.66195e+06\n",
      "\n",
      "############################################################################################\n",
      "# Train RMSE: 17.4689 - {'average_loss': 305.16248, 'loss': 3661949.8, 'global_step': 24}\n",
      "############################################################################################\n",
      "\n",
      "* data input_fn:\n",
      "================\n",
      "Input file(s): data/valid-*.csv\n",
      "Batch size: 3000\n",
      "Epoch Count: None\n",
      "Mode: eval\n",
      "Thread Count: 1\n",
      "Shuffle: False\n",
      "================\n",
      "\n",
      "INFO:tensorflow:Starting evaluation at 2017-11-03-16:00:45\n",
      "INFO:tensorflow:Restoring parameters from trained_models/reg-model-02/model.ckpt-24\n",
      "INFO:tensorflow:Evaluation [1/1]\n",
      "INFO:tensorflow:Finished evaluation at 2017-11-03-16:00:46\n",
      "INFO:tensorflow:Saving dict for global step 24: average_loss = 320.493, global_step = 24, loss = 961480.0\n",
      "\n",
      "############################################################################################\n",
      "# Valid RMSE: 17.90233 - {'average_loss': 320.49335, 'loss': 961480.0, 'global_step': 24}\n",
      "############################################################################################\n",
      "\n",
      "* data input_fn:\n",
      "================\n",
      "Input file(s): data/test-*.csv\n",
      "Batch size: 5000\n",
      "Epoch Count: None\n",
      "Mode: eval\n",
      "Thread Count: 1\n",
      "Shuffle: False\n",
      "================\n",
      "\n",
      "INFO:tensorflow:Starting evaluation at 2017-11-03-16:00:47\n",
      "INFO:tensorflow:Restoring parameters from trained_models/reg-model-02/model.ckpt-24\n",
      "INFO:tensorflow:Evaluation [1/1]\n",
      "INFO:tensorflow:Finished evaluation at 2017-11-03-16:00:48\n",
      "INFO:tensorflow:Saving dict for global step 24: average_loss = 327.158, global_step = 24, loss = 1.63579e+06\n",
      "\n",
      "############################################################################################\n",
      "# Test RMSE: 18.08751 - {'average_loss': 327.15811, 'loss': 1635790.5, 'global_step': 24}\n",
      "############################################################################################\n"
     ]
    }
   ],
   "source": [
    "train_size = 12000\n",
    "valid_size = 3000\n",
    "test_size = 5000\n",
    "\n",
    "train_input_fn = lambda: csv_input_fn(file_names= train_data_files, \n",
    "                                      mode= tf.estimator.ModeKeys.EVAL,\n",
    "                                      batch_size= train_size)\n",
    "\n",
    "valid_input_fn = lambda: csv_input_fn(file_names= valid_data_files, \n",
    "                                      mode= tf.estimator.ModeKeys.EVAL,\n",
    "                                      batch_size= valid_size)\n",
    "\n",
    "test_input_fn = lambda: csv_input_fn(file_names= test_data_files, \n",
    "                                      mode= tf.estimator.ModeKeys.EVAL,\n",
    "                                      batch_size= test_size)\n",
    "\n",
    "estimator = create_estimator(run_config, hparams)\n",
    "\n",
    "train_results = estimator.evaluate(input_fn=train_input_fn, steps=1)\n",
    "train_rmse = round(math.sqrt(train_results[\"average_loss\"]),5)\n",
    "print()\n",
    "print(\"############################################################################################\")\n",
    "print(\"# Train RMSE: {} - {}\".format(train_rmse, train_results))\n",
    "print(\"############################################################################################\")\n",
    "\n",
    "valid_results = estimator.evaluate(input_fn=valid_input_fn, steps=1)\n",
    "valid_rmse = round(math.sqrt(valid_results[\"average_loss\"]),5)\n",
    "print()\n",
    "print(\"############################################################################################\")\n",
    "print(\"# Valid RMSE: {} - {}\".format(valid_rmse,valid_results))\n",
    "print(\"############################################################################################\")\n",
    "\n",
    "test_results = estimator.evaluate(input_fn=test_input_fn, steps=1)\n",
    "test_rmse = round(math.sqrt(test_results[\"average_loss\"]),5)\n",
    "print()\n",
    "print(\"############################################################################################\")\n",
    "print(\"# Test RMSE: {} - {}\".format(test_rmse, test_results))\n",
    "print(\"############################################################################################\")"
   ]
  },
  {
   "cell_type": "markdown",
   "metadata": {},
   "source": [
    "## 8. Prediction"
   ]
  },
  {
   "cell_type": "code",
   "execution_count": 15,
   "metadata": {},
   "outputs": [
    {
     "name": "stdout",
     "output_type": "stream",
     "text": [
      "\n",
      "* data input_fn:\n",
      "================\n",
      "Input file(s): data/test-*.csv\n",
      "Batch size: 5\n",
      "Epoch Count: None\n",
      "Mode: infer\n",
      "Thread Count: 1\n",
      "Shuffle: False\n",
      "================\n",
      "\n",
      "INFO:tensorflow:Restoring parameters from trained_models/reg-model-02/model.ckpt-24\n",
      "[0.91956079, -0.33303487, 0.23797014, 0.55481797, 0.064417809]\n"
     ]
    }
   ],
   "source": [
    "import itertools\n",
    "\n",
    "predict_input_fn = lambda: csv_input_fn(file_names=test_data_files, \n",
    "                                      mode= tf.estimator.ModeKeys.PREDICT,\n",
    "                                      batch_size= 5)\n",
    "\n",
    "predictions = estimator.predict(input_fn=predict_input_fn)\n",
    "values = list(map(lambda item: item[\"predictions\"][0],list(itertools.islice(predictions, 5))))\n",
    "print()\n",
    "print(\"Predicted Values: {}\".format(values))"
   ]
  },
  {
   "cell_type": "markdown",
   "metadata": {},
   "source": [
    "## Serving via the Saved Model"
   ]
  },
  {
   "cell_type": "code",
   "execution_count": 21,
   "metadata": {},
   "outputs": [
    {
     "name": "stdout",
     "output_type": "stream",
     "text": [
      "saved_model.pb\n",
      "variables\n"
     ]
    },
    {
     "name": "stderr",
     "output_type": "stream",
     "text": [
      "ERROR: (gcloud.ml-engine.local.predict) RuntimeError: Bad magic number in .pyc file\n",
      "\n"
     ]
    }
   ],
   "source": [
    "%%bash\n",
    "\n",
    "MODEL_NAME='reg-model-01'\n",
    "LAST=$(ls trained_models/${MODEL_NAME}/export | tail -1)\n",
    "SAVE_MODEL_DIR=trained_models/$MODEL_NAME/export/$LAST\n",
    "ls $SAVE_MODEL_DIR\n",
    "\n",
    "gcloud ml-engine local predict --model-dir=$SAVE_MODEL_DIR --text-instances='data/new-data.csv'"
   ]
  },
  {
   "cell_type": "markdown",
   "metadata": {},
   "source": [
    "## What can we improve?\n",
    "\n",
    "* **Use Dataset APIs** - The dataset APIs standardise and simplifiy building a data input pipeline.\n",
    "\n",
    "\n",
    "* **Use .tfrecords files instead of CSV** - TFRecord files are optimised for tensorflow.\n",
    "\n",
    "\n",
    "* **Build a Custom Estimator** -  Custom Estimator APIs give you the flexibility to build custom models in a simple and standard way\n",
    "\n"
   ]
  },
  {
   "cell_type": "code",
   "execution_count": null,
   "metadata": {
    "collapsed": true
   },
   "outputs": [],
   "source": []
  }
 ],
 "metadata": {
  "kernelspec": {
   "display_name": "Python 3",
   "language": "python",
   "name": "python3"
  },
  "language_info": {
   "codemirror_mode": {
    "name": "ipython",
    "version": 3
   },
   "file_extension": ".py",
   "mimetype": "text/x-python",
   "name": "python",
   "nbconvert_exporter": "python",
   "pygments_lexer": "ipython3",
   "version": "3.6.1"
  }
 },
 "nbformat": 4,
 "nbformat_minor": 2
}
