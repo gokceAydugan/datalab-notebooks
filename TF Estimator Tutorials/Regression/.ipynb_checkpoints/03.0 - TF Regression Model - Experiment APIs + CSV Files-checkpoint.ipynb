{
 "cells": [
  {
   "cell_type": "code",
   "execution_count": 1,
   "metadata": {},
   "outputs": [
    {
     "name": "stderr",
     "output_type": "stream",
     "text": [
      "/Users/khalidsalama/anaconda/lib/python3.6/importlib/_bootstrap.py:205: RuntimeWarning: compiletime version 3.5 of module 'tensorflow.python.framework.fast_tensor_util' does not match runtime version 3.6\n",
      "  return f(*args, **kwds)\n"
     ]
    },
    {
     "name": "stdout",
     "output_type": "stream",
     "text": [
      "1.4.0\n"
     ]
    }
   ],
   "source": [
    "import tensorflow as tf\n",
    "import shutil\n",
    "import math\n",
    "from datetime import datetime\n",
    "import multiprocessing\n",
    "from tensorflow.python.feature_column import feature_column\n",
    "\n",
    "from tensorflow.contrib.learn import learn_runner\n",
    "from tensorflow.contrib.learn import make_export_strategy\n",
    "\n",
    "print(tf.__version__)"
   ]
  },
  {
   "cell_type": "markdown",
   "metadata": {},
   "source": [
    "## Steps to use the TF Estimator APIs\n",
    "1. Define dataset **metadata**\n",
    "2. Define **data input function** to read the data from the source + **apply pre-processing**\n",
    "3. Create TF **feature columns** based on metadata + **extended feature columns**\n",
    "4. Instantiate an **estimator** with the required **feature columns & parameters**\n",
    "5. Define a **serving function** \n",
    "6. Define a **Validation Monitor** for early stopping\n",
    "7. Run **Experiment** by supplying training and validation data, as well as required parameters\n",
    "8. **Evaluate** the model using test data\n",
    "9. Perform **predictions**"
   ]
  },
  {
   "cell_type": "code",
   "execution_count": 2,
   "metadata": {
    "collapsed": true
   },
   "outputs": [],
   "source": [
    "train_data_files = 'data/train-*.csv'\n",
    "valid_data_files = 'data/valid-*.csv'\n",
    "test_data_files = 'data/test-*.csv'\n",
    "\n",
    "model_name = 'reg-model-02'\n",
    "\n",
    "resume = False\n",
    "train = True\n",
    "multi_threading = True"
   ]
  },
  {
   "cell_type": "markdown",
   "metadata": {},
   "source": [
    "## 1. Define Dataset Metadata"
   ]
  },
  {
   "cell_type": "code",
   "execution_count": 3,
   "metadata": {},
   "outputs": [
    {
     "name": "stdout",
     "output_type": "stream",
     "text": [
      "Header: ['key', 'x', 'y', 'alpha', 'beta', 'target']\n",
      "Numeric Features: ['x', 'y']\n",
      "Categorical Features: ['alpha', 'beta']\n",
      "Target: target\n",
      "Unused Features: ['key']\n"
     ]
    }
   ],
   "source": [
    "HEADER = ['key','x','y','alpha','beta','target']\n",
    "HEADER_DEFAULTS = [[0], [0.0], [0.0], ['NA'], ['NA'], [0.0]]\n",
    "\n",
    "NUMERIC_FEATURE_NAMES = ['x', 'y']  \n",
    "\n",
    "CATEGORICAL_FEATURE_NAMES_WITH_VOCABULARY = {'alpha':['ax01', 'ax02'], 'beta':['bx01', 'bx02']}\n",
    "CATEGORICAL_FEATURE_NAMES = list(CATEGORICAL_FEATURE_NAMES_WITH_VOCABULARY.keys())\n",
    "\n",
    "FEATURE_NAMES = NUMERIC_FEATURE_NAMES + CATEGORICAL_FEATURE_NAMES\n",
    "\n",
    "TARGET_NAME = 'target'\n",
    "\n",
    "UNUSED_FEATURE_NAMES = list(set(HEADER) - set(FEATURE_NAMES) - {TARGET_NAME})\n",
    "\n",
    "print(\"Header: {}\".format(HEADER))\n",
    "print(\"Numeric Features: {}\".format(NUMERIC_FEATURE_NAMES))\n",
    "print(\"Categorical Features: {}\".format(CATEGORICAL_FEATURE_NAMES))\n",
    "print(\"Target: {}\".format(TARGET_NAME))\n",
    "print(\"Unused Features: {}\".format(UNUSED_FEATURE_NAMES))"
   ]
  },
  {
   "cell_type": "markdown",
   "metadata": {},
   "source": [
    "## 2. Define Data Input Function"
   ]
  },
  {
   "cell_type": "code",
   "execution_count": 4,
   "metadata": {
    "collapsed": true
   },
   "outputs": [],
   "source": [
    "def process_features(features):\n",
    "    \n",
    "    features[\"x_2\"] = tf.square(features['x'])\n",
    "    features[\"y_2\"] = tf.square(features['y'])\n",
    "    features[\"xy\"] = tf.multiply(features['x'], features['y']) # features['x'] * features['y']\n",
    "    features['dist_xy'] =  tf.sqrt(tf.squared_difference(features['x'],features['y']))\n",
    "    \n",
    "    return features"
   ]
  },
  {
   "cell_type": "code",
   "execution_count": 5,
   "metadata": {
    "collapsed": true
   },
   "outputs": [],
   "source": [
    "def csv_input_fn(file_names, mode=tf.estimator.ModeKeys.EVAL, \n",
    "                 skip_header_lines=0, \n",
    "                 num_epochs=None, \n",
    "                 batch_size=200):\n",
    "    \n",
    "    shuffle = True if mode == tf.estimator.ModeKeys.TRAIN else False\n",
    "    \n",
    "    input_file_names = tf.train.match_filenames_once(file_names)\n",
    "    \n",
    "    print(input_file_names)\n",
    "\n",
    "    filename_queue = tf.train.string_input_producer(\n",
    "        input_file_names, num_epochs=num_epochs, shuffle=shuffle)\n",
    "\n",
    "    reader = tf.TextLineReader(skip_header_lines=skip_header_lines)\n",
    "\n",
    "    _, rows = reader.read_up_to(filename_queue, num_records=batch_size)\n",
    "    \n",
    "    row_columns = tf.expand_dims(rows, -1)\n",
    "    columns = tf.decode_csv(row_columns, record_defaults=HEADER_DEFAULTS)\n",
    "    features = dict(zip(HEADER, columns))\n",
    "    \n",
    "    # Remove unused columns\n",
    "    for column in UNUSED_FEATURE_NAMES:\n",
    "        features.pop(column)\n",
    "    \n",
    "    num_threads=1\n",
    "    \n",
    "    if multi_threading:\n",
    "        num_threads=multiprocessing.cpu_count()\n",
    "        \n",
    "    if shuffle:\n",
    "        features = tf.train.shuffle_batch(\n",
    "            features,\n",
    "            batch_size,\n",
    "            min_after_dequeue=2 * batch_size + 1,\n",
    "            capacity=batch_size * 10,\n",
    "            num_threads=multiprocessing.cpu_count(),\n",
    "            enqueue_many=True,\n",
    "            allow_smaller_final_batch=True\n",
    "        )\n",
    "    else:\n",
    "        features = tf.train.batch(\n",
    "            features,\n",
    "            batch_size,\n",
    "            capacity=batch_size * 10,\n",
    "            num_threads=multiprocessing.cpu_count(),\n",
    "            enqueue_many=True,\n",
    "            allow_smaller_final_batch=True\n",
    "        )\n",
    "\n",
    "    target = features.pop(TARGET_NAME)\n",
    "    \n",
    "    \n",
    "    print(\"\")\n",
    "    print(\"* data input_fn:\")\n",
    "    print(\"================\")\n",
    "    print(\"Input file(s): {}\".format(file_names))\n",
    "    print(\"Batch size: {}\".format(batch_size))\n",
    "    print(\"Epoch Count: {}\".format(num_epochs))\n",
    "    print(\"Mode: {}\".format(mode))\n",
    "    print(\"Thread Count: {}\".format(num_threads))\n",
    "    print(\"Shuffle: {}\".format(shuffle))\n",
    "    print(\"================\")\n",
    "    print(\"\")\n",
    "    \n",
    "    return process_features(features), target"
   ]
  },
  {
   "cell_type": "code",
   "execution_count": 6,
   "metadata": {},
   "outputs": [
    {
     "name": "stdout",
     "output_type": "stream",
     "text": [
      "<tf.Variable 'matching_filenames:0' shape=<unknown> dtype=string_ref>\n",
      "\n",
      "* data input_fn:\n",
      "================\n",
      "Input file(s): data/train-*.csv\n",
      "Batch size: 200\n",
      "Epoch Count: None\n",
      "Mode: eval\n",
      "Thread Count: 4\n",
      "Shuffle: False\n",
      "================\n",
      "\n",
      "Feature read from CSV: ['alpha', 'beta', 'x', 'y', 'x_2', 'y_2', 'xy', 'dist_xy']\n",
      "Target read from CSV: Tensor(\"batch:2\", shape=(?, 1), dtype=float32)\n"
     ]
    }
   ],
   "source": [
    "features, target = csv_input_fn(file_names=train_data_files)\n",
    "print(\"Feature read from CSV: {}\".format(list(features.keys())))\n",
    "print(\"Target read from CSV: {}\".format(target))"
   ]
  },
  {
   "cell_type": "markdown",
   "metadata": {},
   "source": [
    "## 3. Define Feature Columns"
   ]
  },
  {
   "cell_type": "code",
   "execution_count": 7,
   "metadata": {},
   "outputs": [
    {
     "name": "stdout",
     "output_type": "stream",
     "text": [
      "Feature Columns: {'x': _NumericColumn(key='x', shape=(1,), default_value=None, dtype=tf.float32, normalizer_fn=None), 'y': _NumericColumn(key='y', shape=(1,), default_value=None, dtype=tf.float32, normalizer_fn=None), 'x_2': _NumericColumn(key='x_2', shape=(1,), default_value=None, dtype=tf.float32, normalizer_fn=None), 'y_2': _NumericColumn(key='y_2', shape=(1,), default_value=None, dtype=tf.float32, normalizer_fn=None), 'xy': _NumericColumn(key='xy', shape=(1,), default_value=None, dtype=tf.float32, normalizer_fn=None), 'dist_xy': _NumericColumn(key='dist_xy', shape=(1,), default_value=None, dtype=tf.float32, normalizer_fn=None), 'alpha': _VocabularyListCategoricalColumn(key='alpha', vocabulary_list=('ax01', 'ax02'), dtype=tf.string, default_value=-1, num_oov_buckets=0), 'beta': _VocabularyListCategoricalColumn(key='beta', vocabulary_list=('bx01', 'bx02'), dtype=tf.string, default_value=-1, num_oov_buckets=0), 'alpha_X_beta': _CrossedColumn(keys=(_VocabularyListCategoricalColumn(key='alpha', vocabulary_list=('ax01', 'ax02'), dtype=tf.string, default_value=-1, num_oov_buckets=0), _VocabularyListCategoricalColumn(key='beta', vocabulary_list=('bx01', 'bx02'), dtype=tf.string, default_value=-1, num_oov_buckets=0)), hash_bucket_size=4, hash_key=None)}\n"
     ]
    }
   ],
   "source": [
    "def get_feature_columns():\n",
    "    \n",
    "    CONSTRUCTED_NUMERIC_FEATURES_NAMES = ['x_2', 'y_2', 'xy', 'dist_xy']\n",
    "    all_numeric_feature_names = NUMERIC_FEATURE_NAMES + CONSTRUCTED_NUMERIC_FEATURES_NAMES\n",
    "\n",
    "    numeric_columns = {feature_name: tf.feature_column.numeric_column(feature_name)\n",
    "                       for feature_name in all_numeric_feature_names}\n",
    "\n",
    "    categorical_column_with_vocabulary = \\\n",
    "        {item[0]: tf.feature_column.categorical_column_with_vocabulary_list(item[0], item[1])\n",
    "         for item in CATEGORICAL_FEATURE_NAMES_WITH_VOCABULARY.items()}\n",
    "        \n",
    "    feature_columns = {}\n",
    "\n",
    "    if numeric_columns is not None:\n",
    "        feature_columns.update(numeric_columns)\n",
    "\n",
    "    if categorical_column_with_vocabulary is not None:\n",
    "        feature_columns.update(categorical_column_with_vocabulary) \n",
    "    \n",
    "    # apply feature extentions\n",
    "    \n",
    "    feature_columns['alpha_X_beta'] = tf.feature_column.crossed_column(\n",
    "        [feature_columns['alpha'], feature_columns['beta']], 4)\n",
    "    \n",
    "    return feature_columns\n",
    "\n",
    "feature_columns = get_feature_columns()\n",
    "print(\"Feature Columns: {}\".format(feature_columns))"
   ]
  },
  {
   "cell_type": "markdown",
   "metadata": {},
   "source": [
    "## 4. Instantiate an Estimator"
   ]
  },
  {
   "cell_type": "code",
   "execution_count": 8,
   "metadata": {
    "collapsed": true
   },
   "outputs": [],
   "source": [
    "def create_estimator(run_config, hparams):\n",
    "    \n",
    "    feature_columns = list(get_feature_columns().values())\n",
    "    \n",
    "    dense_columns = list(\n",
    "        filter(lambda column: isinstance(column, feature_column._NumericColumn),\n",
    "               feature_columns\n",
    "        )\n",
    "    )\n",
    "\n",
    "    categorical_columns = list(\n",
    "        filter(lambda column: isinstance(column, feature_column._VocabularyListCategoricalColumn) |\n",
    "                              isinstance(column, feature_column._BucketizedColumn),\n",
    "                   feature_columns)\n",
    "    )\n",
    "    \n",
    "    \n",
    "    # convert categorical columns to indicators\n",
    "    \n",
    "    indicator_columns = list(\n",
    "            map(lambda column: tf.feature_column.indicator_column(column),\n",
    "                categorical_columns)\n",
    "    )\n",
    "    \n",
    "    \n",
    "    estimator = tf.estimator.DNNRegressor(\n",
    "        \n",
    "        feature_columns= dense_columns + indicator_columns ,\n",
    "        hidden_units= hparams.hidden_units,\n",
    "        \n",
    "        optimizer= tf.train.AdamOptimizer(),\n",
    "        activation_fn= tf.nn.elu,\n",
    "        dropout= hparams.dropout_prob,\n",
    "        \n",
    "        config= run_config\n",
    "    )\n",
    "    \n",
    "    print(\"\")\n",
    "    print(\"Estimator Type: {}\".format(type(estimator)))\n",
    "    print(\"\")\n",
    "    \n",
    "    return estimator"
   ]
  },
  {
   "cell_type": "markdown",
   "metadata": {},
   "source": [
    "## 5. Define Serving Funcion"
   ]
  },
  {
   "cell_type": "code",
   "execution_count": 9,
   "metadata": {
    "collapsed": true
   },
   "outputs": [],
   "source": [
    "def csv_serving_input_fn():\n",
    "    \n",
    "    SERVING_HEADER = ['x','y','alpha','beta']\n",
    "    SERVING_HEADER_DEFAULTS = [[0.0], [0.0], ['NA'], ['NA']]\n",
    "\n",
    "    rows_string_tensor = tf.placeholder(dtype=tf.string,\n",
    "                                         shape=[None],\n",
    "                                         name='rows_string_tensor')\n",
    "    \n",
    "    receiver_tensor = {'rows': rows_string_tensor}\n",
    "\n",
    "    row_columns = tf.expand_dims(rows_string_tensor, -1)\n",
    "    columns = tf.decode_csv(row_columns, record_defaults=SERVING_HEADER_DEFAULTS)\n",
    "    features = dict(zip(SERVING_HEADER, columns))\n",
    "\n",
    "    return tf.estimator.export.ServingInputReceiver(\n",
    "        process_features(features), receiver_tensor)"
   ]
  },
  {
   "cell_type": "markdown",
   "metadata": {},
   "source": [
    "## 6. Define Validation Monitor"
   ]
  },
  {
   "cell_type": "code",
   "execution_count": 10,
   "metadata": {},
   "outputs": [
    {
     "name": "stdout",
     "output_type": "stream",
     "text": [
      "WARNING:tensorflow:From /Users/khalidsalama/anaconda/lib/python3.6/site-packages/tensorflow/contrib/learn/python/learn/monitors.py:267: BaseMonitor.__init__ (from tensorflow.contrib.learn.python.learn.monitors) is deprecated and will be removed after 2016-12-05.\n",
      "Instructions for updating:\n",
      "Monitors are deprecated. Please use tf.train.SessionRunHook.\n"
     ]
    }
   ],
   "source": [
    "validation_input_fn = lambda: csv_input_fn(\n",
    "            valid_data_files,\n",
    "            mode=tf.contrib.learn.ModeKeys.EVAL,\n",
    "            num_epochs=1,\n",
    "            batch_size=500\n",
    "        )\n",
    "\n",
    "validation_monitor = tf.contrib.learn.monitors.ValidationMonitor(\n",
    "     input_fn= validation_input_fn,\n",
    "     every_n_steps=240,\n",
    "     early_stopping_metric=\"loss\",\n",
    "     early_stopping_metric_minimize=True,\n",
    "     early_stopping_rounds=1\n",
    ")"
   ]
  },
  {
   "cell_type": "markdown",
   "metadata": {},
   "source": [
    "## 7. Run Experiment"
   ]
  },
  {
   "cell_type": "markdown",
   "metadata": {},
   "source": [
    "### a. Define Experiment Function"
   ]
  },
  {
   "cell_type": "code",
   "execution_count": 11,
   "metadata": {
    "collapsed": true
   },
   "outputs": [],
   "source": [
    "def generate_experiment_fn(**experiment_args):\n",
    "\n",
    "    def _experiment_fn(run_config, hparams):\n",
    "\n",
    "        train_input_fn = lambda: csv_input_fn(\n",
    "            train_data_files,\n",
    "            mode = tf.contrib.learn.ModeKeys.TRAIN,\n",
    "            num_epochs=hparams.num_epochs,\n",
    "            batch_size=hparams.batch_size\n",
    "        )\n",
    "\n",
    "        eval_input_fn = lambda: csv_input_fn(\n",
    "            valid_data_files,\n",
    "            mode=tf.contrib.learn.ModeKeys.EVAL,\n",
    "            num_epochs=1,\n",
    "            batch_size=hparams.batch_size\n",
    "        )\n",
    "\n",
    "        estimator = create_estimator(run_config, hparams)\n",
    "\n",
    "        return tf.contrib.learn.Experiment(\n",
    "            estimator,\n",
    "            train_input_fn=train_input_fn,\n",
    "            eval_input_fn=eval_input_fn,\n",
    "            eval_steps=None,\n",
    "            min_eval_frequency=10,\n",
    "            #train_monitors=[validation_monitor],\n",
    "            **experiment_args\n",
    "        )\n",
    "\n",
    "    return _experiment_fn"
   ]
  },
  {
   "cell_type": "markdown",
   "metadata": {},
   "source": [
    "### b. Set HParam and RunConfig"
   ]
  },
  {
   "cell_type": "code",
   "execution_count": 12,
   "metadata": {},
   "outputs": [
    {
     "name": "stdout",
     "output_type": "stream",
     "text": [
      "Model directory: trained_models/reg-model-02\n",
      "Hyper-parameters: [('batch_size', 500), ('dropout_prob', 0.0), ('hidden_units', [8, 4]), ('num_epochs', 100)]\n",
      "\n"
     ]
    }
   ],
   "source": [
    "hparams  = tf.contrib.training.HParams(\n",
    "    num_epochs = 100, #10000 will overfit, needs early stopping\n",
    "    batch_size = 500,\n",
    "    hidden_units=[8, 4], \n",
    "    dropout_prob = 0.0)\n",
    "\n",
    "model_dir = 'trained_models/{}'.format(model_name)\n",
    "\n",
    "run_config = tf.contrib.learn.RunConfig(\n",
    "    model_dir=model_dir\n",
    ")\n",
    "\n",
    "# run_config = tf.estimator.RunConfig().replace(\n",
    "#     model_dir=model_dir\n",
    "# )\n",
    "\n",
    "print(\"Model directory: {}\".format(run_config.model_dir))\n",
    "print(\"Hyper-parameters: {}\".format(hparams))\n",
    "print(\"\")"
   ]
  },
  {
   "cell_type": "markdown",
   "metadata": {},
   "source": [
    "### c. Run Experiment via learn_runner"
   ]
  },
  {
   "cell_type": "code",
   "execution_count": 13,
   "metadata": {},
   "outputs": [
    {
     "name": "stdout",
     "output_type": "stream",
     "text": [
      "Removing previous artifacts...\n",
      "Experiment started at 20:30:14\n",
      ".......................................\n",
      "WARNING:tensorflow:RunConfig.uid (from tensorflow.contrib.learn.python.learn.estimators.run_config) is experimental and may change or be removed at any time, and without warning.\n",
      "INFO:tensorflow:Using config: {'_task_type': None, '_task_id': 0, '_cluster_spec': <tensorflow.python.training.server_lib.ClusterSpec object at 0x123cffeb8>, '_master': '', '_num_ps_replicas': 0, '_num_worker_replicas': 0, '_environment': 'local', '_is_chief': True, '_evaluation_master': '', '_tf_config': gpu_options {\n",
      "  per_process_gpu_memory_fraction: 1\n",
      "}\n",
      ", '_tf_random_seed': None, '_save_summary_steps': 100, '_save_checkpoints_secs': 600, '_log_step_count_steps': 100, '_session_config': None, '_save_checkpoints_steps': None, '_keep_checkpoint_max': 5, '_keep_checkpoint_every_n_hours': 10000, '_model_dir': 'trained_models/reg-model-02'}\n",
      "\n",
      "Estimator Type: <class 'tensorflow.python.estimator.canned.dnn.DNNRegressor'>\n",
      "\n",
      "WARNING:tensorflow:RunConfig.uid (from tensorflow.contrib.learn.python.learn.estimators.run_config) is experimental and may change or be removed at any time, and without warning.\n",
      "<tf.Variable 'matching_filenames:0' shape=<unknown> dtype=string_ref>\n",
      "\n",
      "* data input_fn:\n",
      "================\n",
      "Input file(s): data/train-*.csv\n",
      "Batch size: 500\n",
      "Epoch Count: 100\n",
      "Mode: train\n",
      "Thread Count: 4\n",
      "Shuffle: True\n",
      "================\n",
      "\n",
      "INFO:tensorflow:Create CheckpointSaverHook.\n",
      "INFO:tensorflow:Saving checkpoints for 1 into trained_models/reg-model-02/model.ckpt.\n",
      "INFO:tensorflow:loss = 173465.0, step = 1\n",
      "<tf.Variable 'matching_filenames:0' shape=<unknown> dtype=string_ref>\n",
      "\n",
      "* data input_fn:\n",
      "================\n",
      "Input file(s): data/valid-*.csv\n",
      "Batch size: 500\n",
      "Epoch Count: 1\n",
      "Mode: eval\n",
      "Thread Count: 4\n",
      "Shuffle: False\n",
      "================\n",
      "\n",
      "INFO:tensorflow:Starting evaluation at 2017-11-02-20:30:19\n",
      "INFO:tensorflow:Restoring parameters from trained_models/reg-model-02/model.ckpt-1\n",
      "INFO:tensorflow:Finished evaluation at 2017-11-02-20:30:20\n",
      "INFO:tensorflow:Saving dict for global step 1: average_loss = 320.157, global_step = 1, loss = 160079.0\n",
      "INFO:tensorflow:Validation (step 10): average_loss = 320.157, loss = 160079.0, global_step = 1\n",
      "INFO:tensorflow:global_step/sec: 36.1822\n",
      "INFO:tensorflow:loss = 146691.0, step = 101 (2.766 sec)\n",
      "INFO:tensorflow:global_step/sec: 158.169\n",
      "INFO:tensorflow:loss = 127966.0, step = 201 (0.630 sec)\n",
      "INFO:tensorflow:global_step/sec: 187.229\n",
      "INFO:tensorflow:loss = 132517.0, step = 301 (0.536 sec)\n",
      "INFO:tensorflow:global_step/sec: 226.523\n",
      "INFO:tensorflow:loss = 143106.0, step = 401 (0.441 sec)\n",
      "INFO:tensorflow:global_step/sec: 205.722\n",
      "INFO:tensorflow:loss = 109854.0, step = 501 (0.486 sec)\n",
      "INFO:tensorflow:global_step/sec: 236.59\n",
      "INFO:tensorflow:loss = 113308.0, step = 601 (0.422 sec)\n",
      "INFO:tensorflow:global_step/sec: 231.196\n",
      "INFO:tensorflow:loss = 112793.0, step = 701 (0.433 sec)\n",
      "INFO:tensorflow:global_step/sec: 242.673\n",
      "INFO:tensorflow:loss = 92369.7, step = 801 (0.412 sec)\n",
      "INFO:tensorflow:global_step/sec: 221.026\n",
      "INFO:tensorflow:loss = 85762.7, step = 901 (0.453 sec)\n",
      "INFO:tensorflow:global_step/sec: 238.063\n",
      "INFO:tensorflow:loss = 102055.0, step = 1001 (0.420 sec)\n",
      "INFO:tensorflow:global_step/sec: 177.976\n",
      "INFO:tensorflow:loss = 103521.0, step = 1101 (0.562 sec)\n",
      "INFO:tensorflow:global_step/sec: 227.83\n",
      "INFO:tensorflow:loss = 87536.8, step = 1201 (0.441 sec)\n",
      "INFO:tensorflow:global_step/sec: 172.546\n",
      "INFO:tensorflow:loss = 69411.6, step = 1301 (0.577 sec)\n",
      "INFO:tensorflow:global_step/sec: 201.408\n",
      "INFO:tensorflow:loss = 81006.7, step = 1401 (0.497 sec)\n",
      "INFO:tensorflow:global_step/sec: 246.182\n",
      "INFO:tensorflow:loss = 67555.6, step = 1501 (0.405 sec)\n",
      "INFO:tensorflow:global_step/sec: 242.321\n",
      "INFO:tensorflow:loss = 72260.9, step = 1601 (0.414 sec)\n",
      "INFO:tensorflow:global_step/sec: 241.844\n",
      "INFO:tensorflow:loss = 86255.3, step = 1701 (0.413 sec)\n",
      "INFO:tensorflow:global_step/sec: 247.392\n",
      "INFO:tensorflow:loss = 66888.6, step = 1801 (0.405 sec)\n",
      "INFO:tensorflow:global_step/sec: 244.583\n",
      "INFO:tensorflow:loss = 59856.8, step = 1901 (0.409 sec)\n",
      "INFO:tensorflow:global_step/sec: 244.249\n",
      "INFO:tensorflow:loss = 53856.4, step = 2001 (0.408 sec)\n",
      "INFO:tensorflow:global_step/sec: 247.656\n",
      "INFO:tensorflow:loss = 63322.2, step = 2101 (0.404 sec)\n",
      "INFO:tensorflow:global_step/sec: 246.163\n",
      "INFO:tensorflow:loss = 55545.4, step = 2201 (0.407 sec)\n",
      "INFO:tensorflow:global_step/sec: 243.99\n",
      "INFO:tensorflow:loss = 56372.3, step = 2301 (0.411 sec)\n",
      "INFO:tensorflow:Saving checkpoints for 2400 into trained_models/reg-model-02/model.ckpt.\n",
      "INFO:tensorflow:Loss for final step: 57977.9.\n",
      "<tf.Variable 'matching_filenames:0' shape=<unknown> dtype=string_ref>\n",
      "\n",
      "* data input_fn:\n",
      "================\n",
      "Input file(s): data/valid-*.csv\n",
      "Batch size: 500\n",
      "Epoch Count: 1\n",
      "Mode: eval\n",
      "Thread Count: 4\n",
      "Shuffle: False\n",
      "================\n",
      "\n",
      "INFO:tensorflow:Starting evaluation at 2017-11-02-20:30:33\n",
      "INFO:tensorflow:Restoring parameters from trained_models/reg-model-02/model.ckpt-2400\n",
      "INFO:tensorflow:Finished evaluation at 2017-11-02-20:30:33\n",
      "INFO:tensorflow:Saving dict for global step 2400: average_loss = 120.775, global_step = 2400, loss = 60387.7\n",
      "INFO:tensorflow:Restoring parameters from trained_models/reg-model-02/model.ckpt-2400\n",
      "INFO:tensorflow:Assets added to graph.\n",
      "INFO:tensorflow:No assets to write.\n",
      "INFO:tensorflow:SavedModel written to: b\"trained_models/reg-model-02/export/Servo/temp-b'1509654633'/saved_model.pb\"\n",
      ".......................................\n",
      "Experiment finished at 20:30:34\n",
      "\n",
      "Experiment elapsed time: 20.440667 seconds\n"
     ]
    }
   ],
   "source": [
    "if not resume:\n",
    "    print(\"Removing previous artifacts...\")\n",
    "    shutil.rmtree(model_dir, ignore_errors=True)\n",
    "else:\n",
    "    print(\"Resuming training...\") \n",
    "\n",
    "if train:\n",
    "    tf.logging.set_verbosity(tf.logging.INFO)\n",
    "    \n",
    "    time_start = datetime.utcnow() \n",
    "    print(\"Experiment started at {}\".format(time_start.strftime(\"%H:%M:%S\")))\n",
    "    print(\".......................................\") \n",
    "    \n",
    "    learn_runner.run(\n",
    "        experiment_fn=generate_experiment_fn(\n",
    "\n",
    "            export_strategies=[make_export_strategy(\n",
    "                csv_serving_input_fn,\n",
    "                exports_to_keep=1\n",
    "            )]\n",
    "        ),\n",
    "        run_config=run_config,\n",
    "        schedule=\"train_and_evaluate\",\n",
    "        hparams=hparams\n",
    "    )\n",
    "    \n",
    "    time_end = datetime.utcnow() \n",
    "    print(\".......................................\")\n",
    "    print(\"Experiment finished at {}\".format(time_end.strftime(\"%H:%M:%S\")))\n",
    "    print(\"\")\n",
    "    time_elapsed = time_end - time_start\n",
    "    print(\"Experiment elapsed time: {} seconds\".format(time_elapsed.total_seconds()))\n"
   ]
  },
  {
   "cell_type": "markdown",
   "metadata": {},
   "source": [
    "## 7. Evaluate the Model"
   ]
  },
  {
   "cell_type": "code",
   "execution_count": 14,
   "metadata": {},
   "outputs": [
    {
     "name": "stdout",
     "output_type": "stream",
     "text": [
      "INFO:tensorflow:Using config: {'_task_type': None, '_task_id': 0, '_cluster_spec': <tensorflow.python.training.server_lib.ClusterSpec object at 0x123cffeb8>, '_master': '', '_num_ps_replicas': 0, '_num_worker_replicas': 0, '_environment': 'local', '_is_chief': True, '_evaluation_master': '', '_tf_config': gpu_options {\n",
      "  per_process_gpu_memory_fraction: 1\n",
      "}\n",
      ", '_tf_random_seed': None, '_save_summary_steps': 100, '_save_checkpoints_secs': 600, '_log_step_count_steps': 100, '_session_config': None, '_save_checkpoints_steps': None, '_keep_checkpoint_max': 5, '_keep_checkpoint_every_n_hours': 10000, '_model_dir': 'trained_models/reg-model-02'}\n",
      "\n",
      "Estimator Type: <class 'tensorflow.python.estimator.canned.dnn.DNNRegressor'>\n",
      "\n",
      "<tf.Variable 'matching_filenames:0' shape=<unknown> dtype=string_ref>\n",
      "\n",
      "* data input_fn:\n",
      "================\n",
      "Input file(s): data/test-*.csv\n",
      "Batch size: 5000\n",
      "Epoch Count: None\n",
      "Mode: eval\n",
      "Thread Count: 4\n",
      "Shuffle: False\n",
      "================\n",
      "\n",
      "INFO:tensorflow:Starting evaluation at 2017-11-02-20:30:35\n",
      "INFO:tensorflow:Restoring parameters from trained_models/reg-model-02/model.ckpt-2400\n",
      "INFO:tensorflow:Evaluation [1/1]\n",
      "INFO:tensorflow:Finished evaluation at 2017-11-02-20:30:36\n",
      "INFO:tensorflow:Saving dict for global step 2400: average_loss = 126.274, global_step = 2400, loss = 631371.0\n",
      "\n",
      "{'average_loss': 126.27426, 'loss': 631371.31, 'global_step': 2400}\n",
      "\n",
      "RMSE: 11.23718\n"
     ]
    }
   ],
   "source": [
    "test_size = 5000\n",
    "\n",
    "test_input_fn = lambda: csv_input_fn(file_names= test_data_files, \n",
    "                                      mode= tf.estimator.ModeKeys.EVAL,\n",
    "                                      batch_size= test_size)\n",
    "\n",
    "estimator = create_estimator(run_config, hparams)\n",
    "results = estimator.evaluate(input_fn=test_input_fn, steps=1)\n",
    "print(\"\")\n",
    "print(results)\n",
    "rmse = round(math.sqrt(results[\"average_loss\"]),5)\n",
    "print(\"\")\n",
    "print(\"RMSE: {}\".format(rmse))"
   ]
  },
  {
   "cell_type": "markdown",
   "metadata": {},
   "source": [
    "## 8. Prediction"
   ]
  },
  {
   "cell_type": "code",
   "execution_count": 15,
   "metadata": {},
   "outputs": [
    {
     "name": "stdout",
     "output_type": "stream",
     "text": [
      "<tf.Variable 'matching_filenames:0' shape=<unknown> dtype=string_ref>\n",
      "\n",
      "* data input_fn:\n",
      "================\n",
      "Input file(s): data/test-*.csv\n",
      "Batch size: 5\n",
      "Epoch Count: None\n",
      "Mode: infer\n",
      "Thread Count: 4\n",
      "Shuffle: False\n",
      "================\n",
      "\n",
      "INFO:tensorflow:Restoring parameters from trained_models/reg-model-02/model.ckpt-2400\n",
      "[48.429974, -13.159924, 10.668922, 2.3938756, 2.6710052]\n"
     ]
    }
   ],
   "source": [
    "import itertools\n",
    "\n",
    "predict_input_fn = lambda: csv_input_fn(file_names=test_data_files, \n",
    "                                      mode= tf.estimator.ModeKeys.PREDICT,\n",
    "                                      batch_size= 5)\n",
    "\n",
    "predictions = estimator.predict(input_fn=predict_input_fn)\n",
    "print((list(map(lambda item: item[\"predictions\"][0],list(itertools.islice(predictions, 5))))))"
   ]
  },
  {
   "cell_type": "markdown",
   "metadata": {},
   "source": [
    "## Serving via the Saved Model"
   ]
  },
  {
   "cell_type": "code",
   "execution_count": 16,
   "metadata": {},
   "outputs": [
    {
     "name": "stdout",
     "output_type": "stream",
     "text": [
      "saved_model.pb\n",
      "variables\n"
     ]
    },
    {
     "name": "stderr",
     "output_type": "stream",
     "text": [
      "ERROR: (gcloud.ml-engine.local.predict) RuntimeError: Bad magic number in .pyc file\n",
      "\n"
     ]
    }
   ],
   "source": [
    "%%bash\n",
    "\n",
    "MODEL_NAME='reg-model-01'\n",
    "LAST=$(ls trained_models/${MODEL_NAME}/export | tail -1)\n",
    "SAVE_MODEL_DIR=trained_models/$MODEL_NAME/export/$LAST\n",
    "ls $SAVE_MODEL_DIR\n",
    "\n",
    "gcloud ml-engine local predict --model-dir=$SAVE_MODEL_DIR --text-instances='data/new-data.csv'"
   ]
  },
  {
   "cell_type": "markdown",
   "metadata": {},
   "source": [
    "## What can we improve?\n",
    "\n",
    "* **Use Dataset APIs** - The dataset APIs standardise and simplifiy building a data input pipeline.\n",
    "\n",
    "\n",
    "* **Use .tfrecords files instead of CSV** - TFRecord files are optimised for tensorflow.\n",
    "\n",
    "\n",
    "* **Build a Custom Estimator** -  Custom Estimator APIs give you the flexibility to build custom models in a simple and standard way\n",
    "\n"
   ]
  },
  {
   "cell_type": "code",
   "execution_count": null,
   "metadata": {
    "collapsed": true
   },
   "outputs": [],
   "source": []
  }
 ],
 "metadata": {
  "kernelspec": {
   "display_name": "Python 3",
   "language": "python",
   "name": "python3"
  },
  "language_info": {
   "codemirror_mode": {
    "name": "ipython",
    "version": 3
   },
   "file_extension": ".py",
   "mimetype": "text/x-python",
   "name": "python",
   "nbconvert_exporter": "python",
   "pygments_lexer": "ipython3",
   "version": "3.6.1"
  }
 },
 "nbformat": 4,
 "nbformat_minor": 2
}
