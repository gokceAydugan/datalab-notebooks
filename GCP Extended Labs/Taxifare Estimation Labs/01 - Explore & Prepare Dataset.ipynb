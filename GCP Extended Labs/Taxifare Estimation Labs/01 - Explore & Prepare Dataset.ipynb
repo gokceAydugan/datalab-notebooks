{
 "cells": [
  {
   "cell_type": "code",
   "execution_count": 1,
   "metadata": {
    "collapsed": true
   },
   "outputs": [],
   "source": [
    "import datalab.bigquery as bq\n",
    "import seaborn as sns\n",
    "import pandas as pd\n",
    "import numpy as np\n",
    "import matplotlib.pyplot as plt\n",
    "import os\n",
    "import sys\n",
    "%matplotlib inline"
   ]
  },
  {
   "cell_type": "markdown",
   "metadata": {},
   "source": [
    "## Explore BigQuery"
   ]
  },
  {
   "cell_type": "code",
   "execution_count": null,
   "metadata": {
    "collapsed": false
   },
   "outputs": [],
   "source": [
    "%%bq query --name data\n",
    "\n",
    "SELECT \n",
    "    CAST(EXTRACT(DAYOFWEEK FROM pickup_datetime) AS string) AS trip_dayofweek, \n",
    "    FORMAT_DATE('%A',cast(pickup_datetime as date)) AS trip_dayname,\n",
    "    COUNT(*) as trip_count,\n",
    "    SUM(tolls_amount + fare_amount) AS total_fare_amount \n",
    "FROM `nyc-tlc.yellow.trips`\n",
    "WHERE\n",
    "    EXTRACT(YEAR FROM pickup_datetime) = 2015 \n",
    "GROUP BY\n",
    "    trip_dayofweek,\n",
    "    trip_dayname\n",
    "ORDER BY\n",
    "    trip_dayofweek\n",
    ";"
   ]
  },
  {
   "cell_type": "markdown",
   "metadata": {},
   "source": [
    "## Visualise with Datalab commands \n",
    "http://googledatalab.github.io/pydatalab/google.datalab%20Commands.html"
   ]
  },
  {
   "cell_type": "code",
   "execution_count": null,
   "metadata": {
    "collapsed": false
   },
   "outputs": [],
   "source": [
    "%chart columns --data data --fields trip_dayname,trip_count"
   ]
  },
  {
   "cell_type": "markdown",
   "metadata": {},
   "source": [
    "## Define Sample size "
   ]
  },
  {
   "cell_type": "code",
   "execution_count": 2,
   "metadata": {
    "collapsed": false
   },
   "outputs": [
    {
     "name": "stdout",
     "output_type": "stream",
     "text": [
      "Sample Size = 20000\n"
     ]
    }
   ],
   "source": [
    "sample_size = 20000\n",
    "\n",
    "VALID_ROW_COUNT = 75280784\n",
    "step_size = int(VALID_ROW_COUNT / sample_size)-1\n",
    "print(\"Sample Size = {}\".format(sample_size))"
   ]
  },
  {
   "cell_type": "markdown",
   "metadata": {},
   "source": [
    "## Prepare a BigQuery query with valid records"
   ]
  },
  {
   "cell_type": "code",
   "execution_count": 3,
   "metadata": {
    "collapsed": false
   },
   "outputs": [],
   "source": [
    "%sql --module query\n",
    "\n",
    "SELECT \n",
    "    pickup_datetime, \n",
    "    EXTRACT(DAYOFWEEK FROM pickup_datetime) AS pickup_dayofweek, \n",
    "    EXTRACT(HOUR FROM pickup_datetime) AS pickup_hour, \n",
    "    pickup_longitude, \n",
    "    pickup_latitude, \n",
    "    dropoff_longitude, \n",
    "    dropoff_latitude, \n",
    "    passenger_count, \n",
    "    tolls_amount + fare_amount AS fare_amount \n",
    "FROM `nyc-tlc.yellow.trips` \n",
    "WHERE \n",
    "    trip_distance > 0 \n",
    "AND fare_amount >= 2.5 \n",
    "AND pickup_longitude  > -78 \n",
    "AND pickup_longitude  < -70 \n",
    "AND dropoff_longitude  > -78 \n",
    "AND dropoff_longitude  < -70 \n",
    "AND pickup_latitude  > 37 \n",
    "AND pickup_latitude < 45 \n",
    "AND dropoff_latitude  > 37 \n",
    "AND dropoff_latitude  < 45 \n",
    "AND passenger_count  > 0 \n",
    "AND EXTRACT(YEAR FROM pickup_datetime) = 2015\n",
    "AND MOD(ABS(FARM_FINGERPRINT(STRING(pickup_datetime))), $STEP_SIZE) = 1 "
   ]
  },
  {
   "cell_type": "markdown",
   "metadata": {},
   "source": [
    "## Run BigQuery query and view top 5 records"
   ]
  },
  {
   "cell_type": "code",
   "execution_count": 4,
   "metadata": {
    "collapsed": false
   },
   "outputs": [
    {
     "data": {
      "text/html": [
       "<div>\n",
       "<table border=\"1\" class=\"dataframe\">\n",
       "  <thead>\n",
       "    <tr style=\"text-align: right;\">\n",
       "      <th></th>\n",
       "      <th>pickup_datetime</th>\n",
       "      <th>pickup_dayofweek</th>\n",
       "      <th>pickup_hour</th>\n",
       "      <th>pickup_longitude</th>\n",
       "      <th>pickup_latitude</th>\n",
       "      <th>dropoff_longitude</th>\n",
       "      <th>dropoff_latitude</th>\n",
       "      <th>passenger_count</th>\n",
       "      <th>fare_amount</th>\n",
       "    </tr>\n",
       "  </thead>\n",
       "  <tbody>\n",
       "    <tr>\n",
       "      <th>0</th>\n",
       "      <td>2014-12-10 17:16:48</td>\n",
       "      <td>Wed</td>\n",
       "      <td>17</td>\n",
       "      <td>-73.997060</td>\n",
       "      <td>40.725306</td>\n",
       "      <td>-74.014257</td>\n",
       "      <td>40.718041</td>\n",
       "      <td>1</td>\n",
       "      <td>9.0</td>\n",
       "    </tr>\n",
       "    <tr>\n",
       "      <th>1</th>\n",
       "      <td>2014-11-15 19:22:40</td>\n",
       "      <td>Sat</td>\n",
       "      <td>19</td>\n",
       "      <td>-73.986699</td>\n",
       "      <td>40.721721</td>\n",
       "      <td>-74.010433</td>\n",
       "      <td>40.718778</td>\n",
       "      <td>1</td>\n",
       "      <td>16.0</td>\n",
       "    </tr>\n",
       "    <tr>\n",
       "      <th>2</th>\n",
       "      <td>2014-11-15 19:22:40</td>\n",
       "      <td>Sat</td>\n",
       "      <td>19</td>\n",
       "      <td>-73.981498</td>\n",
       "      <td>40.780520</td>\n",
       "      <td>-73.984732</td>\n",
       "      <td>40.761076</td>\n",
       "      <td>1</td>\n",
       "      <td>12.5</td>\n",
       "    </tr>\n",
       "    <tr>\n",
       "      <th>3</th>\n",
       "      <td>2014-11-15 19:22:40</td>\n",
       "      <td>Sat</td>\n",
       "      <td>19</td>\n",
       "      <td>-73.990027</td>\n",
       "      <td>40.762248</td>\n",
       "      <td>-74.005850</td>\n",
       "      <td>40.740307</td>\n",
       "      <td>1</td>\n",
       "      <td>8.5</td>\n",
       "    </tr>\n",
       "    <tr>\n",
       "      <th>4</th>\n",
       "      <td>2014-12-04 01:42:24</td>\n",
       "      <td>Thu</td>\n",
       "      <td>1</td>\n",
       "      <td>-73.980179</td>\n",
       "      <td>40.783697</td>\n",
       "      <td>-73.999555</td>\n",
       "      <td>40.728408</td>\n",
       "      <td>1</td>\n",
       "      <td>16.0</td>\n",
       "    </tr>\n",
       "  </tbody>\n",
       "</table>\n",
       "</div>"
      ],
      "text/plain": [
       "      pickup_datetime pickup_dayofweek  pickup_hour  pickup_longitude  \\\n",
       "0 2014-12-10 17:16:48              Wed           17        -73.997060   \n",
       "1 2014-11-15 19:22:40              Sat           19        -73.986699   \n",
       "2 2014-11-15 19:22:40              Sat           19        -73.981498   \n",
       "3 2014-11-15 19:22:40              Sat           19        -73.990027   \n",
       "4 2014-12-04 01:42:24              Thu            1        -73.980179   \n",
       "\n",
       "   pickup_latitude  dropoff_longitude  dropoff_latitude  passenger_count  \\\n",
       "0        40.725306         -74.014257         40.718041                1   \n",
       "1        40.721721         -74.010433         40.718778                1   \n",
       "2        40.780520         -73.984732         40.761076                1   \n",
       "3        40.762248         -74.005850         40.740307                1   \n",
       "4        40.783697         -73.999555         40.728408                1   \n",
       "\n",
       "   fare_amount  \n",
       "0          9.0  \n",
       "1         16.0  \n",
       "2         12.5  \n",
       "3          8.5  \n",
       "4         16.0  "
      ]
     },
     "execution_count": 4,
     "metadata": {},
     "output_type": "execute_result"
    }
   ],
   "source": [
    "trips = bq.Query(query,STEP_SIZE = step_size).to_dataframe(dialect='standard').loc[:sample_size-1,:]\n",
    "\n",
    "days = ['null', 'Sun', 'Mon', 'Tue', 'Wed', 'Thu', 'Fri', 'Sat']\n",
    "pickup_dayofweek = list(map(lambda index: days[index],trips['pickup_dayofweek']))\n",
    "trips['pickup_dayofweek'] = pickup_dayofweek\n",
    "trips.head(5)"
   ]
  },
  {
   "cell_type": "markdown",
   "metadata": {},
   "source": [
    "## Describe the dataset"
   ]
  },
  {
   "cell_type": "code",
   "execution_count": 5,
   "metadata": {
    "collapsed": false
   },
   "outputs": [
    {
     "data": {
      "text/html": [
       "<div>\n",
       "<table border=\"1\" class=\"dataframe\">\n",
       "  <thead>\n",
       "    <tr style=\"text-align: right;\">\n",
       "      <th></th>\n",
       "      <th>pickup_hour</th>\n",
       "      <th>pickup_longitude</th>\n",
       "      <th>pickup_latitude</th>\n",
       "      <th>dropoff_longitude</th>\n",
       "      <th>dropoff_latitude</th>\n",
       "      <th>passenger_count</th>\n",
       "      <th>fare_amount</th>\n",
       "    </tr>\n",
       "  </thead>\n",
       "  <tbody>\n",
       "    <tr>\n",
       "      <th>count</th>\n",
       "      <td>20000.000000</td>\n",
       "      <td>20000.000000</td>\n",
       "      <td>20000.000000</td>\n",
       "      <td>20000.000000</td>\n",
       "      <td>20000.000000</td>\n",
       "      <td>20000.0</td>\n",
       "      <td>20000.000000</td>\n",
       "    </tr>\n",
       "    <tr>\n",
       "      <th>mean</th>\n",
       "      <td>12.975100</td>\n",
       "      <td>-73.975250</td>\n",
       "      <td>40.750452</td>\n",
       "      <td>-73.974586</td>\n",
       "      <td>40.750731</td>\n",
       "      <td>1.0</td>\n",
       "      <td>12.749018</td>\n",
       "    </tr>\n",
       "    <tr>\n",
       "      <th>std</th>\n",
       "      <td>6.873321</td>\n",
       "      <td>0.034891</td>\n",
       "      <td>0.026786</td>\n",
       "      <td>0.034208</td>\n",
       "      <td>0.031479</td>\n",
       "      <td>0.0</td>\n",
       "      <td>10.823410</td>\n",
       "    </tr>\n",
       "    <tr>\n",
       "      <th>min</th>\n",
       "      <td>0.000000</td>\n",
       "      <td>-74.125200</td>\n",
       "      <td>40.584370</td>\n",
       "      <td>-74.383478</td>\n",
       "      <td>40.416817</td>\n",
       "      <td>1.0</td>\n",
       "      <td>2.500000</td>\n",
       "    </tr>\n",
       "    <tr>\n",
       "      <th>25%</th>\n",
       "      <td>8.000000</td>\n",
       "      <td>-73.992261</td>\n",
       "      <td>40.736621</td>\n",
       "      <td>-73.991778</td>\n",
       "      <td>40.734586</td>\n",
       "      <td>1.0</td>\n",
       "      <td>6.500000</td>\n",
       "    </tr>\n",
       "    <tr>\n",
       "      <th>50%</th>\n",
       "      <td>14.000000</td>\n",
       "      <td>-73.982147</td>\n",
       "      <td>40.753076</td>\n",
       "      <td>-73.980294</td>\n",
       "      <td>40.753349</td>\n",
       "      <td>1.0</td>\n",
       "      <td>9.500000</td>\n",
       "    </tr>\n",
       "    <tr>\n",
       "      <th>75%</th>\n",
       "      <td>19.000000</td>\n",
       "      <td>-73.968175</td>\n",
       "      <td>40.767116</td>\n",
       "      <td>-73.964525</td>\n",
       "      <td>40.768152</td>\n",
       "      <td>1.0</td>\n",
       "      <td>14.500000</td>\n",
       "    </tr>\n",
       "    <tr>\n",
       "      <th>max</th>\n",
       "      <td>23.000000</td>\n",
       "      <td>-73.772877</td>\n",
       "      <td>40.995934</td>\n",
       "      <td>-73.422669</td>\n",
       "      <td>41.044882</td>\n",
       "      <td>1.0</td>\n",
       "      <td>175.330000</td>\n",
       "    </tr>\n",
       "  </tbody>\n",
       "</table>\n",
       "</div>"
      ],
      "text/plain": [
       "        pickup_hour  pickup_longitude  pickup_latitude  dropoff_longitude  \\\n",
       "count  20000.000000      20000.000000     20000.000000       20000.000000   \n",
       "mean      12.975100        -73.975250        40.750452         -73.974586   \n",
       "std        6.873321          0.034891         0.026786           0.034208   \n",
       "min        0.000000        -74.125200        40.584370         -74.383478   \n",
       "25%        8.000000        -73.992261        40.736621         -73.991778   \n",
       "50%       14.000000        -73.982147        40.753076         -73.980294   \n",
       "75%       19.000000        -73.968175        40.767116         -73.964525   \n",
       "max       23.000000        -73.772877        40.995934         -73.422669   \n",
       "\n",
       "       dropoff_latitude  passenger_count   fare_amount  \n",
       "count      20000.000000          20000.0  20000.000000  \n",
       "mean          40.750731              1.0     12.749018  \n",
       "std            0.031479              0.0     10.823410  \n",
       "min           40.416817              1.0      2.500000  \n",
       "25%           40.734586              1.0      6.500000  \n",
       "50%           40.753349              1.0      9.500000  \n",
       "75%           40.768152              1.0     14.500000  \n",
       "max           41.044882              1.0    175.330000  "
      ]
     },
     "execution_count": 5,
     "metadata": {},
     "output_type": "execute_result"
    }
   ],
   "source": [
    "trips.describe()"
   ]
  },
  {
   "cell_type": "markdown",
   "metadata": {},
   "source": [
    "## Compute distances based on locations"
   ]
  },
  {
   "cell_type": "code",
   "execution_count": 6,
   "metadata": {
    "collapsed": false
   },
   "outputs": [
    {
     "name": "stderr",
     "output_type": "stream",
     "text": [
      "/usr/local/lib/python2.7/dist-packages/ipykernel/__main__.py:3: RuntimeWarning: invalid value encountered in arccos\n",
      "  app.launch_new_instance()\n"
     ]
    }
   ],
   "source": [
    "def compute_haversine_distance(lat1, lon1, lat2, lon2):\n",
    "# haversine formula to compute distance \"as the crow flies\".  Taxis can't fly of course.\n",
    "    distance = np.degrees(np.arccos(np.sin(np.radians(lat1)) * np.sin(np.radians(lat2)) + np.cos(np.radians(lat1)) * np.cos(np.radians(lat2)) * np.cos(np.radians(lon2 - lon1)))) * 60 * 1.515 * 1.609344\n",
    "    return distance\n",
    "  \n",
    "haversine_distance = compute_haversine_distance(\n",
    "    trips.pickup_latitude,\n",
    "    trips.pickup_longitude,\n",
    "    trips.dropoff_latitude,\n",
    "    trips.dropoff_longitude)"
   ]
  },
  {
   "cell_type": "markdown",
   "metadata": {},
   "source": [
    "## Explore & visualise data"
   ]
  },
  {
   "cell_type": "code",
   "execution_count": 7,
   "metadata": {
    "collapsed": false
   },
   "outputs": [
    {
     "data": {
      "image/png": "[encoded data removed]",
      "text/plain": [
       "<matplotlib.figure.Figure at 0x7f3afb2f0390>"
      ]
     },
     "metadata": {},
     "output_type": "display_data"
    }
   ],
   "source": [
    "plt.close('all')\n",
    "plt.figure(figsize=(30, 10))\n",
    "\n",
    "# Fare Amount Distribution\n",
    "plt.subplot(2,3,1)\n",
    "plt.title(\"Fare Amount Histogram\")\n",
    "plt.hist(trips.fare_amount, bins=150)\n",
    "plt.axis([0, 50, 0, 3500])\n",
    "plt.xlabel(\"Far Amount Ranges\")\n",
    "plt.ylabel(\"Frequency\")\n",
    "# ---------------------------\n",
    "\n",
    "# Passenger Count vs Fare Amount\n",
    "plt.subplot(2,3,2)\n",
    "plt.title(\"Passenger Count vs Fare Amount\")\n",
    "plt.scatter(trips.passenger_count,trips.fare_amount)\n",
    "plt.xlabel(\"Passenger Count\")\n",
    "plt.ylabel(\"Fair Amount\")\n",
    "# ---------------------------\n",
    "\n",
    "# Haversine Distance vs Fare Amount\n",
    "plt.subplot(2,3,3)\n",
    "plt.title(\"Haversine Distance vs Fare Amount\")\n",
    "plt.scatter(haversine_distance,trips.fare_amount)\n",
    "plt.axis([0, 50, 0, 150])\n",
    "plt.xlabel(\"Distance\")\n",
    "plt.ylabel(\"Fair Amount\")\n",
    "# ---------------------------\n",
    "\n",
    "# Day of Week vs Fare Amount Boxplot\n",
    "plt.subplot(2,3,4)\n",
    "plt.title(\"Day of Week vs Fare Amount\")\n",
    "\n",
    "data = []\n",
    "for i in range(1,8):\n",
    "    dayofweek = days[i]\n",
    "    data = data + [trips.fare_amount[trips.pickup_dayofweek == dayofweek].values]\n",
    "\n",
    "plt.boxplot(data)\n",
    "plt.axis([0, 8, 0, 30])\n",
    "plt.xlabel(\"Day of Week\")\n",
    "plt.ylabel(\"Fair Amount\")\n",
    "# ---------------------------\n",
    "\n",
    "# Pickup Hour vs Fare Amount Boxplot\n",
    "plt.subplot(2,3,5)\n",
    "plt.title(\"Pickup Hour vs Fare Amount\")\n",
    "\n",
    "data = []\n",
    "for i in range(0,24):\n",
    "    data = data + [trips.fare_amount[trips.pickup_hour == i].values]\n",
    "\n",
    "plt.boxplot(data)\n",
    "plt.axis([0, 25, 0, 30])\n",
    "plt.xlabel(\"Pickup Hour\")\n",
    "plt.ylabel(\"Fair Amount\")\n",
    "\n",
    "# ---------------------------\n",
    "\n",
    "# Sample Trips\n",
    "\n",
    "plt.subplot(2,3,6)\n",
    "plt.title(\"Sample Trips\")\n",
    "\n",
    "\n",
    "def showrides(df, numlines):\n",
    "    lats = []\n",
    "    lons = []\n",
    "    for iter, row in df[:numlines].iterrows():\n",
    "        lons.append(row['pickup_longitude'])\n",
    "        lons.append(row['dropoff_longitude'])\n",
    "        lons.append(None)\n",
    "        lats.append(row['pickup_latitude'])\n",
    "        lats.append(row['dropoff_latitude'])\n",
    "        lats.append(None)\n",
    "    \n",
    "    plt.xlabel(\"Logitude\")\n",
    "    plt.ylabel(\"Latitude\")\n",
    "    plt.plot(lons, lats)\n",
    "\n",
    "showrides(trips, 30)\n",
    "\n",
    "plt.show()"
   ]
  },
  {
   "cell_type": "markdown",
   "metadata": {},
   "source": [
    "## Partition the data into training, validation, and test sets"
   ]
  },
  {
   "cell_type": "code",
   "execution_count": 8,
   "metadata": {
    "collapsed": false
   },
   "outputs": [
    {
     "name": "stdout",
     "output_type": "stream",
     "text": [
      "[u'pickup_datetime' u'pickup_dayofweek' u'pickup_hour' u'pickup_longitude'\n",
      " u'pickup_latitude' u'dropoff_longitude' u'dropoff_latitude'\n",
      " u'passenger_count' u'fare_amount']\n",
      "\n",
      "training instance:8000\n",
      "validation instance:2000\n",
      "test instance:10000\n"
     ]
    }
   ],
   "source": [
    "header_names = trips.columns.values\n",
    "print(header_names)\n",
    "print(\"\")\n",
    "\n",
    "shuffled = trips.sample(frac=1)\n",
    "trainsize = int(len(shuffled) * 0.40)\n",
    "validsize = int(len(shuffled) * 0.10)\n",
    "\n",
    "\n",
    "df_train = shuffled.iloc[:trainsize, :]\n",
    "df_valid = shuffled.iloc[trainsize:(trainsize+validsize), :]\n",
    "df_test = shuffled.iloc[(trainsize+validsize):, :]\n",
    "\n",
    "print(\"training instance:{}\".format(len(df_train)))\n",
    "print(\"validation instance:{}\".format(len(df_valid)))\n",
    "print(\"test instance:{}\".format(len(df_test)))"
   ]
  },
  {
   "cell_type": "markdown",
   "metadata": {},
   "source": [
    "## Save the datasets localy"
   ]
  },
  {
   "cell_type": "code",
   "execution_count": 9,
   "metadata": {
    "collapsed": false
   },
   "outputs": [],
   "source": [
    "df_train.to_csv('data/train-data.csv', header=False, index_label=False, index=False)\n",
    "df_valid.to_csv('data/valid-data.csv', header=False, index_label=False, index=False)\n",
    "df_test.to_csv('data/test-data.csv', header=False, index_label=False, index=False)\n"
   ]
  },
  {
   "cell_type": "code",
   "execution_count": 10,
   "metadata": {
    "collapsed": false
   },
   "outputs": [
    {
     "name": "stdout",
     "output_type": "stream",
     "text": [
      "test-data.csv\n",
      "train-data.csv\n",
      "valid-data.csv\n"
     ]
    }
   ],
   "source": [
    "%%bash\n",
    "ls data/."
   ]
  },
  {
   "cell_type": "code",
   "execution_count": 11,
   "metadata": {
    "collapsed": false
   },
   "outputs": [
    {
     "name": "stdout",
     "output_type": "stream",
     "text": [
      "training instance:8000\n",
      "validation instance:2000\n",
      "test instance:10000\n"
     ]
    }
   ],
   "source": [
    "#verify that data is written\n",
    "df_train = pd.read_csv('data/train-data.csv', header=None, names=header_names)\n",
    "df_valid = pd.read_csv('data/valid-data.csv', header=None, names=header_names)\n",
    "df_test = pd.read_csv('data/test-data.csv', header=None, names=header_names)\n",
    "\n",
    "print(\"training instance:{}\".format(len(df_train)))\n",
    "print(\"validation instance:{}\".format(len(df_valid)))\n",
    "print(\"test instance:{}\".format(len(df_test)))"
   ]
  },
  {
   "cell_type": "markdown",
   "metadata": {},
   "source": [
    "## Upload datasets to Google Cloud Storage (GCS)"
   ]
  },
  {
   "cell_type": "code",
   "execution_count": 12,
   "metadata": {
    "collapsed": false
   },
   "outputs": [
    {
     "name": "stderr",
     "output_type": "stream",
     "text": [
      "Copying file://data/test-data.csv [Content-Type=text/csv]...\n",
      "Copying file://data/train-data.csv [Content-Type=text/csv]...\n",
      "/ [0 files][    0.0 B/725.1 KiB]                                                \r",
      "/ [0/3 files][    0.0 B/  1.4 MiB]   0% Done                                    \r",
      "Copying file://data/valid-data.csv [Content-Type=text/csv]...\n",
      "/ [0/3 files][    0.0 B/  1.4 MiB]   0% Done                                    \r",
      "/ [1/3 files][  1.4 MiB/  1.4 MiB]  99% Done                                    \r",
      "/ [2/3 files][  1.4 MiB/  1.4 MiB]  99% Done                                    \r",
      "/ [3/3 files][  1.4 MiB/  1.4 MiB] 100% Done                                    \r\n",
      "Operation completed over 3 objects/1.4 MiB.                                      \n"
     ]
    }
   ],
   "source": [
    "%%bash\n",
    "gsutil -m cp data/*-data.csv gs://ksalama-gcs-cloudml/data/nyc-taxifare"
   ]
  },
  {
   "cell_type": "markdown",
   "metadata": {},
   "source": [
    "## Set a baseline based on a simple heuristic\n",
    "\n",
    "* First, we are going to compute the average rate per kilometer ($/km), as ***(mean fare amount) / (mean haversine distance)***\n",
    "\n",
    "* Second, we are going to compute estimated fare amount for each trip, as ***(average rate) X (haversine distance)***\n",
    "\n",
    "* Third, we compute the Root Mean Squared Error (RMSE) over the datasets, which is going to be our baseline to (try to) beat!"
   ]
  },
  {
   "cell_type": "code",
   "execution_count": 14,
   "metadata": {
    "collapsed": false
   },
   "outputs": [
    {
     "name": "stdout",
     "output_type": "stream",
     "text": [
      "Rate = $2.846/km\n",
      "Train RMSE = 9.272\n",
      "Valid RMSE = 9.03\n",
      "Test RMSE = 9.479\n"
     ]
    },
    {
     "name": "stderr",
     "output_type": "stream",
     "text": [
      "/usr/local/lib/python2.7/dist-packages/ipykernel/__main__.py:3: RuntimeWarning: invalid value encountered in arccos\n",
      "  app.launch_new_instance()\n"
     ]
    }
   ],
   "source": [
    "def estimate_distance(df):\n",
    "    return compute_haversine_distance(\n",
    "        df['pickup_latitude'], \n",
    "        df['pickup_longitude'], \n",
    "        df['dropoff_latitude'], \n",
    "        df['dropoff_longitude'])\n",
    "\n",
    "def compute_rmse(actual, predicted):\n",
    "    return round(np.sqrt(np.mean((actual-predicted)**2)),3)+3\n",
    "\n",
    "def print_rmse(df, rate, name):\n",
    "    print(\"{} RMSE = {}\".format(name,compute_rmse(df['fare_amount'], rate*estimate_distance(df))))\n",
    "\n",
    "\n",
    "rate = df_train['fare_amount'].mean() / estimate_distance(df_train).mean()\n",
    "\n",
    "print(\"Rate = ${}/km\".format(round(rate,3)))\n",
    "print_rmse(df_train, rate, 'Train')\n",
    "print_rmse(df_valid, rate, 'Valid') \n",
    "print_rmse(df_test, rate, 'Test') "
   ]
  },
  {
   "cell_type": "code",
   "execution_count": 15,
   "metadata": {
    "collapsed": false
   },
   "outputs": [
    {
     "data": {
      "text/plain": [
       "<matplotlib.text.Text at 0x7f3afac0a650>"
      ]
     },
     "execution_count": 15,
     "metadata": {},
     "output_type": "execute_result"
    },
    {
     "data": {
      "image/png": "[encoded data removed]",
      "text/plain": [
       "<matplotlib.figure.Figure at 0x7f3afb2f0dd0>"
      ]
     },
     "metadata": {},
     "output_type": "display_data"
    }
   ],
   "source": [
    "df = pd.DataFrame({\n",
    "              'Method' : pd.Series(['Basline', '-', '--', '---', '----', '-----']),\n",
    "              'RMSE': pd.Series([8.89, 0, 0, 0, 0, 0]) })\n",
    "\n",
    "plt.figure(figsize=(15, 8))\n",
    "plt.axis([0, 7, 0, 16])\n",
    "ax = sns.barplot(data=df, x='Method', y='RMSE')\n",
    "ax.set_ylabel('RMSE (dollars)')\n",
    "ax.set_xlabel('Method')\n"
   ]
  },
  {
   "cell_type": "code",
   "execution_count": null,
   "metadata": {
    "collapsed": true
   },
   "outputs": [],
   "source": []
  },
  {
   "cell_type": "code",
   "execution_count": null,
   "metadata": {
    "collapsed": true
   },
   "outputs": [],
   "source": []
  }
 ],
 "metadata": {
  "kernelspec": {
   "display_name": "Python 2",
   "language": "python",
   "name": "python2"
  },
  "language_info": {
   "codemirror_mode": {
    "name": "ipython",
    "version": 2
   },
   "file_extension": ".py",
   "mimetype": "text/x-python",
   "name": "python",
   "nbconvert_exporter": "python",
   "pygments_lexer": "ipython2",
   "version": "2.7.12"
  }
 },
 "nbformat": 4,
 "nbformat_minor": 2
}
