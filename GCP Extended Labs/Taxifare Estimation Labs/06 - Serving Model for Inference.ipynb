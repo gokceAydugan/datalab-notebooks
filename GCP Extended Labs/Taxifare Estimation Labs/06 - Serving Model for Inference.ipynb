{
 "cells": [
  {
   "cell_type": "code",
   "execution_count": null,
   "metadata": {
    "collapsed": false
   },
   "outputs": [],
   "source": [
    "import tensorflow as tf\n",
    "import os\n",
    "print tf.__version__"
   ]
  },
  {
   "cell_type": "markdown",
   "metadata": {},
   "source": [
    "## Set gcloud commands' variables"
   ]
  },
  {
   "cell_type": "code",
   "execution_count": null,
   "metadata": {
    "collapsed": false
   },
   "outputs": [],
   "source": [
    "PROJECT = 'ksalama-gcp-playground'\n",
    "BUCKET = 'ksalama-gcs-cloudml'\n",
    "REGION = 'europe-west1'\n",
    "\n",
    "os.environ['PROJECT'] = PROJECT\n",
    "os.environ['BUCKET'] = BUCKET\n",
    "os.environ['REGION'] = REGION"
   ]
  },
  {
   "cell_type": "markdown",
   "metadata": {},
   "source": [
    "## Deploy the model"
   ]
  },
  {
   "cell_type": "code",
   "execution_count": null,
   "metadata": {
    "collapsed": false
   },
   "outputs": [],
   "source": [
    "%bash\n",
    "MODEL_NAME=\"taxifare_estimator\"\n",
    "MODEL_VERSION=\"v1\"\n",
    "MODEL_LOCATION=$(gsutil ls gs://${BUCKET}/ml-models/taxifare/dnn-combined-regression-small/export/Servo | tail -1)\n",
    "echo $MODEL_LOCATION\n",
    "\n",
    "# echo \"Deleting version $MODEL_VERSION for model $MODEL_NAME\"\n",
    "# gcloud ml-engine versions delete ${MODEL_VERSION} --model ${MODEL_NAME}\n",
    "\n",
    "# echo \"Deleting model $MODEL_NAME\"\n",
    "# gcloud ml-engine models delete ${MODEL_NAME}\n",
    "\n",
    "# echo \"Creating model $MODEL_NAME\"\n",
    "# gcloud ml-engine models create ${MODEL_NAME} --regions $REGION\n",
    "\n",
    "echo \"Creating version $MODEL_VERSION for model $MODEL_NAME\"\n",
    "gcloud ml-engine versions create ${MODEL_VERSION} --model=${MODEL_NAME} --origin ${MODEL_LOCATION}"
   ]
  },
  {
   "cell_type": "markdown",
   "metadata": {},
   "source": [
    "## Predictions for new data points"
   ]
  },
  {
   "cell_type": "code",
   "execution_count": null,
   "metadata": {
    "collapsed": false
   },
   "outputs": [],
   "source": [
    "from googleapiclient import discovery\n",
    "from oauth2client.client import GoogleCredentials\n",
    "import json\n",
    "\n",
    "credentials = GoogleCredentials.get_application_default()\n",
    "api = discovery.build('ml', 'v1', credentials=credentials,\n",
    "            discoveryServiceUrl='https://storage.googleapis.com/cloud-ml/discovery/ml_v1_discovery.json')\n",
    "\n",
    "request_data = {'instances':\n",
    "  [\n",
    "      {\n",
    "        'dayofweek': 'Fri',\n",
    "        'hourofday': 2,\n",
    "        'pickuplon': -73.885262,\n",
    "        'pickuplat': 40.773008,\n",
    "        'dropofflon': -73.987232,\n",
    "        'dropofflat': 40.732403,\n",
    "        'passengers': 6,\n",
    "\n",
    "      },\n",
    "      {\n",
    "        'dayofweek': 'Sat',\n",
    "        'hourofday': 2,\n",
    "        'pickuplon': -73.885262,\n",
    "        'pickuplat': 42.773008,\n",
    "        'dropofflon': -73.987232,\n",
    "        'dropofflat': 40.732403,\n",
    "        'passengers': 6,\n",
    "\n",
    "      }\n",
    "    \n",
    "  ]\n",
    "}\n",
    "\n",
    "model_url = 'projects/{}/models/{}/versions/{}'.format(PROJECT, 'taxifare_estimator', 'v2')\n",
    "response = api.projects().predict(body=request_data, name=model_url).execute()\n",
    "print \"response={0}\".format(response)"
   ]
  },
  {
   "cell_type": "code",
   "execution_count": null,
   "metadata": {
    "collapsed": true
   },
   "outputs": [],
   "source": []
  }
 ],
 "metadata": {
  "kernelspec": {
   "display_name": "Python 2",
   "language": "python",
   "name": "python2"
  },
  "language_info": {
   "codemirror_mode": {
    "name": "ipython",
    "version": 2
   },
   "file_extension": ".py",
   "mimetype": "text/x-python",
   "name": "python",
   "nbconvert_exporter": "python",
   "pygments_lexer": "ipython2",
   "version": "2.7.12"
  }
 },
 "nbformat": 4,
 "nbformat_minor": 2
}
