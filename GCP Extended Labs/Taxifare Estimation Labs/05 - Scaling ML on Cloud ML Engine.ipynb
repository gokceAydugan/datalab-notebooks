{
 "cells": [
  {
   "cell_type": "code",
   "execution_count": null,
   "metadata": {
    "collapsed": false
   },
   "outputs": [],
   "source": [
    "import tensorflow as tf\n",
    "import datetime\n",
    "import os\n",
    "print tf.__version__"
   ]
  },
  {
   "cell_type": "markdown",
   "metadata": {},
   "source": [
    "## Set gcloud commands' variables"
   ]
  },
  {
   "cell_type": "code",
   "execution_count": null,
   "metadata": {
    "collapsed": false
   },
   "outputs": [],
   "source": [
    "PROJECT = 'ksalama-gcp-playground'\n",
    "BUCKET = 'ksalama-gcs-cloudml'\n",
    "REGION = 'europe-west1'\n",
    "CURRENT_DATE = datetime.datetime.now().strftime('%y%m%d%H%M%S') \n",
    "\n",
    "os.environ['PROJECT'] = PROJECT\n",
    "os.environ['BUCKET'] = BUCKET\n",
    "os.environ['REGION'] = REGION"
   ]
  },
  {
   "cell_type": "markdown",
   "metadata": {},
   "source": [
    "## Download the ml-package from GCS"
   ]
  },
  {
   "cell_type": "code",
   "execution_count": null,
   "metadata": {
    "collapsed": false
   },
   "outputs": [],
   "source": [
    "%%bash\n",
    "rm -rf nyc-taxifare-trainer \n",
    "gsutil -m cp -r gs://$BUCKET/ml-packages/nyc-taxifare-trainer .\n",
    "ls nyc-taxifare-trainer/trainer"
   ]
  },
  {
   "cell_type": "markdown",
   "metadata": {},
   "source": [
    "## Run ml-package locally using gcloud ml-engine command"
   ]
  },
  {
   "cell_type": "code",
   "execution_count": null,
   "metadata": {
    "collapsed": false
   },
   "outputs": [],
   "source": [
    "# %%bash\n",
    "# rm -rf trained_models/dnn_combined_regression_model_gcloud\n",
    "\n",
    "# gcloud ml-engine local train \\\n",
    "#    --module-name=trainer.task \\\n",
    "#    --package-path=nyc-taxifare-trainer/trainer \\\n",
    "#    -- \\\n",
    "#    --train-files=../data/train-data.csv \\\n",
    "#    --eval-files=../data/test-data.csv  \\\n",
    "#    --num-epochs=2 \\\n",
    "#    --job-dir=../trained_models/dnn_combined_regression_model_gcloud"
   ]
  },
  {
   "cell_type": "markdown",
   "metadata": {},
   "source": [
    "## Run ml-package on Google Cloud ML Engine (big data + GPUs)"
   ]
  },
  {
   "cell_type": "code",
   "execution_count": null,
   "metadata": {
    "collapsed": false
   },
   "outputs": [],
   "source": [
    "%%bash\n",
    "\n",
    "OUTDIR=gs://${BUCKET}/ml-models/taxifare/dnn-combined-regression-big-gpu\n",
    "JOBNAME=train_taxifare_model_$(date -u +%y%m%d%H%M%S)\n",
    "\n",
    "echo $OUTDIR $REGION $JOBNAME\n",
    "gsutil -m rm -rf $OUTDIR\n",
    "gcloud ml-engine jobs submit training $JOBNAME \\\n",
    "   --region=$REGION \\\n",
    "   --module-name=trainer.task \\\n",
    "   --package-path=nyc-taxifare-trainer/trainer \\\n",
    "   --job-dir=$OUTDIR \\\n",
    "   --staging-bucket=gs://stagging-ksalama-gcs-cloudml \\\n",
    "   --scale-tier=BASIC_GPU \\\n",
    "   --runtime-version=1.2 \\\n",
    "   #--config=nyc-taxifare-trainer/hyperparams.yaml \\\n",
    "   -- \\\n",
    "#    --train_data_paths=\"gs://${BUCKET}/data/nyc-taxifare/big/train*\" \\\n",
    "#    --eval_data_paths=\"gs://${BUCKET}/data/nyc-taxifare/big/valid*\"  \\\n",
    "   --train_data_paths=\"gs://${BUCKET}/data/nyc-taxifare/train-data.csv\" \\\n",
    "   --eval_data_paths=\"gs://${BUCKET}/data/nyc-taxifare/valid-data.csv\"  \\\n",
    "   --output_dir=$OUTDIR \\\n",
    "   --num_epochs=1000 --train_batch_size=10000 --nbuckets=16 --hidden_units=\"64 64 64 8\"\n",
    "   "
   ]
  },
  {
   "cell_type": "markdown",
   "metadata": {},
   "source": [
    "## Run ml-package on Google Cloud ML Engine (small data + standard cluster)"
   ]
  },
  {
   "cell_type": "code",
   "execution_count": null,
   "metadata": {
    "collapsed": false
   },
   "outputs": [],
   "source": [
    "%%bash\n",
    "\n",
    "OUTDIR=gs://${BUCKET}/ml-models/taxifare/dnn-combined-regression-small\n",
    "JOBNAME=train_taxifare_model_$(date -u +%y%m%d%H%M%S)\n",
    "\n",
    "echo $OUTDIR $REGION $JOBNAME\n",
    "gsutil -m rm -rf $OUTDIR\n",
    "gcloud ml-engine jobs submit training $JOBNAME \\\n",
    "   --region=$REGION \\\n",
    "   --module-name=trainer.task \\\n",
    "   --package-path=nyc-taxifare-trainer/trainer \\\n",
    "   --job-dir=$OUTDIR \\\n",
    "   --staging-bucket=gs://stagging-ksalama-gcs-cloudml \\\n",
    "   --scale-tier=STANDARD_1 \\\n",
    "   --runtime-version=1.2 \\\n",
    "   -- \\\n",
    "   --train_data_paths=\"gs://${BUCKET}/data/nyc-taxifare/train-data.csv\" \\\n",
    "   --eval_data_paths=\"gs://${BUCKET}/data/nyc-taxifare/valid-data.csv\"  \\\n",
    "   --output_dir=$OUTDIR \\\n",
    "   --num_epochs=10"
   ]
  },
  {
   "cell_type": "markdown",
   "metadata": {},
   "source": [
    "## Results comparison"
   ]
  },
  {
   "cell_type": "code",
   "execution_count": null,
   "metadata": {
    "collapsed": false
   },
   "outputs": [],
   "source": [
    "import pandas as pd\n",
    "import seaborn as sns\n",
    "import numpy as np\n",
    "import matplotlib.pyplot as plt\n",
    "%matplotlib inline\n",
    "\n",
    "df = pd.DataFrame({\n",
    "              'Method' : pd.Series(['Basline', 'Linear Reg', 'DNN', ' Comb DNN + Feature Eng', '+ Hyperparam Tuning', '+ Big Data']),\n",
    "              'RMSE': pd.Series([8.89, 11.15, 14.94, 7.9, 5.42, 3.01]) })\n",
    "\n",
    "plt.figure(figsize=(15, 8))\n",
    "ax = sns.barplot(data=df, x='Method', y='RMSE')\n",
    "ax.set_ylabel('RMSE (dollars)')\n",
    "ax.set_xlabel('Method')\n",
    "plt.plot(np.linspace(-20,120,1000), [7.9]*1000, 'b');"
   ]
  },
  {
   "cell_type": "code",
   "execution_count": null,
   "metadata": {
    "collapsed": true
   },
   "outputs": [],
   "source": []
  }
 ],
 "metadata": {
  "kernelspec": {
   "display_name": "Python 2",
   "language": "python",
   "name": "python2"
  },
  "language_info": {
   "codemirror_mode": {
    "name": "ipython",
    "version": 2
   },
   "file_extension": ".py",
   "mimetype": "text/x-python",
   "name": "python",
   "nbconvert_exporter": "python",
   "pygments_lexer": "ipython2",
   "version": "2.7.12"
  }
 },
 "nbformat": 4,
 "nbformat_minor": 2
}
