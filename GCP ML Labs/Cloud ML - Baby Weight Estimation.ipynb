{
 "cells": [
  {
   "cell_type": "markdown",
   "metadata": {},
   "source": [
    "## Structured data prediction using Cloud ML Engine \n",
    "\n",
    "This notebook illustrates:\n",
    "\n",
    "1. Exploring a BigQuery dataset using Datalab\n",
    "2. Creating datasets for Machine Learning using Dataflow\n",
    "3. Creating a model using the high-level Estimator API \n",
    "4. Training on Cloud ML Engine\n",
    "5. Deploying the model\n",
    "6. Predicting with the model"
   ]
  },
  {
   "cell_type": "markdown",
   "metadata": {},
   "source": [
    "### Housekeeping "
   ]
  },
  {
   "cell_type": "code",
   "execution_count": 1,
   "metadata": {
    "collapsed": false
   },
   "outputs": [],
   "source": [
    "BUCKET = 'ksalama-gcs-cloudml'\n",
    "PROJECT = 'ksalama-gcp-playground'\n",
    "REGION = 'europe-west1'"
   ]
  },
  {
   "cell_type": "code",
   "execution_count": 2,
   "metadata": {
    "collapsed": false
   },
   "outputs": [],
   "source": [
    "import os\n",
    "os.environ['BUCKET'] = BUCKET\n",
    "os.environ['PROJECT'] = PROJECT\n",
    "os.environ['REGION'] = REGION"
   ]
  },
  {
   "cell_type": "code",
   "execution_count": 3,
   "metadata": {
    "collapsed": false
   },
   "outputs": [],
   "source": [
    "gcs_data_dir = 'gs://{0}/data/babyweight/'.format(BUCKET)\n",
    "gcs_model_dir = 'gs://{0}/ml-models/babyweight/'.format(BUCKET)"
   ]
  },
  {
   "cell_type": "code",
   "execution_count": 4,
   "metadata": {
    "collapsed": false
   },
   "outputs": [
    {
     "name": "stderr",
     "output_type": "stream",
     "text": [
      "CommandException: 1 files/objects could not be removed.\n",
      "Removing gs://ksalama-gcs-cloudml/data/babyweight/eval.csv-00000-of-00002#1506537239547176...\n",
      "Removing gs://ksalama-gcs-cloudml/data/babyweight/eval.csv-00001-of-00002#1506537239469603...\n",
      "Removing gs://ksalama-gcs-cloudml/data/babyweight/train.csv-00000-of-00003#1506537331152133...\n",
      "Removing gs://ksalama-gcs-cloudml/data/babyweight/train.csv-00001-of-00003#1506537331172788...\n",
      "Removing gs://ksalama-gcs-cloudml/data/babyweight/train.csv-00002-of-00003#1506537331033168...\n",
      "Removing gs://ksalama-gcs-cloudml/data/babyweight//live_demo/eval.csv-00000-of-00001#1506538723754493...\n",
      "/ [1 objects]                                                                   \r",
      "/ [2/25 objects]   8% Done                                                      \r",
      "Removing gs://ksalama-gcs-cloudml/data/babyweight//live_demo/tmp/staging/preprocess-babyweight-data-170927-185236.1506538357.055425/dataflow_python_sdk.tar#1506538360468799...\n",
      "Removing gs://ksalama-gcs-cloudml/data/babyweight//live_demo/train.csv-00000-of-00001#1506538711750791...\n",
      "Removing gs://ksalama-gcs-cloudml/data/babyweight/live_demo/#1506538369929429...\n",
      "Removing gs://ksalama-gcs-cloudml/data/babyweight/live_demo/tmp/#1506538371869340...\n",
      "Removing gs://ksalama-gcs-cloudml/data/babyweight/live_demo/tmp/preprocess-babyweight-data-170927-185236.1506538357.055425/#1506538374146873...\n",
      "/ [3/25 objects]  12% Done                                                      \r",
      "/ [4/25 objects]  16% Done                                                      \r",
      "/ [5/25 objects]  20% Done                                                      \r",
      "/ [6/25 objects]  24% Done                                                      \r",
      "Removing gs://ksalama-gcs-cloudml/data/babyweight/live_demo/tmp/preprocess-babyweight-data-170927-185236.1506538357.055425/dax-tmp-2017-09-27_11_52_40-5850160151908550598-S01-1-b55aea878d590f04/#1506538376475792...\n",
      "Removing gs://ksalama-gcs-cloudml/data/babyweight/live_demo/tmp/preprocess-babyweight-data-170927-185236.1506538357.055425/dax-tmp-2017-09-27_11_52_40-5850160151908550598-S01-2-b55aea878d59067f/#1506538379122378...\n",
      "Removing gs://ksalama-gcs-cloudml/data/babyweight/live_demo/tmp/preprocess-babyweight-data-170927-185236.1506538357.055425/dax-tmp-2017-09-27_11_52_40-5850160151908550598-S07-1-af7c55c7c3075994/#1506538712559020...\n",
      "Removing gs://ksalama-gcs-cloudml/data/babyweight/live_demo/tmp/preprocess-babyweight-data-170927-185236.1506538357.055425/dax-tmp-2017-09-27_11_52_40-5850160151908550598-S10-1-1e8fc8a3aff83ee0/#1506538376593454...\n",
      "/ [7/25 objects]  28% Done                                                      \r",
      "/ [8/25 objects]  32% Done                                                      \r",
      "/ [9/25 objects]  36% Done                                                      \r",
      "/ [10/25 objects]  40% Done                                                     \r",
      "/ [11/25 objects]  44% Done                                                     \r",
      "Removing gs://ksalama-gcs-cloudml/data/babyweight/live_demo/tmp/preprocess-babyweight-data-170927-185236.1506538357.055425/dax-tmp-2017-09-27_11_52_40-5850160151908550598-S10-2-1e8fc8a3aff83419/#1506538379252217...\n",
      "Removing gs://ksalama-gcs-cloudml/data/babyweight/live_demo/tmp/preprocess-babyweight-data-170927-185236.1506538357.055425/dax-tmp-2017-09-27_11_52_40-5850160151908550598-S16-1-4c3a72fda35006b9/#1506538700158676...\n",
      "Removing gs://ksalama-gcs-cloudml/data/babyweight/live_demo/tmp/preprocess-babyweight-data-170927-191722.1506539842.614969/#1506539857727820...\n",
      "Removing gs://ksalama-gcs-cloudml/data/babyweight/live_demo/tmp/staging/preprocess-babyweight-data-170927-191722.1506539842.614969/dataflow_python_sdk.tar#1506539849312907...\n",
      "/ [12/25 objects]  48% Done                                                     \r",
      "/ [13/25 objects]  52% Done                                                     \r",
      "/ [14/25 objects]  56% Done                                                     \r",
      "/ [15/25 objects]  60% Done                                                     \r",
      "Removing gs://ksalama-gcs-cloudml/data/babyweight/tmp/preprocess-babyweight-data-170927-180501.1506535501.913413/#1506535521032716...\n",
      "/ [16/25 objects]  64% Done                                                     \r",
      "Removing gs://ksalama-gcs-cloudml/data/babyweight/tmp/preprocess-babyweight-data-170927-181645.1506536205.260390/#1506536216875864...\n",
      "/ [17/25 objects]  68% Done                                                     \r",
      "Removing gs://ksalama-gcs-cloudml/data/babyweight/tmp/preprocess-babyweight-data-170927-182630.1506536790.893061/#1506536802991475...\n",
      "/ [18/25 objects]  72% Done                                                     \r",
      "Removing gs://ksalama-gcs-cloudml/data/babyweight/tmp/staging/preprocess-babyweight-data-170927-180501.1506535501.913413/dataflow_python_sdk.tar#1506535512906820...\n",
      "/ [19/25 objects]  76% Done                                                     \r",
      "Removing gs://ksalama-gcs-cloudml/data/babyweight/tmp/staging/preprocess-babyweight-data-170927-181645.1506536205.260390/dataflow_python_sdk.tar#1506536209221343...\n",
      "Removing gs://ksalama-gcs-cloudml/data/babyweight/tmp/staging/preprocess-babyweight-data-170927-182630.1506536790.893061/dataflow_python_sdk.tar#1506536794467428...\n",
      "/ [20/25 objects]  80% Done                                                     \r",
      "/ [21/25 objects]  84% Done                                                     \r",
      "/ [22/25 objects]  88% Done                                                     \r",
      "/ [23/25 objects]  92% Done                                                     \r",
      "/ [24/25 objects]  96% Done                                                     \r",
      "/ [25/25 objects] 100% Done                                                     \r\n",
      "Operation completed over 25 objects.                                             \n"
     ]
    }
   ],
   "source": [
    "%%bash\n",
    "\n",
    "gsutil -m rm -rf gs://ksalama-gcs-cloudml/ml-models/babyweight/*\n",
    "gsutil -m rm -rf gs://ksalama-gcs-cloudml/data/babyweight/*"
   ]
  },
  {
   "cell_type": "markdown",
   "metadata": {},
   "source": [
    "## Query data in BigQuery\n",
    "\n",
    "The data is natality data (record of births in the US). My goal is to predict the baby's weight given a number of factors about the pregnancy and the baby's mother.  Later, we will want to split the data into training and eval datasets. The hash of the year-month will be used for that."
   ]
  },
  {
   "cell_type": "code",
   "execution_count": 1,
   "metadata": {
    "collapsed": false
   },
   "outputs": [
    {
     "data": {
      "text/html": [
       "\n",
       "    <div class=\"bqtv\" id=\"1_150728569957\"><table><tr><th>mother_race</th><th>avg_weight</th><th>instance_Count</th></tr><tr><td>38</td><td>7.72896198835</td><td>9276</td></tr><tr><td>3</td><td>7.34278681713</td><td>286256</td></tr><tr><td>1</td><td>7.33805926645</td><td>17948909</td></tr><tr><td>28</td><td>7.27510592201</td><td>62852</td></tr><tr><td>58</td><td>7.26597115586</td><td>2271</td></tr><tr><td>6</td><td>7.21173577677</td><td>19684</td></tr><tr><td>4</td><td>7.21122829707</td><td>201226</td></tr><tr><td>68</td><td>7.07605662112</td><td>117340</td></tr><tr><td>9</td><td>7.05189606183</td><td>134789</td></tr><tr><td>48</td><td>7.02306331938</td><td>80092</td></tr><tr><td>7</td><td>7.02088154685</td><td>182451</td></tr><tr><td>78</td><td>7.01025791858</td><td>212261</td></tr><tr><td>5</td><td>7.00678974156</td><td>47308</td></tr><tr><td>18</td><td>6.90085081377</td><td>188835</td></tr><tr><td>2</td><td>6.80597256392</td><td>3680750</td></tr></table></div>\n",
       "    <br />(rows: 15, time: 3.1s,     7GB processed, job: job_eBe3tRhzGg5uhpioB9LSYwt3tj2c)<br />\n",
       "    <script>\n",
       "\n",
       "      require.config({\n",
       "        paths: {\n",
       "          d3: '//cdnjs.cloudflare.com/ajax/libs/d3/3.4.13/d3',\n",
       "          plotly: 'https://cdn.plot.ly/plotly-1.5.1.min.js?noext',\n",
       "          jquery: '//ajax.googleapis.com/ajax/libs/jquery/2.0.0/jquery.min'\n",
       "        },\n",
       "        map: {\n",
       "          '*': {\n",
       "            datalab: 'nbextensions/gcpdatalab'\n",
       "          }\n",
       "        },\n",
       "        shim: {\n",
       "          plotly: {\n",
       "            deps: ['d3', 'jquery'],\n",
       "            exports: 'plotly'\n",
       "          }\n",
       "        }\n",
       "      });\n",
       "\n",
       "      require(['datalab/charting', 'datalab/element!1_150728569957', 'base/js/events',\n",
       "          'datalab/style!/nbextensions/gcpdatalab/charting.css'],\n",
       "        function(charts, dom, events) {\n",
       "          charts.render('gcharts', dom, events, 'table', [], {\"rows\": [{\"c\": [{\"v\": 38}, {\"v\": 7.728961988347787}, {\"v\": 9276}]}, {\"c\": [{\"v\": 3}, {\"v\": 7.3427868171324615}, {\"v\": 286256}]}, {\"c\": [{\"v\": 1}, {\"v\": 7.338059266452032}, {\"v\": 17948909}]}, {\"c\": [{\"v\": 28}, {\"v\": 7.275105922014942}, {\"v\": 62852}]}, {\"c\": [{\"v\": 58}, {\"v\": 7.2659711558568665}, {\"v\": 2271}]}, {\"c\": [{\"v\": 6}, {\"v\": 7.2117357767733195}, {\"v\": 19684}]}, {\"c\": [{\"v\": 4}, {\"v\": 7.211228297071025}, {\"v\": 201226}]}, {\"c\": [{\"v\": 68}, {\"v\": 7.076056621124945}, {\"v\": 117340}]}, {\"c\": [{\"v\": 9}, {\"v\": 7.051896061830331}, {\"v\": 134789}]}, {\"c\": [{\"v\": 48}, {\"v\": 7.023063319383994}, {\"v\": 80092}]}, {\"c\": [{\"v\": 7}, {\"v\": 7.020881546851925}, {\"v\": 182451}]}, {\"c\": [{\"v\": 78}, {\"v\": 7.010257918583763}, {\"v\": 212261}]}, {\"c\": [{\"v\": 5}, {\"v\": 7.0067897415649885}, {\"v\": 47308}]}, {\"c\": [{\"v\": 18}, {\"v\": 6.900850813768895}, {\"v\": 188835}]}, {\"c\": [{\"v\": 2}, {\"v\": 6.8059725639162565}, {\"v\": 3680750}]}], \"cols\": [{\"type\": \"number\", \"id\": \"mother_race\", \"label\": \"mother_race\"}, {\"type\": \"number\", \"id\": \"avg_weight\", \"label\": \"avg_weight\"}, {\"type\": \"number\", \"id\": \"instance_Count\", \"label\": \"instance_Count\"}]},\n",
       "            {\n",
       "              pageSize: 25,\n",
       "              cssClassNames:  {\n",
       "                tableRow: 'gchart-table-row',\n",
       "                headerRow: 'gchart-table-headerrow',\n",
       "                oddTableRow: 'gchart-table-oddrow',\n",
       "                selectedTableRow: 'gchart-table-selectedrow',\n",
       "                hoverTableRow: 'gchart-table-hoverrow',\n",
       "                tableCell: 'gchart-table-cell',\n",
       "                headerCell: 'gchart-table-headercell',\n",
       "                rowNumberCell: 'gchart-table-rownumcell'\n",
       "              }\n",
       "            },\n",
       "            {source_index: 0, fields: 'mother_race,avg_weight,instance_Count'},\n",
       "            0,\n",
       "            15);\n",
       "        }\n",
       "      );\n",
       "    </script>\n",
       "  "
      ],
      "text/plain": [
       "QueryResultsTable job_eBe3tRhzGg5uhpioB9LSYwt3tj2c"
      ]
     },
     "execution_count": 1,
     "metadata": {},
     "output_type": "execute_result"
    }
   ],
   "source": [
    "%%bq query\n",
    "\n",
    "SELECT\n",
    "  mother_race,\n",
    "  AVG(weight_pounds) avg_weight,\n",
    "  COUNT(weight_pounds) instance_Count\n",
    "FROM\n",
    "  `publicdata.samples.natality`\n",
    "WHERE \n",
    "    year > 2000\n",
    "AND weight_pounds > 0\n",
    "AND mother_age > 0\n",
    "AND plurality > 0\n",
    "AND gestation_weeks > 0\n",
    "AND month > 0\n",
    "AND mother_race is not null\n",
    "GROUP BY\n",
    "  mother_race\n",
    "ORDER BY\n",
    "  avg_weight DESC"
   ]
  },
  {
   "cell_type": "markdown",
   "metadata": {},
   "source": [
    "### Fetch data from BigQuery as a pandas dataframe"
   ]
  },
  {
   "cell_type": "code",
   "execution_count": 6,
   "metadata": {
    "collapsed": true
   },
   "outputs": [],
   "source": [
    "step_size = 100000"
   ]
  },
  {
   "cell_type": "code",
   "execution_count": 7,
   "metadata": {
    "collapsed": false
   },
   "outputs": [],
   "source": [
    "%sql --module query \n",
    "\n",
    "SELECT\n",
    "  weight_pounds,\n",
    "  is_male,\n",
    "  mother_age,\n",
    "  mother_race,\n",
    "  plurality,\n",
    "  gestation_weeks,\n",
    "  mother_married,\n",
    "  ever_born,\n",
    "  cigarette_use,\n",
    "  alcohol_use\n",
    "FROM\n",
    "  `publicdata.samples.natality`\n",
    "WHERE \n",
    "    year > 2000\n",
    "AND weight_pounds > 0\n",
    "AND mother_age > 0\n",
    "AND plurality > 0\n",
    "AND gestation_weeks > 0\n",
    "AND month > 0\n",
    "AND\n",
    "  MOD(ABS(FARM_FINGERPRINT(CONCAT(CAST(YEAR AS STRING), CAST(month AS STRING)))), 2) = 0\n",
    "LIMIT $STEP_SIZE"
   ]
  },
  {
   "cell_type": "code",
   "execution_count": 8,
   "metadata": {
    "collapsed": false
   },
   "outputs": [
    {
     "name": "stdout",
     "output_type": "stream",
     "text": [
      "Row count:100000\n"
     ]
    },
    {
     "data": {
      "text/html": [
       "<div>\n",
       "<table border=\"1\" class=\"dataframe\">\n",
       "  <thead>\n",
       "    <tr style=\"text-align: right;\">\n",
       "      <th></th>\n",
       "      <th>weight_pounds</th>\n",
       "      <th>is_male</th>\n",
       "      <th>mother_age</th>\n",
       "      <th>mother_race</th>\n",
       "      <th>plurality</th>\n",
       "      <th>gestation_weeks</th>\n",
       "      <th>mother_married</th>\n",
       "      <th>ever_born</th>\n",
       "      <th>cigarette_use</th>\n",
       "      <th>alcohol_use</th>\n",
       "    </tr>\n",
       "  </thead>\n",
       "  <tbody>\n",
       "    <tr>\n",
       "      <th>0</th>\n",
       "      <td>6.874013</td>\n",
       "      <td>False</td>\n",
       "      <td>13</td>\n",
       "      <td>None</td>\n",
       "      <td>1</td>\n",
       "      <td>40</td>\n",
       "      <td>False</td>\n",
       "      <td>1.0</td>\n",
       "      <td>None</td>\n",
       "      <td>None</td>\n",
       "    </tr>\n",
       "    <tr>\n",
       "      <th>1</th>\n",
       "      <td>7.859480</td>\n",
       "      <td>True</td>\n",
       "      <td>13</td>\n",
       "      <td>None</td>\n",
       "      <td>1</td>\n",
       "      <td>39</td>\n",
       "      <td>False</td>\n",
       "      <td>1.0</td>\n",
       "      <td>None</td>\n",
       "      <td>None</td>\n",
       "    </tr>\n",
       "    <tr>\n",
       "      <th>2</th>\n",
       "      <td>6.437498</td>\n",
       "      <td>False</td>\n",
       "      <td>13</td>\n",
       "      <td>None</td>\n",
       "      <td>1</td>\n",
       "      <td>37</td>\n",
       "      <td>False</td>\n",
       "      <td>1.0</td>\n",
       "      <td>None</td>\n",
       "      <td>None</td>\n",
       "    </tr>\n",
       "    <tr>\n",
       "      <th>3</th>\n",
       "      <td>1.999593</td>\n",
       "      <td>True</td>\n",
       "      <td>13</td>\n",
       "      <td>None</td>\n",
       "      <td>1</td>\n",
       "      <td>28</td>\n",
       "      <td>False</td>\n",
       "      <td>1.0</td>\n",
       "      <td>None</td>\n",
       "      <td>None</td>\n",
       "    </tr>\n",
       "    <tr>\n",
       "      <th>4</th>\n",
       "      <td>4.437905</td>\n",
       "      <td>True</td>\n",
       "      <td>13</td>\n",
       "      <td>None</td>\n",
       "      <td>1</td>\n",
       "      <td>34</td>\n",
       "      <td>False</td>\n",
       "      <td>1.0</td>\n",
       "      <td>None</td>\n",
       "      <td>None</td>\n",
       "    </tr>\n",
       "  </tbody>\n",
       "</table>\n",
       "</div>"
      ],
      "text/plain": [
       "   weight_pounds is_male  mother_age mother_race  plurality  gestation_weeks  \\\n",
       "0       6.874013   False          13        None          1               40   \n",
       "1       7.859480    True          13        None          1               39   \n",
       "2       6.437498   False          13        None          1               37   \n",
       "3       1.999593    True          13        None          1               28   \n",
       "4       4.437905    True          13        None          1               34   \n",
       "\n",
       "  mother_married  ever_born cigarette_use alcohol_use  \n",
       "0          False        1.0          None        None  \n",
       "1          False        1.0          None        None  \n",
       "2          False        1.0          None        None  \n",
       "3          False        1.0          None        None  \n",
       "4          False        1.0          None        None  "
      ]
     },
     "execution_count": 8,
     "metadata": {},
     "output_type": "execute_result"
    }
   ],
   "source": [
    "import datalab.bigquery as bq\n",
    "import sys\n",
    "data = bq.Query(query, STEP_SIZE = step_size).to_dataframe(dialect='standard')\n",
    "print('Row count:{}'.format(len(data)))\n",
    "data.head(5)"
   ]
  },
  {
   "cell_type": "code",
   "execution_count": 9,
   "metadata": {
    "collapsed": false
   },
   "outputs": [
    {
     "data": {
      "text/html": [
       "<div>\n",
       "<table border=\"1\" class=\"dataframe\">\n",
       "  <thead>\n",
       "    <tr style=\"text-align: right;\">\n",
       "      <th></th>\n",
       "      <th>weight_pounds</th>\n",
       "      <th>mother_age</th>\n",
       "      <th>plurality</th>\n",
       "      <th>gestation_weeks</th>\n",
       "      <th>ever_born</th>\n",
       "    </tr>\n",
       "  </thead>\n",
       "  <tbody>\n",
       "    <tr>\n",
       "      <th>count</th>\n",
       "      <td>100000.000000</td>\n",
       "      <td>100000.000000</td>\n",
       "      <td>100000.00000</td>\n",
       "      <td>100000.000000</td>\n",
       "      <td>99620.000000</td>\n",
       "    </tr>\n",
       "    <tr>\n",
       "      <th>mean</th>\n",
       "      <td>7.238451</td>\n",
       "      <td>27.378180</td>\n",
       "      <td>1.03463</td>\n",
       "      <td>38.625980</td>\n",
       "      <td>2.067256</td>\n",
       "    </tr>\n",
       "    <tr>\n",
       "      <th>std</th>\n",
       "      <td>1.321511</td>\n",
       "      <td>6.178278</td>\n",
       "      <td>0.19373</td>\n",
       "      <td>2.562416</td>\n",
       "      <td>1.240264</td>\n",
       "    </tr>\n",
       "    <tr>\n",
       "      <th>min</th>\n",
       "      <td>0.500449</td>\n",
       "      <td>13.000000</td>\n",
       "      <td>1.00000</td>\n",
       "      <td>17.000000</td>\n",
       "      <td>1.000000</td>\n",
       "    </tr>\n",
       "    <tr>\n",
       "      <th>25%</th>\n",
       "      <td>6.563162</td>\n",
       "      <td>22.000000</td>\n",
       "      <td>1.00000</td>\n",
       "      <td>38.000000</td>\n",
       "      <td>1.000000</td>\n",
       "    </tr>\n",
       "    <tr>\n",
       "      <th>50%</th>\n",
       "      <td>7.312733</td>\n",
       "      <td>27.000000</td>\n",
       "      <td>1.00000</td>\n",
       "      <td>39.000000</td>\n",
       "      <td>2.000000</td>\n",
       "    </tr>\n",
       "    <tr>\n",
       "      <th>75%</th>\n",
       "      <td>8.062305</td>\n",
       "      <td>32.000000</td>\n",
       "      <td>1.00000</td>\n",
       "      <td>40.000000</td>\n",
       "      <td>3.000000</td>\n",
       "    </tr>\n",
       "    <tr>\n",
       "      <th>max</th>\n",
       "      <td>14.374139</td>\n",
       "      <td>50.000000</td>\n",
       "      <td>5.00000</td>\n",
       "      <td>47.000000</td>\n",
       "      <td>18.000000</td>\n",
       "    </tr>\n",
       "  </tbody>\n",
       "</table>\n",
       "</div>"
      ],
      "text/plain": [
       "       weight_pounds     mother_age     plurality  gestation_weeks  \\\n",
       "count  100000.000000  100000.000000  100000.00000    100000.000000   \n",
       "mean        7.238451      27.378180       1.03463        38.625980   \n",
       "std         1.321511       6.178278       0.19373         2.562416   \n",
       "min         0.500449      13.000000       1.00000        17.000000   \n",
       "25%         6.563162      22.000000       1.00000        38.000000   \n",
       "50%         7.312733      27.000000       1.00000        39.000000   \n",
       "75%         8.062305      32.000000       1.00000        40.000000   \n",
       "max        14.374139      50.000000       5.00000        47.000000   \n",
       "\n",
       "          ever_born  \n",
       "count  99620.000000  \n",
       "mean       2.067256  \n",
       "std        1.240264  \n",
       "min        1.000000  \n",
       "25%        1.000000  \n",
       "50%        2.000000  \n",
       "75%        3.000000  \n",
       "max       18.000000  "
      ]
     },
     "execution_count": 9,
     "metadata": {},
     "output_type": "execute_result"
    }
   ],
   "source": [
    "data.describe()"
   ]
  },
  {
   "cell_type": "markdown",
   "metadata": {},
   "source": [
    "### Explore & Visualise"
   ]
  },
  {
   "cell_type": "code",
   "execution_count": 10,
   "metadata": {
    "collapsed": false
   },
   "outputs": [],
   "source": [
    "import seaborn as sns\n",
    "import matplotlib.pyplot as plt\n",
    "import numpy as np\n",
    "%matplotlib inline"
   ]
  },
  {
   "cell_type": "code",
   "execution_count": 11,
   "metadata": {
    "collapsed": false
   },
   "outputs": [
    {
     "data": {
      "image/png": "[encoded data removed]",
      "text/plain": [
       "<matplotlib.figure.Figure at 0x7f60ec806290>"
      ]
     },
     "metadata": {},
     "output_type": "display_data"
    }
   ],
   "source": [
    "plt.close('all')\n",
    "#plt.figure(figsize=(45, 25))\n",
    "plt.figure(figsize=(30, 15))\n",
    "\n",
    "# Baby Weight Distribution\n",
    "plt.subplot(2,3,1)\n",
    "plt.title(\"Baby Weight Histogram\")\n",
    "plt.hist(data.weight_pounds, bins=150)\n",
    "#plt.axis([0, 50, 0, 3500])\n",
    "plt.xlabel(\"Baby Weight Ranges\")\n",
    "plt.ylabel(\"Frequency\")\n",
    "# ---------------------------\n",
    "\n",
    "# Mother Age vs Baby Weight\n",
    "plt.subplot(2,3,2)\n",
    "plt.title(\"Mother Age vs Baby Weight\")\n",
    "plt.scatter(data.mother_age,data.weight_pounds)\n",
    "plt.xlabel(\"Mother Age\")\n",
    "plt.ylabel(\"Baby Weight\")\n",
    "# ---------------------------\n",
    "\n",
    "# Gestation Weeks vs Baby Weight\n",
    "plt.subplot(2,3,3)\n",
    "fit = np.polyfit(data.gestation_weeks,data.weight_pounds, deg=1)\n",
    "plt.plot(data.gestation_weeks, fit[0] * data.gestation_weeks + fit[1], color='red')\n",
    "plt.scatter(data.gestation_weeks, data.weight_pounds)\n",
    "plt.xlabel(\"Gestation Weeks\")\n",
    "plt.ylabel(\"Baby Weight\")\n",
    "\n",
    "#---------------------------\n",
    "\n",
    "# Is Male vs Baby Weight Boxplot\n",
    "plt.subplot(2,3,4)\n",
    "plt.title(\"Is Male vs Baby Weight\")\n",
    "\n",
    "is_male_values = list(data.is_male.value_counts().index.values)\n",
    "is_male_data = []\n",
    "for i in is_male_values:\n",
    "    is_male_data = is_male_data + [data.weight_pounds[data.is_male == i].values]\n",
    "\n",
    "plt.boxplot(is_male_data)\n",
    "plt.axis([0, 3, 4, 11])\n",
    "plt.xlabel(\"Is Male\")\n",
    "plt.ylabel(\"Baby Weight\")\n",
    "# ---------------------------\n",
    "\n",
    "# Mother Race vs Baby Weight Boxplot\n",
    "plt.subplot(2,3,5)\n",
    "plt.title(\"Mother Race vs Baby Weight\")\n",
    "\n",
    "race_values = list(data.mother_race.value_counts().index.values)\n",
    "race_data = []\n",
    "for i in race_values:\n",
    "    race_data = race_data + [data.weight_pounds[data.mother_race == i].values]\n",
    "\n",
    "plt.boxplot(race_data)\n",
    "plt.axis([0, 16, 4, 11])\n",
    "plt.xlabel(\"Mother Race\")\n",
    "plt.ylabel(\"Baby Weight\")\n",
    "\n",
    "# # ---------------------------\n",
    "\n",
    "plt.subplot(2,3,6)\n",
    "plt.title(\"Alcohol & Cigarette Use\")\n",
    "\n",
    "alch_use_values = list(data.alcohol_use.value_counts().index.values)\n",
    "cig_use_values = list(data.cigarette_use.value_counts().index.values)\n",
    "\n",
    "use_data = []\n",
    "labels = []\n",
    "\n",
    "for i in alch_use_values:\n",
    "    for j in cig_use_values:\n",
    "        labels = labels + ['alch-use:{} & cig-use:{}'.format(i,j)]\n",
    "        condition = (data.alcohol_use == i) & (data.cigarette_use == j)\n",
    "        values = data.weight_pounds[condition].values\n",
    "        if (len(values) > 0):\n",
    "            use_data = use_data + [len(values)]\n",
    "\n",
    "plt.pie(use_data)\n",
    "plt.legend(labels, loc=\"lower center\")\n",
    "\n",
    "plt.show()"
   ]
  },
  {
   "cell_type": "markdown",
   "metadata": {},
   "source": [
    "### Average Weight as a Baseline Estimator"
   ]
  },
  {
   "cell_type": "code",
   "execution_count": null,
   "metadata": {
    "collapsed": false
   },
   "outputs": [],
   "source": [
    "import numpy as np\n",
    "\n",
    "avg_weight = data.weight_pounds.mean()\n",
    "print(\"Average Weight: {}\".format(round(avg_weight,3)))\n",
    "rmse = np.sqrt(data.weight_pounds.map(lambda value: (value-avg_weight)**2).mean())\n",
    "print(\"RMSE: {}\".format(round(rmse,3)))"
   ]
  },
  {
   "cell_type": "markdown",
   "metadata": {},
   "source": [
    "### Create ML dataset using Dataflow\n",
    "\n",
    "Let's use Cloud Dataflow to read in the BigQuery data and write it out as CSV files. \n"
   ]
  },
  {
   "cell_type": "code",
   "execution_count": null,
   "metadata": {
    "collapsed": false
   },
   "outputs": [],
   "source": [
    "import apache_beam as beam\n",
    "import datetime\n",
    "\n",
    "dataset_size = 1000000\n",
    "train_size = dataset_size * 0.7\n",
    "eval_size = dataset_size * 0.3\n",
    "\n",
    "out_dir = gcs_data_dir + \"live_demo\"\n",
    "\n",
    "print(out_dir)\n",
    "\n",
    "def to_csv(rowdict):\n",
    "    # pull columns from BQ and create a line\n",
    "    import hashlib\n",
    "    import copy\n",
    "    CSV_COLUMNS = 'weight_pounds,is_male,mother_age,mother_race,plurality,gestation_weeks,mother_married,cigarette_use,alcohol_use'.split(',')\n",
    "    # modify opaque numeric race code into human-readable data\n",
    "    races = dict(zip([1,2,3,4,5,6,7,18,28,39,48],\n",
    "                     ['White', 'Black', 'American Indian', 'Chinese', \n",
    "                      'Japanese', 'Hawaiian', 'Filipino',\n",
    "                      'Asian Indian', 'Korean', 'Samaon', 'Vietnamese']))\n",
    "    result = copy.deepcopy(rowdict)\n",
    "    if 'mother_race' in rowdict and rowdict['mother_race'] in races:\n",
    "        result['mother_race'] = races[rowdict['mother_race']]\n",
    "    else:\n",
    "        result['mother_race'] = 'Unknown'\n",
    "    \n",
    "    data = ','.join([str(result[k]) if k in result else 'None' for k in CSV_COLUMNS])\n",
    "    key = hashlib.sha224(data).hexdigest()  # hash the columns to form a key\n",
    "    return str('{},{}'.format(data, key))\n",
    "  \n",
    "def run_pipeline():\n",
    "    \n",
    "    job_name = 'preprocess-babyweight-data' + '-' + datetime.datetime.now().strftime('%y%m%d-%H%M%S')\n",
    "    print 'Launching Dataflow job {} ... hang on'.format(job_name)\n",
    "\n",
    "    options = {\n",
    "        'staging_location': os.path.join(out_dir, 'tmp', 'staging'),\n",
    "        'temp_location': os.path.join(out_dir, 'tmp'),\n",
    "        'job_name': job_name,\n",
    "        'project': PROJECT,\n",
    "        'teardown_policy': 'TEARDOWN_ALWAYS',\n",
    "        'no_save_main_session': True\n",
    "    }\n",
    "  \n",
    "    query = \"\"\"\n",
    "        SELECT\n",
    "          weight_pounds,\n",
    "          is_male,\n",
    "          mother_age,\n",
    "          mother_race,\n",
    "          plurality,\n",
    "          gestation_weeks,\n",
    "          mother_married,\n",
    "          ever_born,\n",
    "          cigarette_use,\n",
    "          alcohol_use,\n",
    "          FARM_FINGERPRINT(CONCAT(CAST(YEAR AS STRING), CAST(month AS STRING))) AS hashmonth\n",
    "        FROM\n",
    "          publicdata.samples.natality\n",
    "        WHERE year > 2000\n",
    "        AND weight_pounds > 0\n",
    "        AND mother_age > 0\n",
    "        AND plurality > 0\n",
    "        AND gestation_weeks > 0\n",
    "        AND month > 0\n",
    "    \"\"\"\n",
    "  \n",
    "    opts = beam.pipeline.PipelineOptions(flags=[], **options)\n",
    "    RUNNER = 'DataflowRunner'\n",
    "  \n",
    "    p = beam.Pipeline(RUNNER, options=opts)\n",
    "    \n",
    "    for step in ['train', 'eval']:\n",
    "        if step == 'train':\n",
    "            source_query = 'SELECT * FROM ({}) WHERE MOD(hashmonth,4) < 3 LIMIT {}'.format(query,int(train_size))\n",
    "        else:\n",
    "            source_query = 'SELECT * FROM ({}) WHERE MOD(hashmonth,4) = 3 LIMIT {}'.format(query,int(eval_size))\n",
    "\n",
    "        (p \n",
    "           | '{} - Read from BigQuery'.format(step) >> beam.io.Read(beam.io.BigQuerySource(query=source_query, use_standard_sql=True))\n",
    "           | '{} - Process to CSV'.format(step) >> beam.Map(to_csv)\n",
    "           | '{} - Write to GCS '.format(step) >> beam.io.Write(beam.io.WriteToText(os.path.join(out_dir, '{}.csv'.format(step))))\n",
    "        )\n",
    "    \n",
    "   \n",
    "    job = p.run()"
   ]
  },
  {
   "cell_type": "markdown",
   "metadata": {},
   "source": [
    "## Run Dataflow Preprocessing Pipeline"
   ]
  },
  {
   "cell_type": "code",
   "execution_count": null,
   "metadata": {
    "collapsed": false
   },
   "outputs": [],
   "source": [
    "run_pipeline()"
   ]
  },
  {
   "cell_type": "code",
   "execution_count": null,
   "metadata": {
    "collapsed": false
   },
   "outputs": [],
   "source": [
    "%%bash\n",
    "\n",
    "gsutil cp gs://ksalama-gcs-cloudml/data/babyweight/train.csv-00000-* data/babyweight\n",
    "gsutil cp gs://ksalama-gcs-cloudml/data/babyweight/eval.csv-00000-* data/babyweight\n",
    "ls data/babyweight\n",
    "head -3 data/babyweight/train.csv-00000-of-00003\n",
    "wc -l data/babyweight/train.csv-00000-of-00003\n",
    "wc -l data/babyweight/eval.csv-00000-of-00002"
   ]
  },
  {
   "cell_type": "markdown",
   "metadata": {},
   "source": [
    "## Create TensorFlow DNN Regressor using Estimator API"
   ]
  },
  {
   "cell_type": "code",
   "execution_count": null,
   "metadata": {
    "collapsed": false
   },
   "outputs": [],
   "source": [
    "import tensorflow as tf\n",
    "print(tf.__version__)"
   ]
  },
  {
   "cell_type": "markdown",
   "metadata": {},
   "source": [
    "### 1 - Define Metadata &  Input Function"
   ]
  },
  {
   "cell_type": "code",
   "execution_count": null,
   "metadata": {
    "collapsed": false
   },
   "outputs": [],
   "source": [
    "HEADER = 'weight_pounds,is_male,mother_age,mother_race,plurality,gestation_weeks,mother_married,cigarette_use,alcohol_use,key'.split(',')\n",
    "TARGET_NAME = 'weight_pounds'\n",
    "KEY_COLUMN = 'key'\n",
    "DEFAULTS = [[0.0], ['null'], [0.0], ['null'], [0.0], [0.0], ['null'], ['null'], ['null'], ['nokey']]\n",
    "\n",
    "def csv_input_fn(filename, num_epochs=None, batch_size=512):\n",
    "    \n",
    "    input_file_names = tf.train.match_filenames_once(filename)\n",
    " \n",
    "    filename_queue = tf.train.string_input_producer(\n",
    "        input_file_names, num_epochs=num_epochs, shuffle=False)\n",
    "    \n",
    "    reader = tf.TextLineReader()\n",
    "    _, value = reader.read_up_to(filename_queue, num_records=batch_size)\n",
    "\n",
    "    value_column = tf.expand_dims(value, -1)\n",
    "    columns = tf.decode_csv(value_column, record_defaults=DEFAULTS)\n",
    "    \n",
    "    features = dict(zip(HEADER, columns))\n",
    "    \n",
    "    features.pop(KEY_COLUMN)\n",
    "    \n",
    "    target = features.pop(TARGET_NAME)    \n",
    "    \n",
    "    return features, target"
   ]
  },
  {
   "cell_type": "markdown",
   "metadata": {},
   "source": [
    "### 2 - Create Feature Columns"
   ]
  },
  {
   "cell_type": "code",
   "execution_count": null,
   "metadata": {
    "collapsed": false
   },
   "outputs": [],
   "source": [
    "def get_deep_and_wide_columns():\n",
    "    races = ['White', 'Black', 'American Indian', 'Chinese', \n",
    "               'Japanese', 'Hawaiian', 'Filipino', 'Unknown',\n",
    "               'Asian Indian', 'Korean', 'Samaon', 'Vietnamese']\n",
    "    \n",
    "    is_male,mother_age,mother_race,plurality,gestation_weeks,mother_married,cigarette_use,alcohol_use = [ \\\n",
    "        tf.feature_column.categorical_column_with_vocabulary_list('is_male', ['True', 'False']),\n",
    "        tf.feature_column.numeric_column('mother_age'),\n",
    "        tf.feature_column.categorical_column_with_vocabulary_list('mother_race', races),\n",
    "        tf.feature_column.numeric_column('plurality'),\n",
    "        tf.feature_column.numeric_column('gestation_weeks'),\n",
    "        tf.feature_column.categorical_column_with_vocabulary_list('mother_married', ['True', 'False']),\n",
    "        tf.feature_column.categorical_column_with_vocabulary_list('cigarette_use', ['True', 'False', 'None']),\n",
    "        tf.feature_column.categorical_column_with_vocabulary_list('alcohol_use', ['True', 'False', 'None'])\n",
    "        ]\n",
    "\n",
    "    wide_columns = [is_male, mother_race, plurality, mother_married, cigarette_use, alcohol_use]\n",
    "    deep_columns = [mother_age, gestation_weeks, tf.feature_column.embedding_column(mother_race, 3)]\n",
    "    \n",
    "    return wide_columns, deep_columns\n",
    "\n",
    "#get_deep_and_wide_columns()"
   ]
  },
  {
   "cell_type": "markdown",
   "metadata": {},
   "source": [
    "### 3 - Create a Regression Estimator"
   ]
  },
  {
   "cell_type": "code",
   "execution_count": null,
   "metadata": {
    "collapsed": false
   },
   "outputs": [],
   "source": [
    "def create_DNNLinearCombinedRegressor(run_config,hparams):\n",
    "  \n",
    "    wide_columns, deep_columns = get_deep_and_wide_columns()\n",
    "\n",
    "    dnn_optimizer = tf.train.AdamOptimizer()\n",
    "    \n",
    "    estimator = tf.contrib.learn.DNNLinearCombinedRegressor(\n",
    "                linear_feature_columns = wide_columns,\n",
    "                dnn_feature_columns = deep_columns,\n",
    "                dnn_optimizer=dnn_optimizer,\n",
    "                dnn_hidden_units=hparams.hidden_units,\n",
    "                config = run_config\n",
    "                )\n",
    "    \n",
    "    return estimator"
   ]
  },
  {
   "cell_type": "markdown",
   "metadata": {},
   "source": [
    "### 4 - Create Experiment"
   ]
  },
  {
   "cell_type": "code",
   "execution_count": null,
   "metadata": {
    "collapsed": false
   },
   "outputs": [],
   "source": [
    "train_data_files = \"data/babyweight/train.csv-00000-*\"\n",
    "eval_data_files = \"data/babyweight/eval.csv-00000-*\"\n",
    "\n",
    "def create_experiment(run_config,hparams):\n",
    "    \n",
    "    estimator = create_DNNLinearCombinedRegressor(run_config, hparams)\n",
    "    \n",
    "    evaluation_metrics={\n",
    "    'rmse': tf.contrib.learn.MetricSpec(metric_fn=tf.metrics.root_mean_squared_error)\n",
    "    }\n",
    "    \n",
    "    experiment =  tf.contrib.learn.Experiment(estimator = estimator, \n",
    "                                     train_steps = hparams.training_steps,\n",
    "                                     train_input_fn = lambda: csv_input_fn(train_data_files,\n",
    "                                                                           num_epochs=hparams.num_epochs,\n",
    "                                                                           batch_size = hparams.batch_size\n",
    "                                                                          ), \n",
    "                                     eval_input_fn =lambda: csv_input_fn(eval_data_files),\n",
    "                                     eval_metrics = evaluation_metrics\n",
    "                                    )\n",
    "    return experiment"
   ]
  },
  {
   "cell_type": "markdown",
   "metadata": {},
   "source": [
    "### 5 - Run Local Experiment"
   ]
  },
  {
   "cell_type": "code",
   "execution_count": null,
   "metadata": {
    "collapsed": false
   },
   "outputs": [],
   "source": [
    "import shutil\n",
    "\n",
    "# Set params\n",
    "hparams  = tf.contrib.training.HParams(training_steps=None,\n",
    "                                       num_epochs = 10,\n",
    "                                       batch_size = 1000,\n",
    "                                       hidden_units=[32, 16])\n",
    "\n",
    "\n",
    "local_model_dir = \"trained_models/babyweight_estimator\"\n",
    "shutil.rmtree(local_model_dir, ignore_errors=True)\n",
    "\n",
    "run_config = tf.contrib.learn.RunConfig(\n",
    "    model_dir=local_model_dir\n",
    ")\n",
    "\n",
    "# Run the experiment\n",
    "tf.logging.set_verbosity(tf.logging.INFO)\n",
    "tf.contrib.learn.learn_runner.run(experiment_fn = create_experiment, \n",
    "                               run_config = run_config,\n",
    "                               schedule=\"train_and_evaluate\",\n",
    "                               hparams=hparams)"
   ]
  },
  {
   "cell_type": "markdown",
   "metadata": {},
   "source": [
    "## Train the Model on Cloud ML Engine"
   ]
  },
  {
   "cell_type": "code",
   "execution_count": null,
   "metadata": {
    "collapsed": false
   },
   "outputs": [],
   "source": [
    "%%bash\n",
    "\n",
    "gsutil -m cp -r gs://ksalama-gcs-cloudml/ml-packages/babyweight ml-packages\n",
    "ls ml-packages/babyweight"
   ]
  },
  {
   "cell_type": "code",
   "execution_count": null,
   "metadata": {
    "collapsed": false
   },
   "outputs": [],
   "source": [
    "%%bash\n",
    "\n",
    "echo \"Submitting a Cloud ML Engine job...\"\n",
    "\n",
    "REGION=europe-west1\n",
    "TIER=BASIC # BASIC | BASIC_GPU | STANDARD_1 | PREMIUM_1\n",
    "BUCKET=ksalama-gcs-cloudml\n",
    "\n",
    "MODEL_NAME=\"babyweight_estimator\"\n",
    "\n",
    "PACKAGE_PATH=ml-packages/babyweight/trainer\n",
    "TRAIN_FILES=gs://${BUCKET}/data/babyweight/train.csv-00000-of-00003\n",
    "VALID_FILES=gs://${BUCKET}/data/babyweight/eval.csv-00000-of-00002\n",
    "MODEL_DIR=gs://${BUCKET}/trained-models/${MODEL_NAME}\n",
    "\n",
    "#remove model directory, if you don't want to resume training, or if you have changed the model structure\n",
    "#gsutil -m rm -r ${MODEL_DIR}\n",
    "\n",
    "CURRENT_DATE=`date +%Y%m%d_%H%M%S`\n",
    "JOB_NAME=train_${MODEL_NAME}_${CURRENT_DATE}\n",
    "\n",
    "gcloud ml-engine jobs submit training ${JOB_NAME} \\\n",
    "        --job-dir=${MODEL_DIR} \\\n",
    "        --runtime-version=1.2 \\\n",
    "        --region=${REGION} \\\n",
    "        --scale-tier=${TIER} \\\n",
    "        --module-name=trainer.task \\\n",
    "        --package-path=${PACKAGE_PATH} \\\n",
    "        -- \\\n",
    "        --train-files=${TRAIN_FILES} \\\n",
    "        --num-epochs=100 \\\n",
    "        --train-batch-size=1000 \\\n",
    "        --eval-files=${VALID_FILES} \\\n",
    "        --eval-batch-size=1000 \\\n",
    "        --learning-rate=0.001 \\\n",
    "        --hidden-units=\"64,0,0\" \\\n",
    "        --layer-sizes-scale-factor=0.5 \\\n",
    "        --num-layers=3 \\\n",
    "        --job-dir=${MODEL_DIR}"
   ]
  },
  {
   "cell_type": "markdown",
   "metadata": {},
   "source": [
    "## Train the Model on Cloud ML Engine + GPUs"
   ]
  },
  {
   "cell_type": "code",
   "execution_count": null,
   "metadata": {
    "collapsed": false
   },
   "outputs": [],
   "source": [
    "%%bash\n",
    "\n",
    "echo \"Submitting a Cloud ML Engine job...\"\n",
    "\n",
    "REGION=europe-west1\n",
    "TIER=BASIC_GPU # BASIC | BASIC_GPU | STANDARD_1 | PREMIUM_1\n",
    "BUCKET=ksalama-gcs-cloudml\n",
    "\n",
    "MODEL_NAME=\"babyweight_estimator\"\n",
    "\n",
    "PACKAGE_PATH=ml-packages/babyweight/trainer\n",
    "TRAIN_FILES=gs://${BUCKET}/data/babyweight/train.csv-00000-of-00003\n",
    "VALID_FILES=gs://${BUCKET}/data/babyweight/eval.csv-00000-of-00002\n",
    "MODEL_DIR=gs://${BUCKET}/trained-models/${MODEL_NAME}_${TIER}\n",
    "\n",
    "#remove model directory, if you don't want to resume training, or if you have changed the model structure\n",
    "#gsutil -m rm -r ${MODEL_DIR}\n",
    "\n",
    "CURRENT_DATE=`date +%Y%m%d_%H%M%S`\n",
    "JOB_NAME=train_${MODEL_NAME}_${TIER}_${CURRENT_DATE}\n",
    "\n",
    "gcloud ml-engine jobs submit training ${JOB_NAME} \\\n",
    "        --job-dir=${MODEL_DIR} \\\n",
    "        --runtime-version=1.2 \\\n",
    "        --region=${REGION} \\\n",
    "        --scale-tier=${TIER} \\\n",
    "        --module-name=trainer.task \\\n",
    "        --package-path=${PACKAGE_PATH} \\\n",
    "        -- \\\n",
    "        --train-files=${TRAIN_FILES} \\\n",
    "        --num-epochs=10 \\\n",
    "        --train-batch-size=1000 \\\n",
    "        --eval-files=${VALID_FILES} \\\n",
    "        --eval-batch-size=1000 \\\n",
    "        --learning-rate=0.01 \\\n",
    "        --hidden-units=\"64,0,0\" \\\n",
    "        --layer-sizes-scale-factor=0.5 \\\n",
    "        --num-layers=3 \\\n",
    "        --job-dir=${MODEL_DIR}"
   ]
  },
  {
   "cell_type": "markdown",
   "metadata": {},
   "source": [
    "## Train the Model on Cloud ML Engine + Custom GPUs Cluster"
   ]
  },
  {
   "cell_type": "code",
   "execution_count": null,
   "metadata": {
    "collapsed": false
   },
   "outputs": [],
   "source": [
    "# %%bash\n",
    "\n",
    "# echo \"Submitting a Cloud ML Engine job...\"\n",
    "\n",
    "# REGION=europe-west1\n",
    "# TIER=CUSTOM # BASIC | BASIC_GPU | STANDARD_1 | PREMIUM_1\n",
    "# BUCKET=ksalama-gcs-cloudml\n",
    "\n",
    "# MODEL_NAME=\"babyweight_estimator\"\n",
    "\n",
    "# PACKAGE_PATH=ml-packages/babyweight/trainer\n",
    "# TRAIN_FILES=gs://${BUCKET}/data/babyweight/train.csv-00000-of-00003\n",
    "# VALID_FILES=gs://${BUCKET}/data/babyweight/eval.csv-00000-of-00002\n",
    "# MODEL_DIR=gs://${BUCKET}/trained-models/${MODEL_NAME}_${TIER}\n",
    "\n",
    "# #remove model directory, if you don't want to resume training, or if you have changed the model structure\n",
    "# #gsutil -m rm -r ${MODEL_DIR}\n",
    "\n",
    "# CURRENT_DATE=`date +%Y%m%d_%H%M%S`\n",
    "# JOB_NAME=train_${MODEL_NAME}_${TIER}_${CURRENT_DATE}\n",
    "\n",
    "# gcloud ml-engine jobs submit training ${JOB_NAME} \\\n",
    "#         --job-dir=${MODEL_DIR} \\\n",
    "#         --runtime-version=1.2 \\\n",
    "#         --region=${REGION} \\\n",
    "#         --module-name=trainer.task \\\n",
    "#         --package-path=${PACKAGE_PATH} \\\n",
    "#         --config=ml-packages/babyweight/custom.yaml \\\n",
    "#         -- \\\n",
    "#         --train-files=${TRAIN_FILES} \\\n",
    "#         --num-epochs=100 \\\n",
    "#         --train-batch-size=1000 \\\n",
    "#         --eval-files=${VALID_FILES} \\\n",
    "#         --eval-batch-size=1000 \\\n",
    "#         --learning-rate=0.001 \\\n",
    "#         --hidden-units=\"64,0,0\" \\\n",
    "#         --layer-sizes-scale-factor=0.5 \\\n",
    "#         --num-layers=3 \\\n",
    "#         --job-dir=${MODEL_DIR}"
   ]
  },
  {
   "cell_type": "markdown",
   "metadata": {},
   "source": [
    "## Hyper-parameters Tuning on Cloud ML Engine"
   ]
  },
  {
   "cell_type": "code",
   "execution_count": null,
   "metadata": {
    "collapsed": false
   },
   "outputs": [],
   "source": [
    "%%bash\n",
    "\n",
    "echo \"Submitting a Cloud ML Engine job...\"\n",
    "\n",
    "REGION=europe-west1\n",
    "BUCKET=ksalama-gcs-cloudml\n",
    "\n",
    "MODEL_NAME=\"babyweight_estimator\"\n",
    "\n",
    "PACKAGE_PATH=ml-packages/babyweight/trainer\n",
    "TRAIN_FILES=gs://${BUCKET}/data/babyweight/train.csv-00000-of-00003\n",
    "VALID_FILES=gs://${BUCKET}/data/babyweight/eval.csv-00000-of-00002\n",
    "MODEL_DIR=gs://${BUCKET}/trained-models/${MODEL_NAME}_tune\n",
    "\n",
    "#remove model directory, if you don't want to resume training, or if you have changed the model structure\n",
    "#gsutil -m rm -r ${MODEL_DIR}\n",
    "\n",
    "CURRENT_DATE=`date +%Y%m%d_%H%M%S`\n",
    "JOB_NAME=tune_${MODEL_NAME}_${CURRENT_DATE}\n",
    "\n",
    "gcloud ml-engine jobs submit training ${JOB_NAME} \\\n",
    "        --job-dir=${MODEL_DIR} \\\n",
    "        --runtime-version=1.2 \\\n",
    "        --region=${REGION} \\\n",
    "        --module-name=trainer.task \\\n",
    "        --package-path=${PACKAGE_PATH} \\\n",
    "        --config=ml-packages/babyweight/hyperparams.yaml \\\n",
    "        -- \\\n",
    "        --train-files=${TRAIN_FILES} \\\n",
    "        --num-epochs=100 \\\n",
    "        --train-batch-size=1000 \\\n",
    "        --eval-files=${VALID_FILES} \\\n",
    "        --eval-batch-size=1000 \\\n",
    "        --job-dir=${MODEL_DIR}"
   ]
  },
  {
   "cell_type": "markdown",
   "metadata": {},
   "source": [
    "## Deploy the Model"
   ]
  },
  {
   "cell_type": "code",
   "execution_count": null,
   "metadata": {
    "collapsed": false
   },
   "outputs": [],
   "source": [
    "%%bash\n",
    "\n",
    "REGION=europe-west1\n",
    "BUCKET=ksalama-gcs-cloudml\n",
    "\n",
    "MODEL_NAME=\"babyweight_estimator\"\n",
    "MODEL_VERSION=\"v1\"\n",
    "\n",
    "MODEL_BINARIES=$(gsutil ls gs://${BUCKET}/trained-models/${MODEL_NAME}/export/Servo | tail -1)\n",
    "\n",
    "gsutil ls ${MODEL_BINARIES}\n",
    "\n",
    "# delete model version\n",
    "#gcloud ml-engine versions delete ${MODEL_VERSION} --model=${MODEL_NAME}\n",
    "\n",
    "# delete model\n",
    "#gcloud ml-engine models delete ${MODEL_NAME}\n",
    "\n",
    "# deploy model to GCP\n",
    "#gcloud ml-engine models create ${MODEL_NAME} --regions=${REGION}\n",
    "\n",
    "#deploy model version\n",
    "gcloud ml-engine versions create ${MODEL_VERSION} --model=${MODEL_NAME} --origin=${MODEL_BINARIES} --runtime-version=1.2\n",
    "\n",
    "echo  ${MODEL_NAME} ${MODEL_VERSION} \n",
    "# invoke deployed model to make prediction given new data instances\n",
    "gcloud ml-engine predict --model=${MODEL_NAME} --version=${MODEL_VERSION} --json-instances=data/babyweight/new-data.json"
   ]
  },
  {
   "cell_type": "markdown",
   "metadata": {},
   "source": [
    "## Consume the Model as API"
   ]
  },
  {
   "cell_type": "code",
   "execution_count": null,
   "metadata": {
    "collapsed": true
   },
   "outputs": [],
   "source": [
    "from googleapiclient import discovery\n",
    "from oauth2client.client import GoogleCredentials\n",
    "\n",
    "def estimate(project, model_name, version, instances):\n",
    "\n",
    "    credentials = GoogleCredentials.get_application_default()\n",
    "    api = discovery.build('ml', 'v1', credentials=credentials,\n",
    "                discoveryServiceUrl='https://storage.googleapis.com/cloud-ml/discovery/ml_v1_discovery.json')\n",
    "\n",
    "    request_data = {'instances': instances}\n",
    "\n",
    "    model_url = 'projects/{}/models/{}/versions/{}'.format(project, model_name, version)\n",
    "    response = api.projects().predict(body=request_data, name=model_url).execute()\n",
    "\n",
    "    estimates = list(map(lambda item: round(item[\"scores\"],2)\n",
    "        ,response[\"predictions\"]\n",
    "    ))\n",
    "\n",
    "    return estimates"
   ]
  },
  {
   "cell_type": "code",
   "execution_count": null,
   "metadata": {
    "collapsed": false
   },
   "outputs": [],
   "source": [
    "PROJECT='ksalama-gcp-playground'\n",
    "MODEL_NAME='babyweight_estimator'\n",
    "VERSION='v2'\n",
    "\n",
    "instances =  [\n",
    "      {\n",
    "        'is_male': 'True',\n",
    "        'mother_age': 26.0,\n",
    "        'mother_race': 'Asian Indian',\n",
    "        'plurality': 1.0,\n",
    "        'gestation_weeks': 39,\n",
    "        'mother_married': 'True',\n",
    "        'cigarette_use': 'False',\n",
    "        'alcohol_use': 'False'\n",
    "      },\n",
    "      {\n",
    "        'is_male': 'False',\n",
    "        'mother_age': 29.0,\n",
    "        'mother_race': 'Asian Indian',\n",
    "        'plurality': 1.0,\n",
    "        'gestation_weeks': 38,\n",
    "        'mother_married': 'True',\n",
    "        'cigarette_use': 'False',\n",
    "        'alcohol_use': 'False'\n",
    "      },\n",
    "      {\n",
    "        'is_male': 'True',\n",
    "        'mother_age': 26.0,\n",
    "        'mother_race': 'White',\n",
    "        'plurality': 1.0,\n",
    "        'gestation_weeks': 39,\n",
    "        'mother_married': 'True',\n",
    "        'cigarette_use': 'False',\n",
    "        'alcohol_use': 'False'\n",
    "      },\n",
    "      {\n",
    "        'is_male': 'True',\n",
    "        'mother_age': 26.0,\n",
    "        'mother_race': 'White',\n",
    "        'plurality': 2.0,\n",
    "        'gestation_weeks': 37,\n",
    "        'mother_married': 'True',\n",
    "        'cigarette_use': 'False',\n",
    "        'alcohol_use': 'False'\n",
    "      }\n",
    "  ]\n",
    "\n",
    "estimates = estimate(instances=instances\n",
    "                     ,project=PROJECT\n",
    "                     ,model_name=MODEL_NAME\n",
    "                     ,version=VERSION)\n",
    "\n",
    "print(estimates)"
   ]
  },
  {
   "cell_type": "markdown",
   "metadata": {},
   "source": [
    "### the end ..."
   ]
  },
  {
   "cell_type": "code",
   "execution_count": null,
   "metadata": {
    "collapsed": true
   },
   "outputs": [],
   "source": []
  }
 ],
 "metadata": {
  "kernelspec": {
   "display_name": "Python 2",
   "language": "python",
   "name": "python2"
  },
  "language_info": {
   "codemirror_mode": {
    "name": "ipython",
    "version": 2
   },
   "file_extension": ".py",
   "mimetype": "text/x-python",
   "name": "python",
   "nbconvert_exporter": "python",
   "pygments_lexer": "ipython2",
   "version": "2.7.12"
  }
 },
 "nbformat": 4,
 "nbformat_minor": 2
}
