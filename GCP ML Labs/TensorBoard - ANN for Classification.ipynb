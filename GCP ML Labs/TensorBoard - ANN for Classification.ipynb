{
 "cells": [
  {
   "cell_type": "code",
   "execution_count": 1,
   "metadata": {
    "collapsed": false
   },
   "outputs": [
    {
     "name": "stdout",
     "output_type": "stream",
     "text": [
      "1.2.0\n"
     ]
    }
   ],
   "source": [
    "import tensorflow as tf\n",
    "import numpy as np \n",
    "from sklearn import datasets\n",
    "from sklearn import model_selection\n",
    "import shutil\n",
    "print(tf.__version__)"
   ]
  },
  {
   "cell_type": "markdown",
   "metadata": {},
   "source": [
    "## Generate a Classification Dataset"
   ]
  },
  {
   "cell_type": "code",
   "execution_count": 2,
   "metadata": {
    "collapsed": false
   },
   "outputs": [
    {
     "name": "stdout",
     "output_type": "stream",
     "text": [
      "Training set size: 2500\n",
      "Validation set sie: 7500\n"
     ]
    }
   ],
   "source": [
    "n = 10000\n",
    "f = 20\n",
    "c = 4\n",
    "X, y = datasets.make_classification(n_classes=c,\n",
    "                                    n_features=f,\n",
    "                                    n_clusters_per_class=2,\n",
    "                                    n_informative=15,\n",
    "                                    n_samples=n,\n",
    "                                    random_state=250785)\n",
    "X_train, X_valid, y_train, y_valid = model_selection.train_test_split(X,y, test_size=0.75)\n",
    "print(\"Training set size: {}\".format(len(X_train)))\n",
    "print(\"Validation set sie: {}\".format(len(X_valid)))"
   ]
  },
  {
   "cell_type": "markdown",
   "metadata": {},
   "source": [
    "## Batch Generation Function"
   ]
  },
  {
   "cell_type": "code",
   "execution_count": 3,
   "metadata": {
    "collapsed": true
   },
   "outputs": [],
   "source": [
    "def get_batch(batch_size, batch_index, X,y):\n",
    "    start_index = batch_size * (batch_index-1) \n",
    "    end_index = batch_size*batch_index\n",
    "    X_batch = X[start_index:end_index,:]\n",
    "    y_batch = y[start_index:end_index]\n",
    "    return X_batch, y_batch"
   ]
  },
  {
   "cell_type": "markdown",
   "metadata": {},
   "source": [
    "## Direcotry Config"
   ]
  },
  {
   "cell_type": "code",
   "execution_count": 4,
   "metadata": {
    "collapsed": true
   },
   "outputs": [],
   "source": [
    "from datetime import datetime \n",
    "model_dir = \"gs://ksalama-gcs-cloudml/ml-models/demo-ann_classifier\"\n",
    "now = datetime.utcnow().strftime(\"%Y%m%d%H%M%S\") \n",
    "root_logdir = model_dir+\"/logs\"\n",
    "logdir = \"{}/run-{}/\".format(root_logdir, now)"
   ]
  },
  {
   "cell_type": "code",
   "execution_count": 5,
   "metadata": {
    "collapsed": false
   },
   "outputs": [
    {
     "name": "stderr",
     "output_type": "stream",
     "text": [
      "Removing gs://ksalama-gcs-cloudml/ml-models/demo-ann_classifier/logs/#1508074040237725...\n",
      "Removing gs://ksalama-gcs-cloudml/ml-models/demo-ann_classifier/logs/run-20171015132718/#1508074040383910...\n",
      "Removing gs://ksalama-gcs-cloudml/ml-models/demo-ann_classifier/logs/run-20171015132718/events.out.tfevents.1508074040.e507a7e75e04#1508074040873444...\n",
      "/ [1/3 objects]  33% Done                                                       \r",
      "/ [2/3 objects]  66% Done                                                       \r",
      "/ [3/3 objects] 100% Done                                                       \r\n",
      "Operation completed over 3 objects.                                              \n"
     ]
    }
   ],
   "source": [
    "%%bash\n",
    "\n",
    "gsutil -m rm -r gs://ksalama-gcs-cloudml/ml-models/demo-ann_classifier/logs"
   ]
  },
  {
   "cell_type": "markdown",
   "metadata": {},
   "source": [
    "## Model Training Function"
   ]
  },
  {
   "cell_type": "code",
   "execution_count": 6,
   "metadata": {
    "collapsed": false
   },
   "outputs": [],
   "source": [
    "def train_model(resume=True, epoch_count=10000, batch_size=500, learning_rate=0.001):\n",
    "  \n",
    "    print(\"run-{}\".format(now))\n",
    "    print(\"\")\n",
    "          \n",
    "    batch_count = int(np.ceil(n / batch_size))\n",
    "    \n",
    "    X = tf.placeholder(shape=(None,f),dtype=tf.float32,name=\"X\")\n",
    "    y = tf.placeholder(shape=(None),dtype=tf.int32,name=\"y\")\n",
    "    \n",
    "    with tf.name_scope(\"model\"): \n",
    "        hidden1 = tf.layers.dense(X, 16, name =\"hidden1\", activation = tf.nn.relu) \n",
    "        hidden2 = tf.layers.dense(hidden1, 8, name =\"hidden2\", activation = tf.nn.relu) \n",
    "        logits = tf.layers.dense(hidden2, c, name =\"logits\")\n",
    "\n",
    "    with tf.name_scope(\"loss\"): \n",
    "        xentropy = tf.nn.sparse_softmax_cross_entropy_with_logits(labels=y, logits=logits) \n",
    "        loss = tf.reduce_mean(xentropy, name=\"loss\")\n",
    "\n",
    "    with tf.name_scope(\"training\"): \n",
    "        optimizer = tf.train.GradientDescentOptimizer(learning_rate) \n",
    "        training = optimizer.minimize(loss)\n",
    "\n",
    "    with tf.name_scope(\"accuracy\"): \n",
    "        correct = tf.nn.in_top_k(logits, y, 1) \n",
    "        accuracy = tf.reduce_mean(tf.cast(correct, tf.float32))\n",
    "      \n",
    "    with tf.name_scope(\"summary\"): \n",
    "        accuracy_summary = tf.summary.scalar('ACCURACY', accuracy)\n",
    "        xentropy_summary = tf.summary.scalar('XENTROPY', loss)\n",
    "        summary = tf.summary.merge_all()\n",
    "    \n",
    "    file_writer = tf.summary.FileWriter(logdir, tf.get_default_graph())\n",
    "\n",
    "    init = tf.global_variables_initializer()\n",
    "    saver = tf.train.Saver() \n",
    "    \n",
    "    # start tensorflow session\n",
    "    with tf.Session() as session:\n",
    "        if resume:\n",
    "            saver.restore(session, model_dir+\"/model_final.ckpt\")\n",
    "        else:\n",
    "            init.run()\n",
    "            \n",
    "        # print initial accuracy measures for training and validation sets\n",
    "        train_init_accuray =  accuracy.eval(feed_dict={X: X_train, y:y_train})\n",
    "        print(\"Training Set Initial Accuray:{}{}\".format(round(float(train_init_accuray*100),2),\"%\"))\n",
    "        valid_init_accuray =  accuracy.eval(feed_dict={X: X_valid, y:y_valid})\n",
    "        print(\"Validation Set Initial Accuray:{}{}\".format(round(float(valid_init_accuray*100),2),\"%\"))\n",
    "        print(\"\")\n",
    "        \n",
    "        # strat training iterations\n",
    "        for epoch in range(1,epoch_count):\n",
    "          \n",
    "            for batch in range(1,batch_count):\n",
    "                X_batch, y_batch = get_batch(batch_size,batch, X_train, y_train)\n",
    "                session.run(training, feed_dict={X: X_batch, y:y_batch})\n",
    "          \n",
    "            if epoch % 500 == 0:\n",
    "          \n",
    "                step = (epoch*batch_count)+batch\n",
    "          \n",
    "                # print train and valid accuracy values at the current step\n",
    "                print(\"Step:{}\".format(step))\n",
    "                tain_accuracy_value =  accuracy.eval(feed_dict={X:X_train, y:y_train})\n",
    "                print(\"-- Tain Accuracy:{}{}\".format(round(float(tain_accuracy_value)*100,2),\"%\"))\n",
    "                valid_accuracy_value =  accuracy.eval(feed_dict={X:X_valid, y:y_valid})\n",
    "                print(\"-- Valid Accuracy:{}{}\".format(round(float(valid_accuracy_value)*100,2),\"%\"))\n",
    "                print(\"\")\n",
    "          \n",
    "                # write summary for tensorboard\n",
    "                summary_values = summary.eval(feed_dict={X:X_train, y:y_train})\n",
    "                file_writer.add_summary(summary_values, step)\n",
    "          \n",
    "                # save model checkpoint\n",
    "                #saver.save(session,model_dir+\"/model.ckpt\".format(epoch))\n",
    "        \n",
    "        # print final train and validation accuracy values\n",
    "        train_final_accuray =  accuracy.eval(feed_dict={X: X_train, y:y_train})\n",
    "        print(\"Training Set Final Accuray:{}{}\".format(round(float(train_final_accuray)*100,2),\"%\"))\n",
    "        valid_final_accuray =  accuracy.eval(feed_dict={X: X_valid, y:y_valid})\n",
    "        print(\"Validation Set Final Accuray:{}{}\".format(round(float(valid_final_accuray)*100,2),\"%\"))\n",
    "        print(\"\")\n",
    "       \n",
    "        \n",
    "        # save final model\n",
    "        save_path = saver.save(session, model_dir+\"/model_final.ckpt\")\n",
    "\n",
    "    file_writer.close()\n",
    "    print(\"Final model was saved in {}\".format(save_path))"
   ]
  },
  {
   "cell_type": "code",
   "execution_count": 7,
   "metadata": {
    "collapsed": false
   },
   "outputs": [
    {
     "name": "stdout",
     "output_type": "stream",
     "text": [
      "run-20171015132814\n",
      "\n",
      "Training Set Initial Accuray:26.72%\n",
      "Validation Set Initial Accuray:29.24%\n",
      "\n",
      "Step:10019\n",
      "-- Tain Accuracy:51.24%\n",
      "-- Valid Accuracy:50.4%\n",
      "\n",
      "Step:20019\n",
      "-- Tain Accuracy:59.28%\n",
      "-- Valid Accuracy:57.91%\n",
      "\n",
      "Step:30019\n",
      "-- Tain Accuracy:63.52%\n",
      "-- Valid Accuracy:61.84%\n",
      "\n",
      "Step:40019\n",
      "-- Tain Accuracy:65.96%\n",
      "-- Valid Accuracy:63.92%\n",
      "\n",
      "Step:50019\n",
      "-- Tain Accuracy:68.52%\n",
      "-- Valid Accuracy:65.56%\n",
      "\n",
      "Step:60019\n",
      "-- Tain Accuracy:69.8%\n",
      "-- Valid Accuracy:67.41%\n",
      "\n",
      "Step:70019\n",
      "-- Tain Accuracy:71.72%\n",
      "-- Valid Accuracy:68.87%\n",
      "\n",
      "Step:80019\n",
      "-- Tain Accuracy:72.52%\n",
      "-- Valid Accuracy:70.05%\n",
      "\n",
      "Step:90019\n",
      "-- Tain Accuracy:74.08%\n",
      "-- Valid Accuracy:71.25%\n",
      "\n",
      "Step:100019\n",
      "-- Tain Accuracy:75.12%\n",
      "-- Valid Accuracy:72.23%\n",
      "\n",
      "Step:110019\n",
      "-- Tain Accuracy:75.96%\n",
      "-- Valid Accuracy:73.09%\n",
      "\n",
      "Step:120019\n",
      "-- Tain Accuracy:76.88%\n",
      "-- Valid Accuracy:73.57%\n",
      "\n",
      "Step:130019\n",
      "-- Tain Accuracy:77.56%\n",
      "-- Valid Accuracy:74.21%\n",
      "\n",
      "Step:140019\n",
      "-- Tain Accuracy:78.08%\n",
      "-- Valid Accuracy:74.92%\n",
      "\n",
      "Step:150019\n",
      "-- Tain Accuracy:79.08%\n",
      "-- Valid Accuracy:75.77%\n",
      "\n",
      "Step:160019\n",
      "-- Tain Accuracy:80.0%\n",
      "-- Valid Accuracy:76.25%\n",
      "\n",
      "Step:170019\n",
      "-- Tain Accuracy:80.96%\n",
      "-- Valid Accuracy:76.64%\n",
      "\n",
      "Step:180019\n",
      "-- Tain Accuracy:81.4%\n",
      "-- Valid Accuracy:77.04%\n",
      "\n",
      "Step:190019\n",
      "-- Tain Accuracy:81.96%\n",
      "-- Valid Accuracy:77.37%\n",
      "\n",
      "Training Set Final Accuray:82.32%\n",
      "Validation Set Final Accuray:77.6%\n",
      "\n",
      "Final model was saved in gs://ksalama-gcs-cloudml/ml-models/demo-ann_classifier/model_final.ckpt\n"
     ]
    }
   ],
   "source": [
    "train_model(resume=False)"
   ]
  },
  {
   "cell_type": "code",
   "execution_count": null,
   "metadata": {
    "collapsed": true
   },
   "outputs": [],
   "source": []
  }
 ],
 "metadata": {
  "kernelspec": {
   "display_name": "Python 2",
   "language": "python",
   "name": "python2"
  },
  "language_info": {
   "codemirror_mode": {
    "name": "ipython",
    "version": 2
   },
   "file_extension": ".py",
   "mimetype": "text/x-python",
   "name": "python",
   "nbconvert_exporter": "python",
   "pygments_lexer": "ipython2",
   "version": "2.7.12"
  }
 },
 "nbformat": 4,
 "nbformat_minor": 2
}
