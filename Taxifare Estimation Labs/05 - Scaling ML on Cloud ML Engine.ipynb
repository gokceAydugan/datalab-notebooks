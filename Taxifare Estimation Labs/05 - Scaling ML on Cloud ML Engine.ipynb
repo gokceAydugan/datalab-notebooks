{
 "cells": [
  {
   "cell_type": "code",
   "execution_count": 1,
   "metadata": {
    "collapsed": false
   },
   "outputs": [
    {
     "name": "stdout",
     "output_type": "stream",
     "text": [
      "1.2.0\n"
     ]
    }
   ],
   "source": [
    "import tensorflow as tf\n",
    "import datetime\n",
    "import os\n",
    "print tf.__version__"
   ]
  },
  {
   "cell_type": "markdown",
   "metadata": {},
   "source": [
    "## Set gcloud commands' variables"
   ]
  },
  {
   "cell_type": "code",
   "execution_count": 2,
   "metadata": {
    "collapsed": false
   },
   "outputs": [],
   "source": [
    "PROJECT = 'ksalama-gcp-playground'\n",
    "BUCKET = 'ksalama-gcs-cloudml'\n",
    "REGION = 'europe-west1'\n",
    "CURRENT_DATE = datetime.datetime.now().strftime('%y%m%d%H%M%S') \n",
    "\n",
    "os.environ['PROJECT'] = PROJECT\n",
    "os.environ['BUCKET'] = BUCKET\n",
    "os.environ['REGION'] = REGION"
   ]
  },
  {
   "cell_type": "code",
   "execution_count": 3,
   "metadata": {
    "collapsed": false
   },
   "outputs": [
    {
     "name": "stdout",
     "output_type": "stream",
     "text": [
      "[compute]\n",
      "region = europe-west1\n",
      "[core]\n",
      "account = 538539525836-compute@developer.gserviceaccount.com\n",
      "disable_usage_reporting = True\n",
      "project = ksalama-gcp-playground\n"
     ]
    },
    {
     "name": "stderr",
     "output_type": "stream",
     "text": [
      "Updated property [core/project].\n",
      "Updated property [compute/region].\n",
      "\n",
      "Your active configuration is: [default]\n"
     ]
    }
   ],
   "source": [
    "%%bash\n",
    "gcloud config set project $PROJECT\n",
    "gcloud config set compute/region $REGION\n",
    "gcloud config list"
   ]
  },
  {
   "cell_type": "markdown",
   "metadata": {},
   "source": [
    "## Download the ml-package from GCS"
   ]
  },
  {
   "cell_type": "code",
   "execution_count": 3,
   "metadata": {
    "collapsed": false
   },
   "outputs": [
    {
     "name": "stdout",
     "output_type": "stream",
     "text": [
      "__init__.py\n",
      "model.py\n",
      "task.py\n"
     ]
    },
    {
     "name": "stderr",
     "output_type": "stream",
     "text": [
      "Copying gs://ksalama-gcs-cloudml/ml-packages/nyc-taxifare-trainer/hyperparams.yaml...\n",
      "/ [0 files][    0.0 B/  515.0 B]                                                \r",
      "Copying gs://ksalama-gcs-cloudml/ml-packages/nyc-taxifare-trainer/trainer/__init__.py...\n",
      "/ [0/5 files][    0.0 B/ 12.3 KiB]   0% Done                                    \r",
      "Copying gs://ksalama-gcs-cloudml/ml-packages/nyc-taxifare-trainer/trainer/model.py...\n",
      "/ [0/5 files][    0.0 B/ 12.3 KiB]   0% Done                                    \r",
      "Copying gs://ksalama-gcs-cloudml/ml-packages/nyc-taxifare-trainer/trainer/task.py...\n",
      "/ [0/5 files][    0.0 B/ 12.3 KiB]   0% Done                                    \r",
      "/ [1/5 files][  677.0 B/ 12.3 KiB]   5% Done                                    \r",
      "/ [2/5 files][  6.4 KiB/ 12.3 KiB]  52% Done                                    \r",
      "/ [3/5 files][ 12.3 KiB/ 12.3 KiB]  99% Done                                    \r",
      "/ [4/5 files][ 12.3 KiB/ 12.3 KiB]  99% Done                                    \r"
     ]
    }
   ],
   "source": [
    "%%bash\n",
    "rm -rf nyc-taxifare-trainer \n",
    "gsutil -m cp -r gs://$BUCKET/ml-packages/nyc-taxifare-trainer .\n",
    "ls nyc-taxifare-trainer/trainer"
   ]
  },
  {
   "cell_type": "markdown",
   "metadata": {},
   "source": [
    "## Run ml-package locally using gcloud ml-engine command"
   ]
  },
  {
   "cell_type": "code",
   "execution_count": null,
   "metadata": {
    "collapsed": false
   },
   "outputs": [],
   "source": [
    "# %%bash\n",
    "# rm -rf trained_models/dnn_combined_regression_model_gcloud\n",
    "\n",
    "# gcloud ml-engine local train \\\n",
    "#    --module-name=trainer.task \\\n",
    "#    --package-path=nyc-taxifare-trainer/trainer \\\n",
    "#    -- \\\n",
    "#    --train-files=../data/train-data.csv \\\n",
    "#    --eval-files=../data/test-data.csv  \\\n",
    "#    --num-epochs=2 \\\n",
    "#    --job-dir=../trained_models/dnn_combined_regression_model_gcloud"
   ]
  },
  {
   "cell_type": "markdown",
   "metadata": {},
   "source": [
    "## Run ml-package on Google Cloud ML Engine (big data + GPUs)"
   ]
  },
  {
   "cell_type": "code",
   "execution_count": 4,
   "metadata": {
    "collapsed": false
   },
   "outputs": [
    {
     "name": "stdout",
     "output_type": "stream",
     "text": [
      "gs://ksalama-gcs-cloudml/ml-models/taxifare/dnn-combined-regression-big-gpu europe-west1 train_taxifare_model_170928144453\n",
      "jobId: train_taxifare_model_170928144453\n",
      "state: QUEUED\n"
     ]
    },
    {
     "name": "stderr",
     "output_type": "stream",
     "text": [
      "Removing gs://ksalama-gcs-cloudml/ml-models/taxifare/dnn-combined-regression-big-gpu/#1506294278976496...\n",
      "Removing gs://ksalama-gcs-cloudml/ml-models/taxifare/dnn-combined-regression-big-gpu/checkpoint#1506294280214896...\n",
      "Removing gs://ksalama-gcs-cloudml/ml-models/taxifare/dnn-combined-regression-big-gpu/eval/#1506294197590364...\n",
      "Removing gs://ksalama-gcs-cloudml/ml-models/taxifare/dnn-combined-regression-big-gpu/eval/events.out.tfevents.1506294197.master-d774518f99-0-j6tqz#1506294198636598...\n",
      "Removing gs://ksalama-gcs-cloudml/ml-models/taxifare/dnn-combined-regression-big-gpu/eval/events.out.tfevents.1506294284.master-d774518f99-0-j6tqz#1506294285310756...\n",
      "Removing gs://ksalama-gcs-cloudml/ml-models/taxifare/dnn-combined-regression-big-gpu/events.out.tfevents.1506294183.master-d774518f99-0-j6tqz#1506294281255932...\n",
      "Removing gs://ksalama-gcs-cloudml/ml-models/taxifare/dnn-combined-regression-big-gpu/export/#1506294287837338...\n",
      "Removing gs://ksalama-gcs-cloudml/ml-models/taxifare/dnn-combined-regression-big-gpu/export/Servo/#1506294288085294...\n",
      "Removing gs://ksalama-gcs-cloudml/ml-models/taxifare/dnn-combined-regression-big-gpu/export/Servo/1506294286/#1506294288323572...\n",
      "Removing gs://ksalama-gcs-cloudml/ml-models/taxifare/dnn-combined-regression-big-gpu/export/Servo/1506294286/saved_model.pb#1506294291798436...\n",
      "/ [1/20 objects]   5% Done                                                      \r",
      "/ [2/20 objects]  10% Done                                                      \r",
      "/ [3/20 objects]  15% Done                                                      \r",
      "/ [4/20 objects]  20% Done                                                      \r",
      "/ [5/20 objects]  25% Done                                                      \r",
      "/ [6/20 objects]  30% Done                                                      \r",
      "Removing gs://ksalama-gcs-cloudml/ml-models/taxifare/dnn-combined-regression-big-gpu/export/Servo/1506294286/variables/#1506294290535811...\n",
      "Removing gs://ksalama-gcs-cloudml/ml-models/taxifare/dnn-combined-regression-big-gpu/export/Servo/1506294286/variables/variables.data-00000-of-00001#1506294290881282...\n",
      "/ [7/20 objects]  35% Done                                                      \r",
      "/ [8/20 objects]  40% Done                                                      \r",
      "/ [9/20 objects]  45% Done                                                      \r",
      "Removing gs://ksalama-gcs-cloudml/ml-models/taxifare/dnn-combined-regression-big-gpu/export/Servo/1506294286/variables/variables.index#1506294291208386...\n",
      "Removing gs://ksalama-gcs-cloudml/ml-models/taxifare/dnn-combined-regression-big-gpu/graph.pbtxt#1506294188667766...\n",
      "Removing gs://ksalama-gcs-cloudml/ml-models/taxifare/dnn-combined-regression-big-gpu/model.ckpt-2.data-00000-of-00001#1506294192064844...\n",
      "/ [10/20 objects]  50% Done                                                     \r",
      "Removing gs://ksalama-gcs-cloudml/ml-models/taxifare/dnn-combined-regression-big-gpu/model.ckpt-2.index#1506294192392428...\n",
      "/ [11/20 objects]  55% Done                                                     \r",
      "/ [12/20 objects]  60% Done                                                     \r",
      "Removing gs://ksalama-gcs-cloudml/ml-models/taxifare/dnn-combined-regression-big-gpu/model.ckpt-2.meta#1506294193953496...\n",
      "Removing gs://ksalama-gcs-cloudml/ml-models/taxifare/dnn-combined-regression-big-gpu/model.ckpt-400.data-00000-of-00001#1506294279431462...\n",
      "/ [13/20 objects]  65% Done                                                     \r",
      "/ [14/20 objects]  70% Done                                                     \r",
      "/ [15/20 objects]  75% Done                                                     \r",
      "Removing gs://ksalama-gcs-cloudml/ml-models/taxifare/dnn-combined-regression-big-gpu/model.ckpt-400.index#1506294279643100...\n",
      "Removing gs://ksalama-gcs-cloudml/ml-models/taxifare/dnn-combined-regression-big-gpu/model.ckpt-400.meta#1506294281035817...\n",
      "/ [16/20 objects]  80% Done                                                     \r",
      "/ [17/20 objects]  85% Done                                                     \r",
      "/ [18/20 objects]  90% Done                                                     \r",
      "/ [19/20 objects]  95% Done                                                     \r",
      "/ [20/20 objects] 100% Done                                                     \r\n",
      "Operation completed over 20 objects.                                             \n",
      "Job [train_taxifare_model_170928144453] submitted successfully.\n",
      "Your job is still active. You may view the status of your job with the command\n",
      "\n",
      "  $ gcloud ml-engine jobs describe train_taxifare_model_170928144453\n",
      "\n",
      "or continue streaming the logs with the command\n",
      "\n",
      "  $ gcloud ml-engine jobs stream-logs train_taxifare_model_170928144453\n",
      "bash: line 17: --: command not found\n",
      "bash: line 20: --train_data_paths=gs://ksalama-gcs-cloudml/data/nyc-taxifare/train-data.csv: No such file or directory\n"
     ]
    }
   ],
   "source": [
    "%%bash\n",
    "\n",
    "OUTDIR=gs://${BUCKET}/ml-models/taxifare/dnn-combined-regression-big-gpu\n",
    "JOBNAME=train_taxifare_model_$(date -u +%y%m%d%H%M%S)\n",
    "\n",
    "echo $OUTDIR $REGION $JOBNAME\n",
    "gsutil -m rm -rf $OUTDIR\n",
    "gcloud ml-engine jobs submit training $JOBNAME \\\n",
    "   --region=$REGION \\\n",
    "   --module-name=trainer.task \\\n",
    "   --package-path=nyc-taxifare-trainer/trainer \\\n",
    "   --job-dir=$OUTDIR \\\n",
    "   --staging-bucket=gs://stagging-ksalama-gcs-cloudml \\\n",
    "   --scale-tier=BASIC_GPU \\\n",
    "   --runtime-version=1.2 \\\n",
    "   #--config=nyc-taxifare-trainer/hyperparams.yaml \\\n",
    "   -- \\\n",
    "#    --train_data_paths=\"gs://${BUCKET}/data/nyc-taxifare/big/train*\" \\\n",
    "#    --eval_data_paths=\"gs://${BUCKET}/data/nyc-taxifare/big/valid*\"  \\\n",
    "   --train_data_paths=\"gs://${BUCKET}/data/nyc-taxifare/train-data.csv\" \\\n",
    "   --eval_data_paths=\"gs://${BUCKET}/data/nyc-taxifare/valid-data.csv\"  \\\n",
    "   --output_dir=$OUTDIR \\\n",
    "   --num_epochs=100 --train_batch_size=10000 --nbuckets=16 --hidden_units=\"64 64 64 8\"\n",
    "   "
   ]
  },
  {
   "cell_type": "markdown",
   "metadata": {},
   "source": [
    "## Run ml-package on Google Cloud ML Engine (small data + standard cluster)"
   ]
  },
  {
   "cell_type": "code",
   "execution_count": 8,
   "metadata": {
    "collapsed": false
   },
   "outputs": [
    {
     "name": "stdout",
     "output_type": "stream",
     "text": [
      "gs://ksalama-gcs-cloudml/ml-models/taxifare/dnn-combined-regression-small europe-west1 train_taxifare_model_170924225826\n",
      "jobId: train_taxifare_model_170924225826\n",
      "state: QUEUED\n"
     ]
    },
    {
     "name": "stderr",
     "output_type": "stream",
     "text": [
      "Removing gs://ksalama-gcs-cloudml/ml-models/taxifare/dnn-combined-regression-small/#1506293906953727...\n",
      "Removing gs://ksalama-gcs-cloudml/ml-models/taxifare/dnn-combined-regression-small/events.out.tfevents.1506293907.master-dc51f9d099-0-tcx2g#1506293907765985...\n",
      "/ [1/2 objects]  50% Done                                                       \r",
      "/ [2/2 objects] 100% Done                                                       \r\n",
      "Operation completed over 2 objects.                                              \n",
      "Job [train_taxifare_model_170924225826] submitted successfully.\n",
      "Your job is still active. You may view the status of your job with the command\n",
      "\n",
      "  $ gcloud ml-engine jobs describe train_taxifare_model_170924225826\n",
      "\n",
      "or continue streaming the logs with the command\n",
      "\n",
      "  $ gcloud ml-engine jobs stream-logs train_taxifare_model_170924225826\n"
     ]
    }
   ],
   "source": [
    "%%bash\n",
    "\n",
    "OUTDIR=gs://${BUCKET}/ml-models/taxifare/dnn-combined-regression-small\n",
    "JOBNAME=train_taxifare_model_$(date -u +%y%m%d%H%M%S)\n",
    "\n",
    "echo $OUTDIR $REGION $JOBNAME\n",
    "gsutil -m rm -rf $OUTDIR\n",
    "gcloud ml-engine jobs submit training $JOBNAME \\\n",
    "   --region=$REGION \\\n",
    "   --module-name=trainer.task \\\n",
    "   --package-path=nyc-taxifare-trainer/trainer \\\n",
    "   --job-dir=$OUTDIR \\\n",
    "   --staging-bucket=gs://stagging-ksalama-gcs-cloudml \\\n",
    "   --scale-tier=STANDARD_1 \\\n",
    "   --runtime-version=1.2 \\\n",
    "   #--config=nyc-taxifare-trainer/hyperparams.yaml \\\n",
    "   -- \\\n",
    "   --train_data_paths=\"gs://${BUCKET}/data/nyc-taxifare/train-data.csv\" \\\n",
    "   --eval_data_paths=\"gs://${BUCKET}/data/nyc-taxifare/valid-data.csv\"  \\\n",
    "   --output_dir=$OUTDIR \\\n",
    "   --num_epochs=10"
   ]
  },
  {
   "cell_type": "markdown",
   "metadata": {},
   "source": [
    "## Results comparison"
   ]
  },
  {
   "cell_type": "code",
   "execution_count": null,
   "metadata": {
    "collapsed": false
   },
   "outputs": [],
   "source": [
    "import pandas as pd\n",
    "import seaborn as sns\n",
    "import numpy as np\n",
    "import matplotlib.pyplot as plt\n",
    "%matplotlib inline\n",
    "\n",
    "df = pd.DataFrame({\n",
    "              'Method' : pd.Series(['Basline', 'Linear Reg', 'DNN', ' Comb DNN + Feature Eng', '+ Hyperparam Tuning', '+ Big Data']),\n",
    "              'RMSE': pd.Series([8.89, 11.15, 14.94, 8.1, 5.42, 3.01]) })\n",
    "\n",
    "plt.figure(figsize=(15, 8))\n",
    "ax = sns.barplot(data=df, x='Method', y='RMSE')\n",
    "ax.set_ylabel('RMSE (dollars)')\n",
    "ax.set_xlabel('Method')\n",
    "plt.plot(np.linspace(-20,120,1000), [8.1]*1000, 'b');"
   ]
  },
  {
   "cell_type": "code",
   "execution_count": null,
   "metadata": {
    "collapsed": true
   },
   "outputs": [],
   "source": []
  }
 ],
 "metadata": {
  "kernelspec": {
   "display_name": "Python 2",
   "language": "python",
   "name": "python2"
  },
  "language_info": {
   "codemirror_mode": {
    "name": "ipython",
    "version": 2
   },
   "file_extension": ".py",
   "mimetype": "text/x-python",
   "name": "python",
   "nbconvert_exporter": "python",
   "pygments_lexer": "ipython2",
   "version": "2.7.12"
  }
 },
 "nbformat": 4,
 "nbformat_minor": 2
}
