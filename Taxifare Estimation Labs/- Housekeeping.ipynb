{
 "cells": [
  {
   "cell_type": "code",
   "execution_count": null,
   "metadata": {
    "collapsed": false
   },
   "outputs": [],
   "source": [
    "%%bash\n",
    "\n",
    "#pip install -U tensorflow\n",
    "#pip install -U apache_beam\n",
    "#gsutil cp gs://dataflow-sdk-for-python/apache-beam-2.1.0.dev0-20170629.tar.gz .\n",
    "pip install apache-beam-2.1.0.dev0-20170629.tar.gz[gcp]"
   ]
  },
  {
   "cell_type": "code",
   "execution_count": null,
   "metadata": {
    "collapsed": false
   },
   "outputs": [],
   "source": [
    "import tensorflow as tf\n",
    "print(tf.__version__)"
   ]
  },
  {
   "cell_type": "code",
   "execution_count": null,
   "metadata": {
    "collapsed": false
   },
   "outputs": [],
   "source": [
    "%%bash\n",
    "\n",
    "#remove local models\n",
    "rm -rf trained_models/*\n",
    "\n",
    "#remove local datasets\n",
    "rm -rf datasets/*\n",
    "\n",
    "#remove gcs models\n",
    "gsutil -m rm -rf gs://ksalama-gcs-cloudml/ml-models/nyc-taxifare/*\n",
    "  \n",
    "#remove gcs big data\n",
    "gsutil -m rm -rf gs://ksalama-gcs-cloudml/data/nyc-taxifare/*"
   ]
  },
  {
   "cell_type": "code",
   "execution_count": null,
   "metadata": {
    "collapsed": true
   },
   "outputs": [],
   "source": []
  }
 ],
 "metadata": {
  "kernelspec": {
   "display_name": "Python 2",
   "language": "python",
   "name": "python2"
  },
  "language_info": {
   "codemirror_mode": {
    "name": "ipython",
    "version": 2
   },
   "file_extension": ".py",
   "mimetype": "text/x-python",
   "name": "python",
   "nbconvert_exporter": "python",
   "pygments_lexer": "ipython2",
   "version": "2.7.12"
  }
 },
 "nbformat": 4,
 "nbformat_minor": 2
}
