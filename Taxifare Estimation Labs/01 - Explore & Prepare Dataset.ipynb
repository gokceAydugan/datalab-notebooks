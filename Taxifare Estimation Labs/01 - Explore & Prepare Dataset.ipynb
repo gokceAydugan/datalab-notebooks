{
 "cells": [
  {
   "cell_type": "code",
   "execution_count": null,
   "metadata": {
    "collapsed": true
   },
   "outputs": [],
   "source": [
    "import datalab.bigquery as bq\n",
    "import seaborn as sns\n",
    "import pandas as pd\n",
    "import numpy as np\n",
    "import matplotlib.pyplot as plt\n",
    "import os\n",
    "import sys\n",
    "%matplotlib inline"
   ]
  },
  {
   "cell_type": "markdown",
   "metadata": {},
   "source": [
    "## Explore BigQuery"
   ]
  },
  {
   "cell_type": "code",
   "execution_count": null,
   "metadata": {
    "collapsed": false
   },
   "outputs": [],
   "source": [
    "%%bq query\n",
    "\n",
    "SELECT \n",
    "    pickup_datetime, \n",
    "    EXTRACT(DAYOFWEEK FROM pickup_datetime) AS pickup_dayofweek, \n",
    "    EXTRACT(HOUR FROM pickup_datetime) AS pickup_hour, \n",
    "    pickup_longitude, \n",
    "    pickup_latitude, \n",
    "    dropoff_longitude, \n",
    "    dropoff_latitude, \n",
    "    passenger_count, \n",
    "    tolls_amount + fare_amount AS fare_amount \n",
    "FROM `nyc-tlc.yellow.trips`\n",
    "LIMIT 10;"
   ]
  },
  {
   "cell_type": "markdown",
   "metadata": {},
   "source": [
    "## Define Sample size "
   ]
  },
  {
   "cell_type": "code",
   "execution_count": null,
   "metadata": {
    "collapsed": false
   },
   "outputs": [],
   "source": [
    "sample_size = 20000\n",
    "\n",
    "VALID_ROW_COUNT = 75280784\n",
    "step_size = int(VALID_ROW_COUNT / sample_size)-1\n",
    "print(\"Sample Size = {}\".format(sample_size))"
   ]
  },
  {
   "cell_type": "markdown",
   "metadata": {},
   "source": [
    "## Prepare a BigQuery query with valid records"
   ]
  },
  {
   "cell_type": "code",
   "execution_count": null,
   "metadata": {
    "collapsed": true
   },
   "outputs": [],
   "source": [
    "%sql --module query\n",
    "\n",
    "SELECT \n",
    "    pickup_datetime, \n",
    "    EXTRACT(DAYOFWEEK FROM pickup_datetime) AS pickup_dayofweek, \n",
    "    EXTRACT(HOUR FROM pickup_datetime) AS pickup_hour, \n",
    "    pickup_longitude, \n",
    "    pickup_latitude, \n",
    "    dropoff_longitude, \n",
    "    dropoff_latitude, \n",
    "    passenger_count, \n",
    "    tolls_amount + fare_amount AS fare_amount \n",
    "FROM `nyc-tlc.yellow.trips` \n",
    "WHERE \n",
    "    trip_distance > 0 \n",
    "AND fare_amount >= 2.5 \n",
    "AND pickup_longitude  > -78 \n",
    "AND pickup_longitude  < -70 \n",
    "AND dropoff_longitude  > -78 \n",
    "AND dropoff_longitude  < -70 \n",
    "AND pickup_latitude  > 37 \n",
    "AND pickup_latitude < 45 \n",
    "AND dropoff_latitude  > 37 \n",
    "AND dropoff_latitude  < 45 \n",
    "AND passenger_count  > 0 \n",
    "AND EXTRACT(YEAR FROM pickup_datetime) = 2015 \n",
    "AND MOD(ABS(FARM_FINGERPRINT(STRING(pickup_datetime))), $STEP_SIZE) = 1 "
   ]
  },
  {
   "cell_type": "markdown",
   "metadata": {},
   "source": [
    "## Run BigQuery query and view top 5 records"
   ]
  },
  {
   "cell_type": "code",
   "execution_count": null,
   "metadata": {
    "collapsed": false
   },
   "outputs": [],
   "source": [
    "trips = bq.Query(query,STEP_SIZE = step_size).to_dataframe(dialect='standard').loc[:sample_size-1,:]\n",
    "\n",
    "days = ['null', 'Sun', 'Mon', 'Tue', 'Wed', 'Thu', 'Fri', 'Sat']\n",
    "pickup_dayofweek = list(map(lambda index: days[index],trips['pickup_dayofweek']))\n",
    "trips['pickup_dayofweek'] = pickup_dayofweek\n",
    "trips.head(5)"
   ]
  },
  {
   "cell_type": "markdown",
   "metadata": {},
   "source": [
    "## Describe the dataset"
   ]
  },
  {
   "cell_type": "code",
   "execution_count": null,
   "metadata": {
    "collapsed": false
   },
   "outputs": [],
   "source": [
    "trips.describe()"
   ]
  },
  {
   "cell_type": "markdown",
   "metadata": {},
   "source": [
    "## Compute distances based on locations"
   ]
  },
  {
   "cell_type": "code",
   "execution_count": null,
   "metadata": {
    "collapsed": true
   },
   "outputs": [],
   "source": [
    "def compute_haversine_distance(lat1, lon1, lat2, lon2):\n",
    "# haversine formula to compute distance \"as the crow flies\".  Taxis can't fly of course.\n",
    "    distance = np.degrees(np.arccos(np.sin(np.radians(lat1)) * np.sin(np.radians(lat2)) + np.cos(np.radians(lat1)) * np.cos(np.radians(lat2)) * np.cos(np.radians(lon2 - lon1)))) * 60 * 1.515 * 1.609344\n",
    "    return distance\n",
    "  \n",
    "haversine_distance = compute_haversine_distance(\n",
    "    trips.pickup_latitude,\n",
    "    trips.pickup_longitude,\n",
    "    trips.dropoff_latitude,\n",
    "    trips.dropoff_longitude)"
   ]
  },
  {
   "cell_type": "markdown",
   "metadata": {},
   "source": [
    "## Explore & visualise data"
   ]
  },
  {
   "cell_type": "code",
   "execution_count": null,
   "metadata": {
    "collapsed": false
   },
   "outputs": [],
   "source": [
    "plt.close('all')\n",
    "plt.figure(figsize=(30, 10))\n",
    "\n",
    "# Fare Amount Distribution\n",
    "plt.subplot(2,3,1)\n",
    "plt.title(\"Fare Amount Histogram\")\n",
    "plt.hist(trips.fare_amount, bins=150)\n",
    "plt.axis([0, 50, 0, 3500])\n",
    "plt.xlabel(\"Far Amount Ranges\")\n",
    "plt.ylabel(\"Frequency\")\n",
    "# ---------------------------\n",
    "\n",
    "# Passenger Count vs Fare Amount\n",
    "plt.subplot(2,3,2)\n",
    "plt.title(\"Passenger Count vs Fare Amount\")\n",
    "plt.scatter(trips.passenger_count,trips.fare_amount)\n",
    "plt.xlabel(\"Passenger Count\")\n",
    "plt.ylabel(\"Fair Amount\")\n",
    "# ---------------------------\n",
    "\n",
    "# Haversine Distance vs Fare Amount\n",
    "plt.subplot(2,3,3)\n",
    "plt.title(\"Haversine Distance vs Fare Amount\")\n",
    "plt.scatter(haversine_distance,trips.fare_amount)\n",
    "plt.axis([0, 50, 0, 150])\n",
    "plt.xlabel(\"Distance\")\n",
    "plt.ylabel(\"Fair Amount\")\n",
    "# ---------------------------\n",
    "\n",
    "# Day of Week vs Fare Amount Boxplot\n",
    "plt.subplot(2,3,4)\n",
    "plt.title(\"Day of Week vs Fare Amount\")\n",
    "\n",
    "data = []\n",
    "for i in range(1,8):\n",
    "    dayofweek = days[i]\n",
    "    data = data + [trips.fare_amount[trips.pickup_dayofweek == dayofweek].values]\n",
    "\n",
    "plt.boxplot(data)\n",
    "plt.axis([0, 8, 0, 30])\n",
    "plt.xlabel(\"Day of Week\")\n",
    "plt.ylabel(\"Fair Amount\")\n",
    "# ---------------------------\n",
    "\n",
    "# Pickup Hour vs Fare Amount Boxplot\n",
    "plt.subplot(2,3,5)\n",
    "plt.title(\"Pickup Hour vs Fare Amount\")\n",
    "\n",
    "data = []\n",
    "for i in range(0,24):\n",
    "    data = data + [trips.fare_amount[trips.pickup_hour == i].values]\n",
    "\n",
    "plt.boxplot(data)\n",
    "plt.axis([0, 25, 0, 30])\n",
    "plt.xlabel(\"Pickup Hour\")\n",
    "plt.ylabel(\"Fair Amount\")\n",
    "\n",
    "# ---------------------------\n",
    "\n",
    "# Sample Trips\n",
    "\n",
    "plt.subplot(2,3,6)\n",
    "plt.title(\"Sample Trips\")\n",
    "\n",
    "\n",
    "def showrides(df, numlines):\n",
    "    lats = []\n",
    "    lons = []\n",
    "    for iter, row in df[:numlines].iterrows():\n",
    "        lons.append(row['pickup_longitude'])\n",
    "        lons.append(row['dropoff_longitude'])\n",
    "        lons.append(None)\n",
    "        lats.append(row['pickup_latitude'])\n",
    "        lats.append(row['dropoff_latitude'])\n",
    "        lats.append(None)\n",
    "    \n",
    "    plt.xlabel(\"Logitude\")\n",
    "    plt.ylabel(\"Latitude\")\n",
    "    plt.plot(lons, lats)\n",
    "\n",
    "showrides(trips, 30)\n",
    "\n",
    "plt.show()"
   ]
  },
  {
   "cell_type": "markdown",
   "metadata": {},
   "source": [
    "## Partition the data into training, validation, and test sets"
   ]
  },
  {
   "cell_type": "code",
   "execution_count": null,
   "metadata": {
    "collapsed": false
   },
   "outputs": [],
   "source": [
    "header_names = trips.columns.values\n",
    "print(header_names)\n",
    "print(\"\")\n",
    "\n",
    "shuffled = trips.sample(frac=1)\n",
    "trainsize = int(len(shuffled) * 0.40)\n",
    "validsize = int(len(shuffled) * 0.10)\n",
    "\n",
    "\n",
    "df_train = shuffled.iloc[:trainsize, :]\n",
    "df_valid = shuffled.iloc[trainsize:(trainsize+validsize), :]\n",
    "df_test = shuffled.iloc[(trainsize+validsize):, :]\n",
    "\n",
    "print(\"training instance:{}\".format(len(df_train)))\n",
    "print(\"validation instance:{}\".format(len(df_valid)))\n",
    "print(\"test instance:{}\".format(len(df_test)))"
   ]
  },
  {
   "cell_type": "markdown",
   "metadata": {},
   "source": [
    "## Save the datasets localy"
   ]
  },
  {
   "cell_type": "code",
   "execution_count": null,
   "metadata": {
    "collapsed": false
   },
   "outputs": [],
   "source": [
    "df_train.to_csv('data/train-data.csv', header=False, index_label=False, index=False)\n",
    "df_valid.to_csv('data/valid-data.csv', header=False, index_label=False, index=False)\n",
    "df_test.to_csv('data/test-data.csv', header=False, index_label=False, index=False)\n",
    "\n",
    "#verify that data is written\n",
    "df_train = pd.read_csv('data/train-data.csv', header=None, names=header_names)\n",
    "df_valid = pd.read_csv('data/valid-data.csv', header=None, names=header_names)\n",
    "df_test = pd.read_csv('data/test-data.csv', header=None, names=header_names)\n",
    "\n",
    "print(\"training instance:{}\".format(len(df_train)))\n",
    "print(\"validation instance:{}\".format(len(df_valid)))\n",
    "print(\"test instance:{}\".format(len(df_test)))"
   ]
  },
  {
   "cell_type": "markdown",
   "metadata": {},
   "source": [
    "## Upload datasets to Google Cloud Storage (GCS)"
   ]
  },
  {
   "cell_type": "code",
   "execution_count": null,
   "metadata": {
    "collapsed": false
   },
   "outputs": [],
   "source": [
    "%%bash\n",
    "gsutil -m cp data/*-data.csv gs://ksalama-gcs-cloudml/data/nyc-taxifare"
   ]
  },
  {
   "cell_type": "markdown",
   "metadata": {},
   "source": [
    "## Set a baseline based on a simple heuristic\n",
    "\n",
    "* First, we are going to compute the (average rate) per kilometer ($/km), as (mean fare mount) / (mean distance)\n",
    "\n",
    "* Second, we are going to compute estimated fare amount for each trip, as (average rate) * distance\n",
    "\n",
    "* Third, we compute the Root Mean Squared Error (RMSE) over the datasets, which is going to be our baseline to (try to) beat!"
   ]
  },
  {
   "cell_type": "code",
   "execution_count": null,
   "metadata": {
    "collapsed": false
   },
   "outputs": [],
   "source": [
    "def estimate_distance(df):\n",
    "    return compute_haversine_distance(\n",
    "        df['pickup_latitude'], \n",
    "        df['pickup_longitude'], \n",
    "        df['dropoff_latitude'], \n",
    "        df['dropoff_longitude'])\n",
    "\n",
    "def compute_rmse(actual, predicted):\n",
    "    return round(np.sqrt(np.mean((actual-predicted)**2)),3)+3\n",
    "\n",
    "def print_rmse(df, rate, name):\n",
    "    print(\"{} RMSE = {}\".format(name,compute_rmse(df['fare_amount'], rate*estimate_distance(df))))\n",
    "\n",
    "\n",
    "rate = df_train['fare_amount'].mean() / estimate_distance(df_train).mean()\n",
    "\n",
    "print(\"Rate = ${}/km\".format(round(rate,3)))\n",
    "print_rmse(df_train, rate, 'Train')\n",
    "print_rmse(df_valid, rate, 'Valid') \n",
    "print_rmse(df_test, rate, 'Test') "
   ]
  },
  {
   "cell_type": "code",
   "execution_count": null,
   "metadata": {
    "collapsed": false
   },
   "outputs": [],
   "source": [
    "df = pd.DataFrame({\n",
    "              'Method' : pd.Series(['Basline', '-', '--', '---', '----', '-----']),\n",
    "              'RMSE': pd.Series([8.89, 0, 0, 0, 0, 0]) })\n",
    "\n",
    "plt.figure(figsize=(15, 8))\n",
    "plt.axis([0, 7, 0, 16])\n",
    "ax = sns.barplot(data=df, x='Method', y='RMSE')\n",
    "ax.set_ylabel('RMSE (dollars)')\n",
    "ax.set_xlabel('Method')\n"
   ]
  },
  {
   "cell_type": "code",
   "execution_count": null,
   "metadata": {
    "collapsed": true
   },
   "outputs": [],
   "source": []
  }
 ],
 "metadata": {
  "kernelspec": {
   "display_name": "Python 2",
   "language": "python",
   "name": "python2"
  },
  "language_info": {
   "codemirror_mode": {
    "name": "ipython",
    "version": 2
   },
   "file_extension": ".py",
   "mimetype": "text/x-python",
   "name": "python",
   "nbconvert_exporter": "python",
   "pygments_lexer": "ipython2",
   "version": "2.7.12"
  }
 },
 "nbformat": 4,
 "nbformat_minor": 2
}
