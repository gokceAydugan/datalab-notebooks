{
 "cells": [
  {
   "cell_type": "code",
   "execution_count": 22,
   "metadata": {
    "collapsed": false
   },
   "outputs": [],
   "source": [
    "import time\n",
    "import datetime\n",
    "from google.cloud import pubsub\n",
    "import string\n",
    "import random\n",
    "import json\n",
    "import mysql.connector"
   ]
  },
  {
   "cell_type": "code",
   "execution_count": null,
   "metadata": {
    "collapsed": false
   },
   "outputs": [],
   "source": [
    "# %%bash \n",
    "# pip install -U google.cloud"
   ]
  },
  {
   "cell_type": "code",
   "execution_count": null,
   "metadata": {
    "collapsed": false
   },
   "outputs": [],
   "source": [
    "\n",
    "\n",
    "def create_connection():\n",
    "    connection = mysql.connector.connect(user='root', password='root',\n",
    "                                    host='23.251.142.177',\n",
    "                                    database='bts')\n",
    "    return connection\n",
    "\n",
    "def get_flight_event(index):\n",
    "  \n",
    "    query = \"SELECT ORIGIN,ORIGIN_AIRPORT_ID, FL_DATE,DEP_DELAY FROM flights LIMIT {};\".format(index)\n",
    "    print(query)\n",
    "    connection = create_connection()\n",
    "    cursor = connection.cursor()\n",
    "    cursor.execute(query)\n",
    "\n",
    "    data_row = {}\n",
    "    \n",
    "    for (ORIGIN,ORIGIN_AIRPORT_ID,FL_DATE,DEP_DELAY) in cursor:\n",
    "        data_row = {\"ORIGIN\":ORIGIN,\"ORIGIN_AIRPORT_ID\":ORIGIN_AIRPORT_ID,\"FL_DATE\":str(FL_DATE),\"DEP_DELAY\":DEP_DELAY}\n",
    "      \n",
    "    return data_row\n",
    " \n",
    "print(get_flight_event(20))\n",
    "\n"
   ]
  },
  {
   "cell_type": "code",
   "execution_count": null,
   "metadata": {
    "collapsed": false
   },
   "outputs": [],
   "source": [
    "TOPIC = \"flights\"\n",
    "TIME_FORMAT = '%Y-%m-%d %H:%M:%S'\n",
    "\n",
    "for i in range(1,10):\n",
    "\n",
    "    data = get_flight_event(i)\n",
    "\n",
    "    source_id = str(i)\n",
    "    source_timestamp = datetime.datetime.now().strftime(TIME_FORMAT)\n",
    "\n",
    "    client = pubsub.Client()\n",
    "    topic = client.topic(TOPIC)\n",
    "    if not topic.exists():\n",
    "        print ('Creating pub/sub topic {}'.format(TOPIC))\n",
    "        topic.create()\n",
    "    else:\n",
    "        print ('Reusing pub/sub topic {}'.format(TOPIC))\n",
    "\n",
    "    message = json.dumps(data)\n",
    "    topic.publish(message=message,source_id = source_id,source_timestamp=source_timestamp)\n",
    "\n",
    "    print(\"Message:{} was sent\".format(message))\n",
    "\n",
    "    time.sleep(1)"
   ]
  },
  {
   "cell_type": "code",
   "execution_count": 24,
   "metadata": {
    "collapsed": false
   },
   "outputs": [
    {
     "name": "stdout",
     "output_type": "stream",
     "text": [
      "+------------------------------------------------------------------------------------------------------------------------------+-----------------+--------------------------------------------------+\n",
      "|                                                             DATA                                                             |    MESSAGE_ID   |                    ATTRIBUTES                    |\n",
      "+------------------------------------------------------------------------------------------------------------------------------+-----------------+--------------------------------------------------+\n",
      "| eyJPUklHSU4iOiAiTUNPIiwgIkRFUF9ERUxBWSI6IC0xMS4wLCAiRkxfREFURSI6ICIyMDE1LTAxLTAxIiwgIk9SSUdJTl9BSVJQT1JUX0lEIjogIjEzMjA0In0= | 145872218559018 | source_id=1 source_timestamp=2017-08-29 12:30:54 |\n",
      "+------------------------------------------------------------------------------------------------------------------------------+-----------------+--------------------------------------------------+\n"
     ]
    }
   ],
   "source": [
    "%%bash\n",
    "\n",
    "gcloud beta pubsub subscriptions pull --auto-ack default-subscriber"
   ]
  },
  {
   "cell_type": "code",
   "execution_count": 32,
   "metadata": {
    "collapsed": false
   },
   "outputs": [
    {
     "name": "stdout",
     "output_type": "stream",
     "text": [
      "{\"ORIGIN\": \"SJU\", \"DEP_DELAY\": -11.0, \"FL_DATE\": \"2015-01-01\", \"ORIGIN_AIRPORT_ID\": \"14843\"}\n"
     ]
    }
   ],
   "source": [
    "client = pubsub.Client()\n",
    "topic = client.topic(TOPIC)\n",
    "subscription = topic.subscription(\"default-subscriber\")\n",
    "message = subscription.pull()\n",
    "print(message[0][1].data)"
   ]
  },
  {
   "cell_type": "code",
   "execution_count": null,
   "metadata": {
    "collapsed": true
   },
   "outputs": [],
   "source": []
  }
 ],
 "metadata": {
  "kernelspec": {
   "display_name": "Python 2",
   "language": "python",
   "name": "python2"
  },
  "language_info": {
   "codemirror_mode": {
    "name": "ipython",
    "version": 2
   },
   "file_extension": ".py",
   "mimetype": "text/x-python",
   "name": "python",
   "nbconvert_exporter": "python",
   "pygments_lexer": "ipython2",
   "version": "2.7.12"
  }
 },
 "nbformat": 4,
 "nbformat_minor": 2
}
